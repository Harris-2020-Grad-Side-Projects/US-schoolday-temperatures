{
 "cells": [
  {
   "cell_type": "markdown",
   "metadata": {},
   "source": [
    "MERRA2 US Gound Skin Temperature December 2020 (only one file of many shown here)\n",
    "Region: -125.42, 24.785, -66.709, 49.922\n",
    "\n",
    "-each file is one day (UTC 11:30 to 23:30)\n",
    "Date is in the file name e.g. \n",
    "MERRA2_400.tavg1_2d_slv_Nx.20201231.SUB.nc\n",
    "is 2020-12-31\n",
    "\n",
    "Data from:\n",
    "https://disc.gsfc.nasa.gov/datasets/M2T1NXSLV_5.12.4/summary \n",
    "\n",
    "TS (temperature) is a list of lists of lists\n",
    "outer: 13 lists one for each time\n",
    "next: 50 lists one for each lat\n",
    "inner: 95 temperatures one for each lon\n",
    "\n",
    "Current code is modeled after (copied from) \n",
    "GES DISC How Tos: How to calculate and plot wind speed using MERRA-2 wind component data using Python \n",
    "https://disc.gsfc.nasa.gov/information/howto?title=How%20to%20calculate%20and%20plot%20wind%20speed%20using%20MERRA-2%20wind%20component%20data%20using%20Python#! "
   ]
  },
  {
   "cell_type": "code",
   "execution_count": 362,
   "metadata": {},
   "outputs": [],
   "source": [
    "from netCDF4 import Dataset\n",
    "import numpy as np\n",
    "#import netCDF4"
   ]
  },
  {
   "cell_type": "code",
   "execution_count": 3,
   "metadata": {},
   "outputs": [],
   "source": [
    "import matplotlib.pyplot as plt\n",
    "import cartopy.crs as ccrs\n",
    "from cartopy.mpl.gridliner import LONGITUDE_FORMATTER, LATITUDE_FORMATTER\n",
    "import matplotlib.ticker as mticker"
   ]
  },
  {
   "cell_type": "code",
   "execution_count": 1,
   "metadata": {},
   "outputs": [],
   "source": [
    "import pandas as pd\n",
    "import xarray as xr\n",
    "import datetime"
   ]
  },
  {
   "cell_type": "code",
   "execution_count": 4,
   "metadata": {},
   "outputs": [],
   "source": [
    "import os"
   ]
  },
  {
   "cell_type": "code",
   "execution_count": 9,
   "metadata": {},
   "outputs": [
    {
     "data": {
      "text/plain": [
       "['.DS_Store',\n",
       " 'LICENSE',\n",
       " 'Read_MERRA2.ipynb',\n",
       " 'README.md',\n",
       " 'MERRA2_data',\n",
       " '.ipynb_checkpoints',\n",
       " '.git']"
      ]
     },
     "execution_count": 9,
     "metadata": {},
     "output_type": "execute_result"
    }
   ],
   "source": [
    "os.listdir()"
   ]
  },
  {
   "cell_type": "markdown",
   "metadata": {},
   "source": [
    "First Function will: \n",
    "Take netCDF data (one day subsetted by GES DISC)\n",
    "Output a pandas df with average daily temperature, daily minimum, hours below freezing and dummy for ever below freezing that day all in the time range of (local time) 8:30AM-3:30PM"
   ]
  },
  {
   "cell_type": "markdown",
   "metadata": {},
   "source": [
    "https://stackoverflow.com/questions/14035148/import-netcdf-file-to-pandas-dataframe\n",
    "import xarray as xr\n",
    "\n",
    "ds = xr.open_dataset('/path/to/netcdf')\n",
    "df = ds.to_dataframe()"
   ]
  },
  {
   "cell_type": "code",
   "execution_count": 298,
   "metadata": {},
   "outputs": [],
   "source": [
    "data_folder = 'MERRA2_data'\n",
    "filename = 'MERRA2_400.tavg1_2d_slv_Nx.20201203.SUB.nc'\n",
    "file = os.path.join(data_folder, filename)\n",
    "date = file[-15:-11]+\"-\"+file[-11:-9]+\"-\"+file[-9:-7]"
   ]
  },
  {
   "cell_type": "code",
   "execution_count": 299,
   "metadata": {},
   "outputs": [
    {
     "data": {
      "text/html": [
       "<div><svg style=\"position: absolute; width: 0; height: 0; overflow: hidden\">\n",
       "<defs>\n",
       "<symbol id=\"icon-database\" viewBox=\"0 0 32 32\">\n",
       "<path d=\"M16 0c-8.837 0-16 2.239-16 5v4c0 2.761 7.163 5 16 5s16-2.239 16-5v-4c0-2.761-7.163-5-16-5z\"></path>\n",
       "<path d=\"M16 17c-8.837 0-16-2.239-16-5v6c0 2.761 7.163 5 16 5s16-2.239 16-5v-6c0 2.761-7.163 5-16 5z\"></path>\n",
       "<path d=\"M16 26c-8.837 0-16-2.239-16-5v6c0 2.761 7.163 5 16 5s16-2.239 16-5v-6c0 2.761-7.163 5-16 5z\"></path>\n",
       "</symbol>\n",
       "<symbol id=\"icon-file-text2\" viewBox=\"0 0 32 32\">\n",
       "<path d=\"M28.681 7.159c-0.694-0.947-1.662-2.053-2.724-3.116s-2.169-2.030-3.116-2.724c-1.612-1.182-2.393-1.319-2.841-1.319h-15.5c-1.378 0-2.5 1.121-2.5 2.5v27c0 1.378 1.122 2.5 2.5 2.5h23c1.378 0 2.5-1.122 2.5-2.5v-19.5c0-0.448-0.137-1.23-1.319-2.841zM24.543 5.457c0.959 0.959 1.712 1.825 2.268 2.543h-4.811v-4.811c0.718 0.556 1.584 1.309 2.543 2.268zM28 29.5c0 0.271-0.229 0.5-0.5 0.5h-23c-0.271 0-0.5-0.229-0.5-0.5v-27c0-0.271 0.229-0.5 0.5-0.5 0 0 15.499-0 15.5 0v7c0 0.552 0.448 1 1 1h7v19.5z\"></path>\n",
       "<path d=\"M23 26h-14c-0.552 0-1-0.448-1-1s0.448-1 1-1h14c0.552 0 1 0.448 1 1s-0.448 1-1 1z\"></path>\n",
       "<path d=\"M23 22h-14c-0.552 0-1-0.448-1-1s0.448-1 1-1h14c0.552 0 1 0.448 1 1s-0.448 1-1 1z\"></path>\n",
       "<path d=\"M23 18h-14c-0.552 0-1-0.448-1-1s0.448-1 1-1h14c0.552 0 1 0.448 1 1s-0.448 1-1 1z\"></path>\n",
       "</symbol>\n",
       "</defs>\n",
       "</svg>\n",
       "<style>/* CSS stylesheet for displaying xarray objects in jupyterlab.\n",
       " *\n",
       " */\n",
       "\n",
       ":root {\n",
       "  --xr-font-color0: var(--jp-content-font-color0, rgba(0, 0, 0, 1));\n",
       "  --xr-font-color2: var(--jp-content-font-color2, rgba(0, 0, 0, 0.54));\n",
       "  --xr-font-color3: var(--jp-content-font-color3, rgba(0, 0, 0, 0.38));\n",
       "  --xr-border-color: var(--jp-border-color2, #e0e0e0);\n",
       "  --xr-disabled-color: var(--jp-layout-color3, #bdbdbd);\n",
       "  --xr-background-color: var(--jp-layout-color0, white);\n",
       "  --xr-background-color-row-even: var(--jp-layout-color1, white);\n",
       "  --xr-background-color-row-odd: var(--jp-layout-color2, #eeeeee);\n",
       "}\n",
       "\n",
       "html[theme=dark],\n",
       "body.vscode-dark {\n",
       "  --xr-font-color0: rgba(255, 255, 255, 1);\n",
       "  --xr-font-color2: rgba(255, 255, 255, 0.54);\n",
       "  --xr-font-color3: rgba(255, 255, 255, 0.38);\n",
       "  --xr-border-color: #1F1F1F;\n",
       "  --xr-disabled-color: #515151;\n",
       "  --xr-background-color: #111111;\n",
       "  --xr-background-color-row-even: #111111;\n",
       "  --xr-background-color-row-odd: #313131;\n",
       "}\n",
       "\n",
       ".xr-wrap {\n",
       "  display: block;\n",
       "  min-width: 300px;\n",
       "  max-width: 700px;\n",
       "}\n",
       "\n",
       ".xr-text-repr-fallback {\n",
       "  /* fallback to plain text repr when CSS is not injected (untrusted notebook) */\n",
       "  display: none;\n",
       "}\n",
       "\n",
       ".xr-header {\n",
       "  padding-top: 6px;\n",
       "  padding-bottom: 6px;\n",
       "  margin-bottom: 4px;\n",
       "  border-bottom: solid 1px var(--xr-border-color);\n",
       "}\n",
       "\n",
       ".xr-header > div,\n",
       ".xr-header > ul {\n",
       "  display: inline;\n",
       "  margin-top: 0;\n",
       "  margin-bottom: 0;\n",
       "}\n",
       "\n",
       ".xr-obj-type,\n",
       ".xr-array-name {\n",
       "  margin-left: 2px;\n",
       "  margin-right: 10px;\n",
       "}\n",
       "\n",
       ".xr-obj-type {\n",
       "  color: var(--xr-font-color2);\n",
       "}\n",
       "\n",
       ".xr-sections {\n",
       "  padding-left: 0 !important;\n",
       "  display: grid;\n",
       "  grid-template-columns: 150px auto auto 1fr 20px 20px;\n",
       "}\n",
       "\n",
       ".xr-section-item {\n",
       "  display: contents;\n",
       "}\n",
       "\n",
       ".xr-section-item input {\n",
       "  display: none;\n",
       "}\n",
       "\n",
       ".xr-section-item input + label {\n",
       "  color: var(--xr-disabled-color);\n",
       "}\n",
       "\n",
       ".xr-section-item input:enabled + label {\n",
       "  cursor: pointer;\n",
       "  color: var(--xr-font-color2);\n",
       "}\n",
       "\n",
       ".xr-section-item input:enabled + label:hover {\n",
       "  color: var(--xr-font-color0);\n",
       "}\n",
       "\n",
       ".xr-section-summary {\n",
       "  grid-column: 1;\n",
       "  color: var(--xr-font-color2);\n",
       "  font-weight: 500;\n",
       "}\n",
       "\n",
       ".xr-section-summary > span {\n",
       "  display: inline-block;\n",
       "  padding-left: 0.5em;\n",
       "}\n",
       "\n",
       ".xr-section-summary-in:disabled + label {\n",
       "  color: var(--xr-font-color2);\n",
       "}\n",
       "\n",
       ".xr-section-summary-in + label:before {\n",
       "  display: inline-block;\n",
       "  content: '►';\n",
       "  font-size: 11px;\n",
       "  width: 15px;\n",
       "  text-align: center;\n",
       "}\n",
       "\n",
       ".xr-section-summary-in:disabled + label:before {\n",
       "  color: var(--xr-disabled-color);\n",
       "}\n",
       "\n",
       ".xr-section-summary-in:checked + label:before {\n",
       "  content: '▼';\n",
       "}\n",
       "\n",
       ".xr-section-summary-in:checked + label > span {\n",
       "  display: none;\n",
       "}\n",
       "\n",
       ".xr-section-summary,\n",
       ".xr-section-inline-details {\n",
       "  padding-top: 4px;\n",
       "  padding-bottom: 4px;\n",
       "}\n",
       "\n",
       ".xr-section-inline-details {\n",
       "  grid-column: 2 / -1;\n",
       "}\n",
       "\n",
       ".xr-section-details {\n",
       "  display: none;\n",
       "  grid-column: 1 / -1;\n",
       "  margin-bottom: 5px;\n",
       "}\n",
       "\n",
       ".xr-section-summary-in:checked ~ .xr-section-details {\n",
       "  display: contents;\n",
       "}\n",
       "\n",
       ".xr-array-wrap {\n",
       "  grid-column: 1 / -1;\n",
       "  display: grid;\n",
       "  grid-template-columns: 20px auto;\n",
       "}\n",
       "\n",
       ".xr-array-wrap > label {\n",
       "  grid-column: 1;\n",
       "  vertical-align: top;\n",
       "}\n",
       "\n",
       ".xr-preview {\n",
       "  color: var(--xr-font-color3);\n",
       "}\n",
       "\n",
       ".xr-array-preview,\n",
       ".xr-array-data {\n",
       "  padding: 0 5px !important;\n",
       "  grid-column: 2;\n",
       "}\n",
       "\n",
       ".xr-array-data,\n",
       ".xr-array-in:checked ~ .xr-array-preview {\n",
       "  display: none;\n",
       "}\n",
       "\n",
       ".xr-array-in:checked ~ .xr-array-data,\n",
       ".xr-array-preview {\n",
       "  display: inline-block;\n",
       "}\n",
       "\n",
       ".xr-dim-list {\n",
       "  display: inline-block !important;\n",
       "  list-style: none;\n",
       "  padding: 0 !important;\n",
       "  margin: 0;\n",
       "}\n",
       "\n",
       ".xr-dim-list li {\n",
       "  display: inline-block;\n",
       "  padding: 0;\n",
       "  margin: 0;\n",
       "}\n",
       "\n",
       ".xr-dim-list:before {\n",
       "  content: '(';\n",
       "}\n",
       "\n",
       ".xr-dim-list:after {\n",
       "  content: ')';\n",
       "}\n",
       "\n",
       ".xr-dim-list li:not(:last-child):after {\n",
       "  content: ',';\n",
       "  padding-right: 5px;\n",
       "}\n",
       "\n",
       ".xr-has-index {\n",
       "  font-weight: bold;\n",
       "}\n",
       "\n",
       ".xr-var-list,\n",
       ".xr-var-item {\n",
       "  display: contents;\n",
       "}\n",
       "\n",
       ".xr-var-item > div,\n",
       ".xr-var-item label,\n",
       ".xr-var-item > .xr-var-name span {\n",
       "  background-color: var(--xr-background-color-row-even);\n",
       "  margin-bottom: 0;\n",
       "}\n",
       "\n",
       ".xr-var-item > .xr-var-name:hover span {\n",
       "  padding-right: 5px;\n",
       "}\n",
       "\n",
       ".xr-var-list > li:nth-child(odd) > div,\n",
       ".xr-var-list > li:nth-child(odd) > label,\n",
       ".xr-var-list > li:nth-child(odd) > .xr-var-name span {\n",
       "  background-color: var(--xr-background-color-row-odd);\n",
       "}\n",
       "\n",
       ".xr-var-name {\n",
       "  grid-column: 1;\n",
       "}\n",
       "\n",
       ".xr-var-dims {\n",
       "  grid-column: 2;\n",
       "}\n",
       "\n",
       ".xr-var-dtype {\n",
       "  grid-column: 3;\n",
       "  text-align: right;\n",
       "  color: var(--xr-font-color2);\n",
       "}\n",
       "\n",
       ".xr-var-preview {\n",
       "  grid-column: 4;\n",
       "}\n",
       "\n",
       ".xr-var-name,\n",
       ".xr-var-dims,\n",
       ".xr-var-dtype,\n",
       ".xr-preview,\n",
       ".xr-attrs dt {\n",
       "  white-space: nowrap;\n",
       "  overflow: hidden;\n",
       "  text-overflow: ellipsis;\n",
       "  padding-right: 10px;\n",
       "}\n",
       "\n",
       ".xr-var-name:hover,\n",
       ".xr-var-dims:hover,\n",
       ".xr-var-dtype:hover,\n",
       ".xr-attrs dt:hover {\n",
       "  overflow: visible;\n",
       "  width: auto;\n",
       "  z-index: 1;\n",
       "}\n",
       "\n",
       ".xr-var-attrs,\n",
       ".xr-var-data {\n",
       "  display: none;\n",
       "  background-color: var(--xr-background-color) !important;\n",
       "  padding-bottom: 5px !important;\n",
       "}\n",
       "\n",
       ".xr-var-attrs-in:checked ~ .xr-var-attrs,\n",
       ".xr-var-data-in:checked ~ .xr-var-data {\n",
       "  display: block;\n",
       "}\n",
       "\n",
       ".xr-var-data > table {\n",
       "  float: right;\n",
       "}\n",
       "\n",
       ".xr-var-name span,\n",
       ".xr-var-data,\n",
       ".xr-attrs {\n",
       "  padding-left: 25px !important;\n",
       "}\n",
       "\n",
       ".xr-attrs,\n",
       ".xr-var-attrs,\n",
       ".xr-var-data {\n",
       "  grid-column: 1 / -1;\n",
       "}\n",
       "\n",
       "dl.xr-attrs {\n",
       "  padding: 0;\n",
       "  margin: 0;\n",
       "  display: grid;\n",
       "  grid-template-columns: 125px auto;\n",
       "}\n",
       "\n",
       ".xr-attrs dt,\n",
       ".xr-attrs dd {\n",
       "  padding: 0;\n",
       "  margin: 0;\n",
       "  float: left;\n",
       "  padding-right: 10px;\n",
       "  width: auto;\n",
       "}\n",
       "\n",
       ".xr-attrs dt {\n",
       "  font-weight: normal;\n",
       "  grid-column: 1;\n",
       "}\n",
       "\n",
       ".xr-attrs dt:hover span {\n",
       "  display: inline-block;\n",
       "  background: var(--xr-background-color);\n",
       "  padding-right: 10px;\n",
       "}\n",
       "\n",
       ".xr-attrs dd {\n",
       "  grid-column: 2;\n",
       "  white-space: pre-wrap;\n",
       "  word-break: break-all;\n",
       "}\n",
       "\n",
       ".xr-icon-database,\n",
       ".xr-icon-file-text2 {\n",
       "  display: inline-block;\n",
       "  vertical-align: middle;\n",
       "  width: 1em;\n",
       "  height: 1.5em !important;\n",
       "  stroke-width: 0;\n",
       "  stroke: currentColor;\n",
       "  fill: currentColor;\n",
       "}\n",
       "</style><pre class='xr-text-repr-fallback'>&lt;xarray.Dataset&gt;\n",
       "Dimensions:  (lat: 50, lon: 94, time: 13)\n",
       "Coordinates:\n",
       "  * time     (time) datetime64[ns] 2020-12-03T11:30:00 ... 2020-12-03T23:30:00\n",
       "  * lon      (lon) float64 -125.0 -124.4 -123.8 -123.1 ... -68.12 -67.5 -66.88\n",
       "  * lat      (lat) float64 25.0 25.5 26.0 26.5 27.0 ... 47.5 48.0 48.5 49.0 49.5\n",
       "Data variables:\n",
       "    TS       (time, lat, lon) float32 294.9 294.7 294.5 ... 270.4 271.4 273.4\n",
       "Attributes:\n",
       "    CDI:                               Climate Data Interface version 1.9.8 (...\n",
       "    Conventions:                       CF-1\n",
       "    History:                           Original file generated: Thu Dec 17 04...\n",
       "    Comment:                           GMAO filename: d5124_m2_jan10.tavg1_2d...\n",
       "    Filename:                          MERRA2_400.tavg1_2d_slv_Nx.20201203.nc4\n",
       "    Institution:                       NASA Global Modeling and Assimilation ...\n",
       "    References:                        http://gmao.gsfc.nasa.gov\n",
       "    Format:                            NetCDF-4/HDF-5\n",
       "    SpatialCoverage:                   global\n",
       "    VersionID:                         5.12.4\n",
       "    TemporalRange:                     1980-01-01 -&gt; 2016-12-31\n",
       "    identifier_product_doi_authority:  http://dx.doi.org/\n",
       "    ShortName:                         M2T1NXSLV\n",
       "    GranuleID:                         MERRA2_400.tavg1_2d_slv_Nx.20201203.nc4\n",
       "    ProductionDateTime:                Original file generated: Thu Dec 17 04...\n",
       "    LongName:                          MERRA2 tavg1_2d_slv_Nx: 2d,1-Hourly,Ti...\n",
       "    Title:                             MERRA2 tavg1_2d_slv_Nx: 2d,1-Hourly,Ti...\n",
       "    SouthernmostLatitude:              -90.0\n",
       "    NorthernmostLatitude:              90.0\n",
       "    WesternmostLongitude:              -180.0\n",
       "    EasternmostLongitude:              179.375\n",
       "    LatitudeResolution:                0.5\n",
       "    LongitudeResolution:               0.625\n",
       "    DataResolution:                    0.5 x 0.625\n",
       "    Contact:                           http://gmao.gsfc.nasa.gov\n",
       "    identifier_product_doi:            10.5067/VJAFPLI1CSIV\n",
       "    RangeBeginningDate:                2020-12-03\n",
       "    RangeBeginningTime:                00:00:00.000000\n",
       "    RangeEndingDate:                   2020-12-03\n",
       "    RangeEndingTime:                   23:59:59.000000\n",
       "    history_L34RS:                     &#x27;Created by L34RS v1.4.1 @ NASA GES DI...\n",
       "    CDO:                               Climate Data Operators version 1.9.8 (...</pre><div class='xr-wrap' hidden><div class='xr-header'><div class='xr-obj-type'>xarray.Dataset</div></div><ul class='xr-sections'><li class='xr-section-item'><input id='section-b24120d6-ffb9-4264-9fd7-230866472563' class='xr-section-summary-in' type='checkbox' disabled ><label for='section-b24120d6-ffb9-4264-9fd7-230866472563' class='xr-section-summary'  title='Expand/collapse section'>Dimensions:</label><div class='xr-section-inline-details'><ul class='xr-dim-list'><li><span class='xr-has-index'>lat</span>: 50</li><li><span class='xr-has-index'>lon</span>: 94</li><li><span class='xr-has-index'>time</span>: 13</li></ul></div><div class='xr-section-details'></div></li><li class='xr-section-item'><input id='section-0a538c69-ddee-46f1-8829-c86f448d24d2' class='xr-section-summary-in' type='checkbox'  checked><label for='section-0a538c69-ddee-46f1-8829-c86f448d24d2' class='xr-section-summary' >Coordinates: <span>(3)</span></label><div class='xr-section-inline-details'></div><div class='xr-section-details'><ul class='xr-var-list'><li class='xr-var-item'><div class='xr-var-name'><span class='xr-has-index'>time</span></div><div class='xr-var-dims'>(time)</div><div class='xr-var-dtype'>datetime64[ns]</div><div class='xr-var-preview xr-preview'>2020-12-03T11:30:00 ... 2020-12-...</div><input id='attrs-252f3b0f-49e8-4b08-8cb5-f1490ce9c2cf' class='xr-var-attrs-in' type='checkbox' ><label for='attrs-252f3b0f-49e8-4b08-8cb5-f1490ce9c2cf' title='Show/Hide attributes'><svg class='icon xr-icon-file-text2'><use xlink:href='#icon-file-text2'></use></svg></label><input id='data-b921ff4b-7148-4249-9fe4-edff4f8ae9cb' class='xr-var-data-in' type='checkbox'><label for='data-b921ff4b-7148-4249-9fe4-edff4f8ae9cb' title='Show/Hide data repr'><svg class='icon xr-icon-database'><use xlink:href='#icon-database'></use></svg></label><div class='xr-var-attrs'><dl class='xr-attrs'><dt><span>standard_name :</span></dt><dd>time</dd><dt><span>long_name :</span></dt><dd>time</dd><dt><span>axis :</span></dt><dd>T</dd></dl></div><div class='xr-var-data'><pre>array([&#x27;2020-12-03T11:30:00.000000000&#x27;, &#x27;2020-12-03T12:30:00.000000000&#x27;,\n",
       "       &#x27;2020-12-03T13:30:00.000000000&#x27;, &#x27;2020-12-03T14:30:00.000000000&#x27;,\n",
       "       &#x27;2020-12-03T15:30:00.000000000&#x27;, &#x27;2020-12-03T16:30:00.000000000&#x27;,\n",
       "       &#x27;2020-12-03T17:30:00.000000000&#x27;, &#x27;2020-12-03T18:30:00.000000000&#x27;,\n",
       "       &#x27;2020-12-03T19:30:00.000000000&#x27;, &#x27;2020-12-03T20:30:00.000000000&#x27;,\n",
       "       &#x27;2020-12-03T21:30:00.000000000&#x27;, &#x27;2020-12-03T22:30:00.000000000&#x27;,\n",
       "       &#x27;2020-12-03T23:30:00.000000000&#x27;], dtype=&#x27;datetime64[ns]&#x27;)</pre></div></li><li class='xr-var-item'><div class='xr-var-name'><span class='xr-has-index'>lon</span></div><div class='xr-var-dims'>(lon)</div><div class='xr-var-dtype'>float64</div><div class='xr-var-preview xr-preview'>-125.0 -124.4 ... -67.5 -66.88</div><input id='attrs-28ad8213-f8da-4c76-ac9b-46a0b53d826b' class='xr-var-attrs-in' type='checkbox' ><label for='attrs-28ad8213-f8da-4c76-ac9b-46a0b53d826b' title='Show/Hide attributes'><svg class='icon xr-icon-file-text2'><use xlink:href='#icon-file-text2'></use></svg></label><input id='data-6ed37656-9b4c-4365-ba23-1e60fa9b457f' class='xr-var-data-in' type='checkbox'><label for='data-6ed37656-9b4c-4365-ba23-1e60fa9b457f' title='Show/Hide data repr'><svg class='icon xr-icon-database'><use xlink:href='#icon-database'></use></svg></label><div class='xr-var-attrs'><dl class='xr-attrs'><dt><span>standard_name :</span></dt><dd>longitude</dd><dt><span>long_name :</span></dt><dd>longitude</dd><dt><span>units :</span></dt><dd>degrees_east</dd><dt><span>axis :</span></dt><dd>X</dd></dl></div><div class='xr-var-data'><pre>array([-125.   , -124.375, -123.75 , -123.125, -122.5  , -121.875, -121.25 ,\n",
       "       -120.625, -120.   , -119.375, -118.75 , -118.125, -117.5  , -116.875,\n",
       "       -116.25 , -115.625, -115.   , -114.375, -113.75 , -113.125, -112.5  ,\n",
       "       -111.875, -111.25 , -110.625, -110.   , -109.375, -108.75 , -108.125,\n",
       "       -107.5  , -106.875, -106.25 , -105.625, -105.   , -104.375, -103.75 ,\n",
       "       -103.125, -102.5  , -101.875, -101.25 , -100.625, -100.   ,  -99.375,\n",
       "        -98.75 ,  -98.125,  -97.5  ,  -96.875,  -96.25 ,  -95.625,  -95.   ,\n",
       "        -94.375,  -93.75 ,  -93.125,  -92.5  ,  -91.875,  -91.25 ,  -90.625,\n",
       "        -90.   ,  -89.375,  -88.75 ,  -88.125,  -87.5  ,  -86.875,  -86.25 ,\n",
       "        -85.625,  -85.   ,  -84.375,  -83.75 ,  -83.125,  -82.5  ,  -81.875,\n",
       "        -81.25 ,  -80.625,  -80.   ,  -79.375,  -78.75 ,  -78.125,  -77.5  ,\n",
       "        -76.875,  -76.25 ,  -75.625,  -75.   ,  -74.375,  -73.75 ,  -73.125,\n",
       "        -72.5  ,  -71.875,  -71.25 ,  -70.625,  -70.   ,  -69.375,  -68.75 ,\n",
       "        -68.125,  -67.5  ,  -66.875])</pre></div></li><li class='xr-var-item'><div class='xr-var-name'><span class='xr-has-index'>lat</span></div><div class='xr-var-dims'>(lat)</div><div class='xr-var-dtype'>float64</div><div class='xr-var-preview xr-preview'>25.0 25.5 26.0 ... 48.5 49.0 49.5</div><input id='attrs-7e0e53fa-74b5-475a-ab7c-8647bcf1c4f2' class='xr-var-attrs-in' type='checkbox' ><label for='attrs-7e0e53fa-74b5-475a-ab7c-8647bcf1c4f2' title='Show/Hide attributes'><svg class='icon xr-icon-file-text2'><use xlink:href='#icon-file-text2'></use></svg></label><input id='data-ae91416b-2e7a-4707-a452-646ab6c9b86a' class='xr-var-data-in' type='checkbox'><label for='data-ae91416b-2e7a-4707-a452-646ab6c9b86a' title='Show/Hide data repr'><svg class='icon xr-icon-database'><use xlink:href='#icon-database'></use></svg></label><div class='xr-var-attrs'><dl class='xr-attrs'><dt><span>standard_name :</span></dt><dd>latitude</dd><dt><span>long_name :</span></dt><dd>latitude</dd><dt><span>units :</span></dt><dd>degrees_north</dd><dt><span>axis :</span></dt><dd>Y</dd></dl></div><div class='xr-var-data'><pre>array([25. , 25.5, 26. , 26.5, 27. , 27.5, 28. , 28.5, 29. , 29.5, 30. , 30.5,\n",
       "       31. , 31.5, 32. , 32.5, 33. , 33.5, 34. , 34.5, 35. , 35.5, 36. , 36.5,\n",
       "       37. , 37.5, 38. , 38.5, 39. , 39.5, 40. , 40.5, 41. , 41.5, 42. , 42.5,\n",
       "       43. , 43.5, 44. , 44.5, 45. , 45.5, 46. , 46.5, 47. , 47.5, 48. , 48.5,\n",
       "       49. , 49.5])</pre></div></li></ul></div></li><li class='xr-section-item'><input id='section-3aba6040-2e22-483a-9b7e-0c36dcdafb66' class='xr-section-summary-in' type='checkbox'  checked><label for='section-3aba6040-2e22-483a-9b7e-0c36dcdafb66' class='xr-section-summary' >Data variables: <span>(1)</span></label><div class='xr-section-inline-details'></div><div class='xr-section-details'><ul class='xr-var-list'><li class='xr-var-item'><div class='xr-var-name'><span>TS</span></div><div class='xr-var-dims'>(time, lat, lon)</div><div class='xr-var-dtype'>float32</div><div class='xr-var-preview xr-preview'>...</div><input id='attrs-e07195b7-37c6-4615-8765-00a139040b1e' class='xr-var-attrs-in' type='checkbox' ><label for='attrs-e07195b7-37c6-4615-8765-00a139040b1e' title='Show/Hide attributes'><svg class='icon xr-icon-file-text2'><use xlink:href='#icon-file-text2'></use></svg></label><input id='data-8e1307de-2516-4627-a283-822c0409a8bb' class='xr-var-data-in' type='checkbox'><label for='data-8e1307de-2516-4627-a283-822c0409a8bb' title='Show/Hide data repr'><svg class='icon xr-icon-database'><use xlink:href='#icon-database'></use></svg></label><div class='xr-var-attrs'><dl class='xr-attrs'><dt><span>standard_name :</span></dt><dd>surface_skin_temperature</dd><dt><span>long_name :</span></dt><dd>surface_skin_temperature</dd><dt><span>units :</span></dt><dd>K</dd><dt><span>fmissing_value :</span></dt><dd>1000000000000000.0</dd><dt><span>vmax :</span></dt><dd>1000000000000000.0</dd><dt><span>vmin :</span></dt><dd>-1000000000000000.0</dd></dl></div><div class='xr-var-data'><pre>array([[[294.8546 , 294.68274, ..., 299.62024, 299.51868],\n",
       "        [294.63586, 294.50305, ..., 299.2218 , 299.2296 ],\n",
       "        ...,\n",
       "        [275.96887, 273.30432, ..., 272.39404, 271.72192],\n",
       "        [273.54553, 277.52454, ..., 272.38416, 273.64465]],\n",
       "\n",
       "       [[294.85184, 294.67996, ..., 299.61746, 299.5159 ],\n",
       "        [294.62527, 294.49246, ..., 299.21902, 299.21902],\n",
       "        ...,\n",
       "        [276.09012, 273.56277, ..., 272.19217, 270.98856],\n",
       "        [273.67996, 277.66824, ..., 271.94028, 273.48416]],\n",
       "\n",
       "       ...,\n",
       "\n",
       "       [[294.8446 , 294.68054, ..., 299.62585, 299.45398],\n",
       "        [294.5868 , 294.50085, ..., 299.18835, 299.17273],\n",
       "        ...,\n",
       "        [278.56335, 276.50867, ..., 272.4286 , 271.8407 ],\n",
       "        [277.8407 , 280.11414, ..., 271.30945, 273.35046]],\n",
       "\n",
       "       [[294.83963, 294.67557, ..., 299.6287 , 299.4412 ],\n",
       "        [294.58182, 294.49588, ..., 299.1912 , 299.15994],\n",
       "        ...,\n",
       "        [278.6912 , 276.6287 , ..., 272.574  , 271.99393],\n",
       "        [277.7498 , 280.11307, ..., 271.35623, 273.4236 ]]], dtype=float32)</pre></div></li></ul></div></li><li class='xr-section-item'><input id='section-90940c29-52c9-4d13-8ad7-6b59d4578a0a' class='xr-section-summary-in' type='checkbox'  ><label for='section-90940c29-52c9-4d13-8ad7-6b59d4578a0a' class='xr-section-summary' >Attributes: <span>(32)</span></label><div class='xr-section-inline-details'></div><div class='xr-section-details'><dl class='xr-attrs'><dt><span>CDI :</span></dt><dd>Climate Data Interface version 1.9.8 (https://mpimet.mpg.de/cdi)</dd><dt><span>Conventions :</span></dt><dd>CF-1</dd><dt><span>History :</span></dt><dd>Original file generated: Thu Dec 17 04:51:39 2020 GMT</dd><dt><span>Comment :</span></dt><dd>GMAO filename: d5124_m2_jan10.tavg1_2d_slv_Nx.20201203.nc4</dd><dt><span>Filename :</span></dt><dd>MERRA2_400.tavg1_2d_slv_Nx.20201203.nc4</dd><dt><span>Institution :</span></dt><dd>NASA Global Modeling and Assimilation Office</dd><dt><span>References :</span></dt><dd>http://gmao.gsfc.nasa.gov</dd><dt><span>Format :</span></dt><dd>NetCDF-4/HDF-5</dd><dt><span>SpatialCoverage :</span></dt><dd>global</dd><dt><span>VersionID :</span></dt><dd>5.12.4</dd><dt><span>TemporalRange :</span></dt><dd>1980-01-01 -&gt; 2016-12-31</dd><dt><span>identifier_product_doi_authority :</span></dt><dd>http://dx.doi.org/</dd><dt><span>ShortName :</span></dt><dd>M2T1NXSLV</dd><dt><span>GranuleID :</span></dt><dd>MERRA2_400.tavg1_2d_slv_Nx.20201203.nc4</dd><dt><span>ProductionDateTime :</span></dt><dd>Original file generated: Thu Dec 17 04:51:39 2020 GMT</dd><dt><span>LongName :</span></dt><dd>MERRA2 tavg1_2d_slv_Nx: 2d,1-Hourly,Time-Averaged,Single-Level,Assimilation,Single-Level Diagnostics</dd><dt><span>Title :</span></dt><dd>MERRA2 tavg1_2d_slv_Nx: 2d,1-Hourly,Time-Averaged,Single-Level,Assimilation,Single-Level Diagnostics</dd><dt><span>SouthernmostLatitude :</span></dt><dd>-90.0</dd><dt><span>NorthernmostLatitude :</span></dt><dd>90.0</dd><dt><span>WesternmostLongitude :</span></dt><dd>-180.0</dd><dt><span>EasternmostLongitude :</span></dt><dd>179.375</dd><dt><span>LatitudeResolution :</span></dt><dd>0.5</dd><dt><span>LongitudeResolution :</span></dt><dd>0.625</dd><dt><span>DataResolution :</span></dt><dd>0.5 x 0.625</dd><dt><span>Contact :</span></dt><dd>http://gmao.gsfc.nasa.gov</dd><dt><span>identifier_product_doi :</span></dt><dd>10.5067/VJAFPLI1CSIV</dd><dt><span>RangeBeginningDate :</span></dt><dd>2020-12-03</dd><dt><span>RangeBeginningTime :</span></dt><dd>00:00:00.000000</dd><dt><span>RangeEndingDate :</span></dt><dd>2020-12-03</dd><dt><span>RangeEndingTime :</span></dt><dd>23:59:59.000000</dd><dt><span>history_L34RS :</span></dt><dd>&#x27;Created by L34RS v1.4.1 @ NASA GES DISC on January 24 2021 16:57:27. Spatial: -125.42 -66.709 24.785 49.922. Variables: TS. Timesteps: 12 13 14 15 16 17 18 19 20 21 22 23 24&#x27;</dd><dt><span>CDO :</span></dt><dd>Climate Data Operators version 1.9.8 (https://mpimet.mpg.de/cdo)</dd></dl></div></li></ul></div></div>"
      ],
      "text/plain": [
       "<xarray.Dataset>\n",
       "Dimensions:  (lat: 50, lon: 94, time: 13)\n",
       "Coordinates:\n",
       "  * time     (time) datetime64[ns] 2020-12-03T11:30:00 ... 2020-12-03T23:30:00\n",
       "  * lon      (lon) float64 -125.0 -124.4 -123.8 -123.1 ... -68.12 -67.5 -66.88\n",
       "  * lat      (lat) float64 25.0 25.5 26.0 26.5 27.0 ... 47.5 48.0 48.5 49.0 49.5\n",
       "Data variables:\n",
       "    TS       (time, lat, lon) float32 ...\n",
       "Attributes:\n",
       "    CDI:                               Climate Data Interface version 1.9.8 (...\n",
       "    Conventions:                       CF-1\n",
       "    History:                           Original file generated: Thu Dec 17 04...\n",
       "    Comment:                           GMAO filename: d5124_m2_jan10.tavg1_2d...\n",
       "    Filename:                          MERRA2_400.tavg1_2d_slv_Nx.20201203.nc4\n",
       "    Institution:                       NASA Global Modeling and Assimilation ...\n",
       "    References:                        http://gmao.gsfc.nasa.gov\n",
       "    Format:                            NetCDF-4/HDF-5\n",
       "    SpatialCoverage:                   global\n",
       "    VersionID:                         5.12.4\n",
       "    TemporalRange:                     1980-01-01 -> 2016-12-31\n",
       "    identifier_product_doi_authority:  http://dx.doi.org/\n",
       "    ShortName:                         M2T1NXSLV\n",
       "    GranuleID:                         MERRA2_400.tavg1_2d_slv_Nx.20201203.nc4\n",
       "    ProductionDateTime:                Original file generated: Thu Dec 17 04...\n",
       "    LongName:                          MERRA2 tavg1_2d_slv_Nx: 2d,1-Hourly,Ti...\n",
       "    Title:                             MERRA2 tavg1_2d_slv_Nx: 2d,1-Hourly,Ti...\n",
       "    SouthernmostLatitude:              -90.0\n",
       "    NorthernmostLatitude:              90.0\n",
       "    WesternmostLongitude:              -180.0\n",
       "    EasternmostLongitude:              179.375\n",
       "    LatitudeResolution:                0.5\n",
       "    LongitudeResolution:               0.625\n",
       "    DataResolution:                    0.5 x 0.625\n",
       "    Contact:                           http://gmao.gsfc.nasa.gov\n",
       "    identifier_product_doi:            10.5067/VJAFPLI1CSIV\n",
       "    RangeBeginningDate:                2020-12-03\n",
       "    RangeBeginningTime:                00:00:00.000000\n",
       "    RangeEndingDate:                   2020-12-03\n",
       "    RangeEndingTime:                   23:59:59.000000\n",
       "    history_L34RS:                     'Created by L34RS v1.4.1 @ NASA GES DI...\n",
       "    CDO:                               Climate Data Operators version 1.9.8 (..."
      ]
     },
     "execution_count": 299,
     "metadata": {},
     "output_type": "execute_result"
    }
   ],
   "source": [
    "nc_data = xr.open_dataset(file)\n",
    "nc_data"
   ]
  },
  {
   "cell_type": "code",
   "execution_count": 300,
   "metadata": {},
   "outputs": [],
   "source": [
    "df = nc_data.to_dataframe()"
   ]
  },
  {
   "cell_type": "code",
   "execution_count": 301,
   "metadata": {},
   "outputs": [
    {
     "data": {
      "text/plain": [
       "TS    294.83963\n",
       "Name: (25.0, -125.0, 2020-12-03 23:30:00), dtype: float32"
      ]
     },
     "execution_count": 301,
     "metadata": {},
     "output_type": "execute_result"
    }
   ],
   "source": [
    "df.iloc[12]"
   ]
  },
  {
   "cell_type": "code",
   "execution_count": 302,
   "metadata": {},
   "outputs": [],
   "source": [
    "df = df.reset_index()"
   ]
  },
  {
   "cell_type": "code",
   "execution_count": 303,
   "metadata": {},
   "outputs": [
    {
     "data": {
      "text/html": [
       "<div>\n",
       "<style scoped>\n",
       "    .dataframe tbody tr th:only-of-type {\n",
       "        vertical-align: middle;\n",
       "    }\n",
       "\n",
       "    .dataframe tbody tr th {\n",
       "        vertical-align: top;\n",
       "    }\n",
       "\n",
       "    .dataframe thead th {\n",
       "        text-align: right;\n",
       "    }\n",
       "</style>\n",
       "<table border=\"1\" class=\"dataframe\">\n",
       "  <thead>\n",
       "    <tr style=\"text-align: right;\">\n",
       "      <th></th>\n",
       "      <th>lat</th>\n",
       "      <th>lon</th>\n",
       "      <th>time</th>\n",
       "      <th>TS</th>\n",
       "    </tr>\n",
       "  </thead>\n",
       "  <tbody>\n",
       "    <tr>\n",
       "      <th>0</th>\n",
       "      <td>25.0</td>\n",
       "      <td>-125.0</td>\n",
       "      <td>2020-12-03 11:30:00</td>\n",
       "      <td>294.854614</td>\n",
       "    </tr>\n",
       "    <tr>\n",
       "      <th>1</th>\n",
       "      <td>25.0</td>\n",
       "      <td>-125.0</td>\n",
       "      <td>2020-12-03 12:30:00</td>\n",
       "      <td>294.851837</td>\n",
       "    </tr>\n",
       "    <tr>\n",
       "      <th>2</th>\n",
       "      <td>25.0</td>\n",
       "      <td>-125.0</td>\n",
       "      <td>2020-12-03 13:30:00</td>\n",
       "      <td>294.856995</td>\n",
       "    </tr>\n",
       "    <tr>\n",
       "      <th>3</th>\n",
       "      <td>25.0</td>\n",
       "      <td>-125.0</td>\n",
       "      <td>2020-12-03 14:30:00</td>\n",
       "      <td>294.851105</td>\n",
       "    </tr>\n",
       "    <tr>\n",
       "      <th>4</th>\n",
       "      <td>25.0</td>\n",
       "      <td>-125.0</td>\n",
       "      <td>2020-12-03 15:30:00</td>\n",
       "      <td>294.853943</td>\n",
       "    </tr>\n",
       "  </tbody>\n",
       "</table>\n",
       "</div>"
      ],
      "text/plain": [
       "    lat    lon                time          TS\n",
       "0  25.0 -125.0 2020-12-03 11:30:00  294.854614\n",
       "1  25.0 -125.0 2020-12-03 12:30:00  294.851837\n",
       "2  25.0 -125.0 2020-12-03 13:30:00  294.856995\n",
       "3  25.0 -125.0 2020-12-03 14:30:00  294.851105\n",
       "4  25.0 -125.0 2020-12-03 15:30:00  294.853943"
      ]
     },
     "execution_count": 303,
     "metadata": {},
     "output_type": "execute_result"
    }
   ],
   "source": [
    "df.head()"
   ]
  },
  {
   "cell_type": "markdown",
   "metadata": {},
   "source": [
    "### Divide into Time Zone"
   ]
  },
  {
   "cell_type": "code",
   "execution_count": 304,
   "metadata": {},
   "outputs": [
    {
     "data": {
      "text/html": [
       "<div>\n",
       "<style scoped>\n",
       "    .dataframe tbody tr th:only-of-type {\n",
       "        vertical-align: middle;\n",
       "    }\n",
       "\n",
       "    .dataframe tbody tr th {\n",
       "        vertical-align: top;\n",
       "    }\n",
       "\n",
       "    .dataframe thead th {\n",
       "        text-align: right;\n",
       "    }\n",
       "</style>\n",
       "<table border=\"1\" class=\"dataframe\">\n",
       "  <thead>\n",
       "    <tr style=\"text-align: right;\">\n",
       "      <th></th>\n",
       "      <th>lat</th>\n",
       "      <th>lon</th>\n",
       "      <th>time</th>\n",
       "      <th>TS</th>\n",
       "    </tr>\n",
       "  </thead>\n",
       "  <tbody>\n",
       "    <tr>\n",
       "      <th>0</th>\n",
       "      <td>25.0</td>\n",
       "      <td>-125.0</td>\n",
       "      <td>2020-12-03 11:30:00</td>\n",
       "      <td>294.854614</td>\n",
       "    </tr>\n",
       "    <tr>\n",
       "      <th>1</th>\n",
       "      <td>25.0</td>\n",
       "      <td>-125.0</td>\n",
       "      <td>2020-12-03 12:30:00</td>\n",
       "      <td>294.851837</td>\n",
       "    </tr>\n",
       "    <tr>\n",
       "      <th>2</th>\n",
       "      <td>25.0</td>\n",
       "      <td>-125.0</td>\n",
       "      <td>2020-12-03 13:30:00</td>\n",
       "      <td>294.856995</td>\n",
       "    </tr>\n",
       "    <tr>\n",
       "      <th>3</th>\n",
       "      <td>25.0</td>\n",
       "      <td>-125.0</td>\n",
       "      <td>2020-12-03 14:30:00</td>\n",
       "      <td>294.851105</td>\n",
       "    </tr>\n",
       "    <tr>\n",
       "      <th>4</th>\n",
       "      <td>25.0</td>\n",
       "      <td>-125.0</td>\n",
       "      <td>2020-12-03 15:30:00</td>\n",
       "      <td>294.853943</td>\n",
       "    </tr>\n",
       "  </tbody>\n",
       "</table>\n",
       "</div>"
      ],
      "text/plain": [
       "    lat    lon                time          TS\n",
       "0  25.0 -125.0 2020-12-03 11:30:00  294.854614\n",
       "1  25.0 -125.0 2020-12-03 12:30:00  294.851837\n",
       "2  25.0 -125.0 2020-12-03 13:30:00  294.856995\n",
       "3  25.0 -125.0 2020-12-03 14:30:00  294.851105\n",
       "4  25.0 -125.0 2020-12-03 15:30:00  294.853943"
      ]
     },
     "execution_count": 304,
     "metadata": {},
     "output_type": "execute_result"
    }
   ],
   "source": [
    "pacific_lon = [-125, -114] #ish\n",
    "mountain_lon = [-114, -102] #ish\n",
    "central_lon = [-102, -85.5] #ish\n",
    "\n",
    "pst_df = df[(df[\"lon\"]>= pacific_lon[0]) & (df[\"lon\"]< pacific_lon[1])]\n",
    "pst_df.head()"
   ]
  },
  {
   "cell_type": "code",
   "execution_count": 199,
   "metadata": {},
   "outputs": [
    {
     "data": {
      "text/plain": [
       "array([-125.   , -124.375, -123.75 , -123.125, -122.5  , -121.875,\n",
       "       -121.25 , -120.625, -120.   , -119.375, -118.75 , -118.125,\n",
       "       -117.5  , -116.875, -116.25 , -115.625, -115.   , -114.375])"
      ]
     },
     "execution_count": 199,
     "metadata": {},
     "output_type": "execute_result"
    }
   ],
   "source": [
    "pst_df['lon'].unique()"
   ]
  },
  {
   "cell_type": "code",
   "execution_count": 305,
   "metadata": {},
   "outputs": [
    {
     "data": {
      "text/plain": [
       "0       2020-12-03 11:30:00\n",
       "1       2020-12-03 12:30:00\n",
       "2       2020-12-03 13:30:00\n",
       "3       2020-12-03 14:30:00\n",
       "4       2020-12-03 15:30:00\n",
       "                ...        \n",
       "60107   2020-12-03 19:30:00\n",
       "60108   2020-12-03 20:30:00\n",
       "60109   2020-12-03 21:30:00\n",
       "60110   2020-12-03 22:30:00\n",
       "60111   2020-12-03 23:30:00\n",
       "Name: time, Length: 11700, dtype: datetime64[ns]"
      ]
     },
     "execution_count": 305,
     "metadata": {},
     "output_type": "execute_result"
    }
   ],
   "source": [
    "pst_df['time']"
   ]
  },
  {
   "cell_type": "markdown",
   "metadata": {},
   "source": [
    "### Add local time col"
   ]
  },
  {
   "cell_type": "code",
   "execution_count": 306,
   "metadata": {},
   "outputs": [
    {
     "name": "stderr",
     "output_type": "stream",
     "text": [
      "/Users/Sarah/anaconda3/lib/python3.7/site-packages/ipykernel_launcher.py:1: SettingWithCopyWarning: \n",
      "A value is trying to be set on a copy of a slice from a DataFrame.\n",
      "Try using .loc[row_indexer,col_indexer] = value instead\n",
      "\n",
      "See the caveats in the documentation: https://pandas.pydata.org/pandas-docs/stable/user_guide/indexing.html#returning-a-view-versus-a-copy\n",
      "  \"\"\"Entry point for launching an IPython kernel.\n"
     ]
    }
   ],
   "source": [
    "pst_df['local_time'] = pst_df['time'] - datetime.timedelta(hours=8)"
   ]
  },
  {
   "cell_type": "code",
   "execution_count": 307,
   "metadata": {},
   "outputs": [
    {
     "data": {
      "text/plain": [
       "0       2020-12-03 03:30:00\n",
       "1       2020-12-03 04:30:00\n",
       "2       2020-12-03 05:30:00\n",
       "3       2020-12-03 06:30:00\n",
       "4       2020-12-03 07:30:00\n",
       "                ...        \n",
       "60107   2020-12-03 11:30:00\n",
       "60108   2020-12-03 12:30:00\n",
       "60109   2020-12-03 13:30:00\n",
       "60110   2020-12-03 14:30:00\n",
       "60111   2020-12-03 15:30:00\n",
       "Name: local_time, Length: 11700, dtype: datetime64[ns]"
      ]
     },
     "execution_count": 307,
     "metadata": {},
     "output_type": "execute_result"
    }
   ],
   "source": [
    "pst_df['local_time']"
   ]
  },
  {
   "cell_type": "code",
   "execution_count": 309,
   "metadata": {},
   "outputs": [],
   "source": [
    "school_str = pd.to_datetime('{} 8:30:00'.format(date))\n",
    "school_end = pd.to_datetime('{} 15:30:00'.format(date)) #only have data up till 15:30 for PST\n",
    "#(pst_df[\"local_time\"] <= school_end).tail()\n",
    "#(pst_df[\"local_time\"] >= school_str).tail()\n",
    "pst_df = pst_df[(pst_df[\"local_time\"]>= school_str) & \n",
    "                (pst_df[\"local_time\"]<= school_end)]\n",
    "\n",
    "#df.loc[(pst_df[\"local_time\"] > start_date) & (df['datetime_col'] < end_date)]\n",
    "#"
   ]
  },
  {
   "cell_type": "markdown",
   "metadata": {},
   "source": [
    "### Count days below freezing\n",
    "0°C = 273.15 k"
   ]
  },
  {
   "cell_type": "code",
   "execution_count": 204,
   "metadata": {},
   "outputs": [],
   "source": [
    "#pst_df['below_freezing']= 0"
   ]
  },
  {
   "cell_type": "code",
   "execution_count": 310,
   "metadata": {},
   "outputs": [],
   "source": [
    "#pst_df['below_freezing'].loc[df['TS'] <= 273.15] = 1\n",
    "\n",
    "pst_df['below_freezing'] = pst_df['TS'].apply(lambda x: 1 if x <= 273.15 else 0)"
   ]
  },
  {
   "cell_type": "code",
   "execution_count": 311,
   "metadata": {},
   "outputs": [
    {
     "data": {
      "text/plain": [
       "array([0, 1])"
      ]
     },
     "execution_count": 311,
     "metadata": {},
     "output_type": "execute_result"
    }
   ],
   "source": [
    "pst_df['below_freezing'].unique()"
   ]
  },
  {
   "cell_type": "code",
   "execution_count": 312,
   "metadata": {},
   "outputs": [
    {
     "data": {
      "text/plain": [
       "array(['2020-12-03T08:30:00.000000000', '2020-12-03T09:30:00.000000000',\n",
       "       '2020-12-03T10:30:00.000000000', '2020-12-03T11:30:00.000000000',\n",
       "       '2020-12-03T12:30:00.000000000', '2020-12-03T13:30:00.000000000',\n",
       "       '2020-12-03T14:30:00.000000000', '2020-12-03T15:30:00.000000000'],\n",
       "      dtype='datetime64[ns]')"
      ]
     },
     "execution_count": 312,
     "metadata": {},
     "output_type": "execute_result"
    }
   ],
   "source": [
    "pst_df['local_time'].unique()"
   ]
  },
  {
   "cell_type": "code",
   "execution_count": 313,
   "metadata": {},
   "outputs": [],
   "source": [
    "#https://www.statology.org/pandas-groupby-aggregate-multiple-columns/\n",
    "\n",
    "pst_grouped = pst_df.groupby(['lat', 'lon']).agg({'TS': ['mean', 'min'], \n",
    "                                                  'below_freezing': 'sum'})\n"
   ]
  },
  {
   "cell_type": "code",
   "execution_count": 314,
   "metadata": {},
   "outputs": [
    {
     "data": {
      "text/plain": [
       "MultiIndex([(            'TS', 'mean'),\n",
       "            (            'TS',  'min'),\n",
       "            ('below_freezing',  'sum')],\n",
       "           )"
      ]
     },
     "execution_count": 314,
     "metadata": {},
     "output_type": "execute_result"
    }
   ],
   "source": [
    "pst_grouped.columns"
   ]
  },
  {
   "cell_type": "code",
   "execution_count": 315,
   "metadata": {},
   "outputs": [],
   "source": [
    "pst_grouped.columns = ['average_temp', 'min_daily_temp', 'hrs_below_freezing']"
   ]
  },
  {
   "cell_type": "code",
   "execution_count": 316,
   "metadata": {},
   "outputs": [
    {
     "data": {
      "text/html": [
       "<div>\n",
       "<style scoped>\n",
       "    .dataframe tbody tr th:only-of-type {\n",
       "        vertical-align: middle;\n",
       "    }\n",
       "\n",
       "    .dataframe tbody tr th {\n",
       "        vertical-align: top;\n",
       "    }\n",
       "\n",
       "    .dataframe thead th {\n",
       "        text-align: right;\n",
       "    }\n",
       "</style>\n",
       "<table border=\"1\" class=\"dataframe\">\n",
       "  <thead>\n",
       "    <tr style=\"text-align: right;\">\n",
       "      <th></th>\n",
       "      <th></th>\n",
       "      <th>average_temp</th>\n",
       "      <th>min_daily_temp</th>\n",
       "      <th>hrs_below_freezing</th>\n",
       "    </tr>\n",
       "    <tr>\n",
       "      <th>lat</th>\n",
       "      <th>lon</th>\n",
       "      <th></th>\n",
       "      <th></th>\n",
       "      <th></th>\n",
       "    </tr>\n",
       "  </thead>\n",
       "  <tbody>\n",
       "    <tr>\n",
       "      <th rowspan=\"5\" valign=\"top\">49.5</th>\n",
       "      <th>-116.875</th>\n",
       "      <td>267.875610</td>\n",
       "      <td>255.956818</td>\n",
       "      <td>8</td>\n",
       "    </tr>\n",
       "    <tr>\n",
       "      <th>-116.250</th>\n",
       "      <td>268.156616</td>\n",
       "      <td>257.495880</td>\n",
       "      <td>8</td>\n",
       "    </tr>\n",
       "    <tr>\n",
       "      <th>-115.625</th>\n",
       "      <td>270.648987</td>\n",
       "      <td>264.609161</td>\n",
       "      <td>6</td>\n",
       "    </tr>\n",
       "    <tr>\n",
       "      <th>-115.000</th>\n",
       "      <td>267.350708</td>\n",
       "      <td>259.124786</td>\n",
       "      <td>8</td>\n",
       "    </tr>\n",
       "    <tr>\n",
       "      <th>-114.375</th>\n",
       "      <td>270.151733</td>\n",
       "      <td>266.595490</td>\n",
       "      <td>8</td>\n",
       "    </tr>\n",
       "  </tbody>\n",
       "</table>\n",
       "</div>"
      ],
      "text/plain": [
       "               average_temp  min_daily_temp  hrs_below_freezing\n",
       "lat  lon                                                       \n",
       "49.5 -116.875    267.875610      255.956818                   8\n",
       "     -116.250    268.156616      257.495880                   8\n",
       "     -115.625    270.648987      264.609161                   6\n",
       "     -115.000    267.350708      259.124786                   8\n",
       "     -114.375    270.151733      266.595490                   8"
      ]
     },
     "execution_count": 316,
     "metadata": {},
     "output_type": "execute_result"
    }
   ],
   "source": [
    "pst_grouped.tail()"
   ]
  },
  {
   "cell_type": "code",
   "execution_count": 326,
   "metadata": {},
   "outputs": [
    {
     "data": {
      "text/html": [
       "<div>\n",
       "<style scoped>\n",
       "    .dataframe tbody tr th:only-of-type {\n",
       "        vertical-align: middle;\n",
       "    }\n",
       "\n",
       "    .dataframe tbody tr th {\n",
       "        vertical-align: top;\n",
       "    }\n",
       "\n",
       "    .dataframe thead th {\n",
       "        text-align: right;\n",
       "    }\n",
       "</style>\n",
       "<table border=\"1\" class=\"dataframe\">\n",
       "  <thead>\n",
       "    <tr style=\"text-align: right;\">\n",
       "      <th></th>\n",
       "      <th>lat</th>\n",
       "      <th>lon</th>\n",
       "      <th>average_temp</th>\n",
       "      <th>min_daily_temp</th>\n",
       "      <th>hrs_below_freezing</th>\n",
       "    </tr>\n",
       "  </thead>\n",
       "  <tbody>\n",
       "    <tr>\n",
       "      <th>0</th>\n",
       "      <td>25.0</td>\n",
       "      <td>-125.000</td>\n",
       "      <td>294.845825</td>\n",
       "      <td>294.839630</td>\n",
       "      <td>0</td>\n",
       "    </tr>\n",
       "    <tr>\n",
       "      <th>1</th>\n",
       "      <td>25.0</td>\n",
       "      <td>-124.375</td>\n",
       "      <td>294.677856</td>\n",
       "      <td>294.674316</td>\n",
       "      <td>0</td>\n",
       "    </tr>\n",
       "    <tr>\n",
       "      <th>2</th>\n",
       "      <td>25.0</td>\n",
       "      <td>-123.750</td>\n",
       "      <td>294.518677</td>\n",
       "      <td>294.511505</td>\n",
       "      <td>0</td>\n",
       "    </tr>\n",
       "    <tr>\n",
       "      <th>3</th>\n",
       "      <td>25.0</td>\n",
       "      <td>-123.125</td>\n",
       "      <td>294.583130</td>\n",
       "      <td>294.574005</td>\n",
       "      <td>0</td>\n",
       "    </tr>\n",
       "    <tr>\n",
       "      <th>4</th>\n",
       "      <td>25.0</td>\n",
       "      <td>-122.500</td>\n",
       "      <td>294.842896</td>\n",
       "      <td>294.835571</td>\n",
       "      <td>0</td>\n",
       "    </tr>\n",
       "  </tbody>\n",
       "</table>\n",
       "</div>"
      ],
      "text/plain": [
       "    lat      lon  average_temp  min_daily_temp  hrs_below_freezing\n",
       "0  25.0 -125.000    294.845825      294.839630                   0\n",
       "1  25.0 -124.375    294.677856      294.674316                   0\n",
       "2  25.0 -123.750    294.518677      294.511505                   0\n",
       "3  25.0 -123.125    294.583130      294.574005                   0\n",
       "4  25.0 -122.500    294.842896      294.835571                   0"
      ]
     },
     "execution_count": 326,
     "metadata": {},
     "output_type": "execute_result"
    }
   ],
   "source": [
    "pst_final = pst_grouped.reset_index()\n",
    "pst_final.head()"
   ]
  },
  {
   "cell_type": "code",
   "execution_count": 331,
   "metadata": {},
   "outputs": [
    {
     "data": {
      "text/html": [
       "<div>\n",
       "<style scoped>\n",
       "    .dataframe tbody tr th:only-of-type {\n",
       "        vertical-align: middle;\n",
       "    }\n",
       "\n",
       "    .dataframe tbody tr th {\n",
       "        vertical-align: top;\n",
       "    }\n",
       "\n",
       "    .dataframe thead th {\n",
       "        text-align: right;\n",
       "    }\n",
       "</style>\n",
       "<table border=\"1\" class=\"dataframe\">\n",
       "  <thead>\n",
       "    <tr style=\"text-align: right;\">\n",
       "      <th></th>\n",
       "      <th>lat</th>\n",
       "      <th>lon</th>\n",
       "      <th>average_temp</th>\n",
       "      <th>min_daily_temp</th>\n",
       "      <th>hrs_below_freezing</th>\n",
       "    </tr>\n",
       "  </thead>\n",
       "  <tbody>\n",
       "    <tr>\n",
       "      <th>895</th>\n",
       "      <td>49.5</td>\n",
       "      <td>-116.875</td>\n",
       "      <td>267.875610</td>\n",
       "      <td>255.956818</td>\n",
       "      <td>8</td>\n",
       "    </tr>\n",
       "    <tr>\n",
       "      <th>896</th>\n",
       "      <td>49.5</td>\n",
       "      <td>-116.250</td>\n",
       "      <td>268.156616</td>\n",
       "      <td>257.495880</td>\n",
       "      <td>8</td>\n",
       "    </tr>\n",
       "    <tr>\n",
       "      <th>897</th>\n",
       "      <td>49.5</td>\n",
       "      <td>-115.625</td>\n",
       "      <td>270.648987</td>\n",
       "      <td>264.609161</td>\n",
       "      <td>6</td>\n",
       "    </tr>\n",
       "    <tr>\n",
       "      <th>898</th>\n",
       "      <td>49.5</td>\n",
       "      <td>-115.000</td>\n",
       "      <td>267.350708</td>\n",
       "      <td>259.124786</td>\n",
       "      <td>8</td>\n",
       "    </tr>\n",
       "    <tr>\n",
       "      <th>899</th>\n",
       "      <td>49.5</td>\n",
       "      <td>-114.375</td>\n",
       "      <td>270.151733</td>\n",
       "      <td>266.595490</td>\n",
       "      <td>8</td>\n",
       "    </tr>\n",
       "  </tbody>\n",
       "</table>\n",
       "</div>"
      ],
      "text/plain": [
       "      lat      lon  average_temp  min_daily_temp  hrs_below_freezing\n",
       "895  49.5 -116.875    267.875610      255.956818                   8\n",
       "896  49.5 -116.250    268.156616      257.495880                   8\n",
       "897  49.5 -115.625    270.648987      264.609161                   6\n",
       "898  49.5 -115.000    267.350708      259.124786                   8\n",
       "899  49.5 -114.375    270.151733      266.595490                   8"
      ]
     },
     "execution_count": 331,
     "metadata": {},
     "output_type": "execute_result"
    }
   ],
   "source": [
    "pst_final.tail()"
   ]
  },
  {
   "cell_type": "markdown",
   "metadata": {},
   "source": [
    "### Try a quick plot to verify"
   ]
  },
  {
   "cell_type": "code",
   "execution_count": 351,
   "metadata": {},
   "outputs": [
    {
     "data": {
      "text/html": [
       "<div>\n",
       "<style scoped>\n",
       "    .dataframe tbody tr th:only-of-type {\n",
       "        vertical-align: middle;\n",
       "    }\n",
       "\n",
       "    .dataframe tbody tr th {\n",
       "        vertical-align: top;\n",
       "    }\n",
       "\n",
       "    .dataframe thead tr th {\n",
       "        text-align: left;\n",
       "    }\n",
       "\n",
       "    .dataframe thead tr:last-of-type th {\n",
       "        text-align: right;\n",
       "    }\n",
       "</style>\n",
       "<table border=\"1\" class=\"dataframe\">\n",
       "  <thead>\n",
       "    <tr>\n",
       "      <th></th>\n",
       "      <th colspan=\"10\" halign=\"left\">average_temp</th>\n",
       "      <th>...</th>\n",
       "      <th colspan=\"10\" halign=\"left\">hrs_below_freezing</th>\n",
       "    </tr>\n",
       "    <tr>\n",
       "      <th>lat</th>\n",
       "      <th>25.0</th>\n",
       "      <th>25.5</th>\n",
       "      <th>26.0</th>\n",
       "      <th>26.5</th>\n",
       "      <th>27.0</th>\n",
       "      <th>27.5</th>\n",
       "      <th>28.0</th>\n",
       "      <th>28.5</th>\n",
       "      <th>29.0</th>\n",
       "      <th>29.5</th>\n",
       "      <th>...</th>\n",
       "      <th>45.0</th>\n",
       "      <th>45.5</th>\n",
       "      <th>46.0</th>\n",
       "      <th>46.5</th>\n",
       "      <th>47.0</th>\n",
       "      <th>47.5</th>\n",
       "      <th>48.0</th>\n",
       "      <th>48.5</th>\n",
       "      <th>49.0</th>\n",
       "      <th>49.5</th>\n",
       "    </tr>\n",
       "    <tr>\n",
       "      <th>lon</th>\n",
       "      <th></th>\n",
       "      <th></th>\n",
       "      <th></th>\n",
       "      <th></th>\n",
       "      <th></th>\n",
       "      <th></th>\n",
       "      <th></th>\n",
       "      <th></th>\n",
       "      <th></th>\n",
       "      <th></th>\n",
       "      <th></th>\n",
       "      <th></th>\n",
       "      <th></th>\n",
       "      <th></th>\n",
       "      <th></th>\n",
       "      <th></th>\n",
       "      <th></th>\n",
       "      <th></th>\n",
       "      <th></th>\n",
       "      <th></th>\n",
       "      <th></th>\n",
       "    </tr>\n",
       "  </thead>\n",
       "  <tbody>\n",
       "    <tr>\n",
       "      <th>-125.000</th>\n",
       "      <td>294.845825</td>\n",
       "      <td>294.596802</td>\n",
       "      <td>294.347778</td>\n",
       "      <td>294.231567</td>\n",
       "      <td>294.161255</td>\n",
       "      <td>294.003052</td>\n",
       "      <td>293.703247</td>\n",
       "      <td>293.140747</td>\n",
       "      <td>292.519653</td>\n",
       "      <td>292.226685</td>\n",
       "      <td>...</td>\n",
       "      <td>0</td>\n",
       "      <td>0</td>\n",
       "      <td>0</td>\n",
       "      <td>0</td>\n",
       "      <td>0</td>\n",
       "      <td>0</td>\n",
       "      <td>0</td>\n",
       "      <td>0</td>\n",
       "      <td>0</td>\n",
       "      <td>0</td>\n",
       "    </tr>\n",
       "    <tr>\n",
       "      <th>-124.375</th>\n",
       "      <td>294.677856</td>\n",
       "      <td>294.499146</td>\n",
       "      <td>294.096802</td>\n",
       "      <td>293.850708</td>\n",
       "      <td>293.817505</td>\n",
       "      <td>293.701294</td>\n",
       "      <td>293.662231</td>\n",
       "      <td>293.213013</td>\n",
       "      <td>292.544067</td>\n",
       "      <td>292.073364</td>\n",
       "      <td>...</td>\n",
       "      <td>0</td>\n",
       "      <td>0</td>\n",
       "      <td>0</td>\n",
       "      <td>0</td>\n",
       "      <td>0</td>\n",
       "      <td>0</td>\n",
       "      <td>0</td>\n",
       "      <td>0</td>\n",
       "      <td>0</td>\n",
       "      <td>0</td>\n",
       "    </tr>\n",
       "    <tr>\n",
       "      <th>-123.750</th>\n",
       "      <td>294.518677</td>\n",
       "      <td>294.331177</td>\n",
       "      <td>293.858521</td>\n",
       "      <td>293.569458</td>\n",
       "      <td>293.323364</td>\n",
       "      <td>293.087036</td>\n",
       "      <td>293.005005</td>\n",
       "      <td>292.869263</td>\n",
       "      <td>292.524536</td>\n",
       "      <td>292.096802</td>\n",
       "      <td>...</td>\n",
       "      <td>0</td>\n",
       "      <td>0</td>\n",
       "      <td>0</td>\n",
       "      <td>0</td>\n",
       "      <td>0</td>\n",
       "      <td>0</td>\n",
       "      <td>0</td>\n",
       "      <td>0</td>\n",
       "      <td>0</td>\n",
       "      <td>0</td>\n",
       "    </tr>\n",
       "    <tr>\n",
       "      <th>-123.125</th>\n",
       "      <td>294.583130</td>\n",
       "      <td>294.359497</td>\n",
       "      <td>293.707153</td>\n",
       "      <td>293.386841</td>\n",
       "      <td>293.057739</td>\n",
       "      <td>292.904419</td>\n",
       "      <td>292.834106</td>\n",
       "      <td>292.714966</td>\n",
       "      <td>292.459106</td>\n",
       "      <td>291.976685</td>\n",
       "      <td>...</td>\n",
       "      <td>0</td>\n",
       "      <td>0</td>\n",
       "      <td>0</td>\n",
       "      <td>0</td>\n",
       "      <td>0</td>\n",
       "      <td>1</td>\n",
       "      <td>0</td>\n",
       "      <td>0</td>\n",
       "      <td>0</td>\n",
       "      <td>0</td>\n",
       "    </tr>\n",
       "    <tr>\n",
       "      <th>-122.500</th>\n",
       "      <td>294.842896</td>\n",
       "      <td>294.488403</td>\n",
       "      <td>293.796997</td>\n",
       "      <td>293.280396</td>\n",
       "      <td>293.041138</td>\n",
       "      <td>293.024536</td>\n",
       "      <td>292.868286</td>\n",
       "      <td>292.601685</td>\n",
       "      <td>292.418091</td>\n",
       "      <td>291.924927</td>\n",
       "      <td>...</td>\n",
       "      <td>0</td>\n",
       "      <td>0</td>\n",
       "      <td>0</td>\n",
       "      <td>0</td>\n",
       "      <td>0</td>\n",
       "      <td>0</td>\n",
       "      <td>0</td>\n",
       "      <td>0</td>\n",
       "      <td>0</td>\n",
       "      <td>2</td>\n",
       "    </tr>\n",
       "  </tbody>\n",
       "</table>\n",
       "<p>5 rows × 150 columns</p>\n",
       "</div>"
      ],
      "text/plain": [
       "         average_temp                                                  \\\n",
       "lat              25.0        25.5        26.0        26.5        27.0   \n",
       "lon                                                                     \n",
       "-125.000   294.845825  294.596802  294.347778  294.231567  294.161255   \n",
       "-124.375   294.677856  294.499146  294.096802  293.850708  293.817505   \n",
       "-123.750   294.518677  294.331177  293.858521  293.569458  293.323364   \n",
       "-123.125   294.583130  294.359497  293.707153  293.386841  293.057739   \n",
       "-122.500   294.842896  294.488403  293.796997  293.280396  293.041138   \n",
       "\n",
       "                                                                      ...  \\\n",
       "lat             27.5        28.0        28.5        29.0        29.5  ...   \n",
       "lon                                                                   ...   \n",
       "-125.000  294.003052  293.703247  293.140747  292.519653  292.226685  ...   \n",
       "-124.375  293.701294  293.662231  293.213013  292.544067  292.073364  ...   \n",
       "-123.750  293.087036  293.005005  292.869263  292.524536  292.096802  ...   \n",
       "-123.125  292.904419  292.834106  292.714966  292.459106  291.976685  ...   \n",
       "-122.500  293.024536  292.868286  292.601685  292.418091  291.924927  ...   \n",
       "\n",
       "         hrs_below_freezing                                               \n",
       "lat                    45.0 45.5 46.0 46.5 47.0 47.5 48.0 48.5 49.0 49.5  \n",
       "lon                                                                       \n",
       "-125.000                  0    0    0    0    0    0    0    0    0    0  \n",
       "-124.375                  0    0    0    0    0    0    0    0    0    0  \n",
       "-123.750                  0    0    0    0    0    0    0    0    0    0  \n",
       "-123.125                  0    0    0    0    0    1    0    0    0    0  \n",
       "-122.500                  0    0    0    0    0    0    0    0    0    2  \n",
       "\n",
       "[5 rows x 150 columns]"
      ]
     },
     "execution_count": 351,
     "metadata": {},
     "output_type": "execute_result"
    }
   ],
   "source": [
    "#https://stackoverflow.com/questions/24032282/create-contour-plot-from-pandas-groupby-dataframe\n",
    "pst_pivot = pst_final.pivot('lon', 'lat')\n",
    "pst_pivot.head()"
   ]
  },
  {
   "cell_type": "code",
   "execution_count": 352,
   "metadata": {},
   "outputs": [],
   "source": [
    "X=pst_pivot.columns.levels[1].values\n",
    "Y=pst_pivot.index.values\n",
    "Z=pst_pivot.values\n",
    "Xi,Yi = np.meshgrid(X, Y)"
   ]
  },
  {
   "cell_type": "code",
   "execution_count": 356,
   "metadata": {},
   "outputs": [
    {
     "data": {
      "text/plain": [
       "array([[-125.   , -125.   , -125.   , -125.   , -125.   , -125.   ,\n",
       "        -125.   , -125.   , -125.   , -125.   , -125.   , -125.   ,\n",
       "        -125.   , -125.   , -125.   , -125.   , -125.   , -125.   ,\n",
       "        -125.   , -125.   , -125.   , -125.   , -125.   , -125.   ,\n",
       "        -125.   , -125.   , -125.   , -125.   , -125.   , -125.   ,\n",
       "        -125.   , -125.   , -125.   , -125.   , -125.   , -125.   ,\n",
       "        -125.   , -125.   , -125.   , -125.   , -125.   , -125.   ,\n",
       "        -125.   , -125.   , -125.   , -125.   , -125.   , -125.   ,\n",
       "        -125.   , -125.   ],\n",
       "       [-124.375, -124.375, -124.375, -124.375, -124.375, -124.375,\n",
       "        -124.375, -124.375, -124.375, -124.375, -124.375, -124.375,\n",
       "        -124.375, -124.375, -124.375, -124.375, -124.375, -124.375,\n",
       "        -124.375, -124.375, -124.375, -124.375, -124.375, -124.375,\n",
       "        -124.375, -124.375, -124.375, -124.375, -124.375, -124.375,\n",
       "        -124.375, -124.375, -124.375, -124.375, -124.375, -124.375,\n",
       "        -124.375, -124.375, -124.375, -124.375, -124.375, -124.375,\n",
       "        -124.375, -124.375, -124.375, -124.375, -124.375, -124.375,\n",
       "        -124.375, -124.375],\n",
       "       [-123.75 , -123.75 , -123.75 , -123.75 , -123.75 , -123.75 ,\n",
       "        -123.75 , -123.75 , -123.75 , -123.75 , -123.75 , -123.75 ,\n",
       "        -123.75 , -123.75 , -123.75 , -123.75 , -123.75 , -123.75 ,\n",
       "        -123.75 , -123.75 , -123.75 , -123.75 , -123.75 , -123.75 ,\n",
       "        -123.75 , -123.75 , -123.75 , -123.75 , -123.75 , -123.75 ,\n",
       "        -123.75 , -123.75 , -123.75 , -123.75 , -123.75 , -123.75 ,\n",
       "        -123.75 , -123.75 , -123.75 , -123.75 , -123.75 , -123.75 ,\n",
       "        -123.75 , -123.75 , -123.75 , -123.75 , -123.75 , -123.75 ,\n",
       "        -123.75 , -123.75 ],\n",
       "       [-123.125, -123.125, -123.125, -123.125, -123.125, -123.125,\n",
       "        -123.125, -123.125, -123.125, -123.125, -123.125, -123.125,\n",
       "        -123.125, -123.125, -123.125, -123.125, -123.125, -123.125,\n",
       "        -123.125, -123.125, -123.125, -123.125, -123.125, -123.125,\n",
       "        -123.125, -123.125, -123.125, -123.125, -123.125, -123.125,\n",
       "        -123.125, -123.125, -123.125, -123.125, -123.125, -123.125,\n",
       "        -123.125, -123.125, -123.125, -123.125, -123.125, -123.125,\n",
       "        -123.125, -123.125, -123.125, -123.125, -123.125, -123.125,\n",
       "        -123.125, -123.125],\n",
       "       [-122.5  , -122.5  , -122.5  , -122.5  , -122.5  , -122.5  ,\n",
       "        -122.5  , -122.5  , -122.5  , -122.5  , -122.5  , -122.5  ,\n",
       "        -122.5  , -122.5  , -122.5  , -122.5  , -122.5  , -122.5  ,\n",
       "        -122.5  , -122.5  , -122.5  , -122.5  , -122.5  , -122.5  ,\n",
       "        -122.5  , -122.5  , -122.5  , -122.5  , -122.5  , -122.5  ,\n",
       "        -122.5  , -122.5  , -122.5  , -122.5  , -122.5  , -122.5  ,\n",
       "        -122.5  , -122.5  , -122.5  , -122.5  , -122.5  , -122.5  ,\n",
       "        -122.5  , -122.5  , -122.5  , -122.5  , -122.5  , -122.5  ,\n",
       "        -122.5  , -122.5  ],\n",
       "       [-121.875, -121.875, -121.875, -121.875, -121.875, -121.875,\n",
       "        -121.875, -121.875, -121.875, -121.875, -121.875, -121.875,\n",
       "        -121.875, -121.875, -121.875, -121.875, -121.875, -121.875,\n",
       "        -121.875, -121.875, -121.875, -121.875, -121.875, -121.875,\n",
       "        -121.875, -121.875, -121.875, -121.875, -121.875, -121.875,\n",
       "        -121.875, -121.875, -121.875, -121.875, -121.875, -121.875,\n",
       "        -121.875, -121.875, -121.875, -121.875, -121.875, -121.875,\n",
       "        -121.875, -121.875, -121.875, -121.875, -121.875, -121.875,\n",
       "        -121.875, -121.875],\n",
       "       [-121.25 , -121.25 , -121.25 , -121.25 , -121.25 , -121.25 ,\n",
       "        -121.25 , -121.25 , -121.25 , -121.25 , -121.25 , -121.25 ,\n",
       "        -121.25 , -121.25 , -121.25 , -121.25 , -121.25 , -121.25 ,\n",
       "        -121.25 , -121.25 , -121.25 , -121.25 , -121.25 , -121.25 ,\n",
       "        -121.25 , -121.25 , -121.25 , -121.25 , -121.25 , -121.25 ,\n",
       "        -121.25 , -121.25 , -121.25 , -121.25 , -121.25 , -121.25 ,\n",
       "        -121.25 , -121.25 , -121.25 , -121.25 , -121.25 , -121.25 ,\n",
       "        -121.25 , -121.25 , -121.25 , -121.25 , -121.25 , -121.25 ,\n",
       "        -121.25 , -121.25 ],\n",
       "       [-120.625, -120.625, -120.625, -120.625, -120.625, -120.625,\n",
       "        -120.625, -120.625, -120.625, -120.625, -120.625, -120.625,\n",
       "        -120.625, -120.625, -120.625, -120.625, -120.625, -120.625,\n",
       "        -120.625, -120.625, -120.625, -120.625, -120.625, -120.625,\n",
       "        -120.625, -120.625, -120.625, -120.625, -120.625, -120.625,\n",
       "        -120.625, -120.625, -120.625, -120.625, -120.625, -120.625,\n",
       "        -120.625, -120.625, -120.625, -120.625, -120.625, -120.625,\n",
       "        -120.625, -120.625, -120.625, -120.625, -120.625, -120.625,\n",
       "        -120.625, -120.625],\n",
       "       [-120.   , -120.   , -120.   , -120.   , -120.   , -120.   ,\n",
       "        -120.   , -120.   , -120.   , -120.   , -120.   , -120.   ,\n",
       "        -120.   , -120.   , -120.   , -120.   , -120.   , -120.   ,\n",
       "        -120.   , -120.   , -120.   , -120.   , -120.   , -120.   ,\n",
       "        -120.   , -120.   , -120.   , -120.   , -120.   , -120.   ,\n",
       "        -120.   , -120.   , -120.   , -120.   , -120.   , -120.   ,\n",
       "        -120.   , -120.   , -120.   , -120.   , -120.   , -120.   ,\n",
       "        -120.   , -120.   , -120.   , -120.   , -120.   , -120.   ,\n",
       "        -120.   , -120.   ],\n",
       "       [-119.375, -119.375, -119.375, -119.375, -119.375, -119.375,\n",
       "        -119.375, -119.375, -119.375, -119.375, -119.375, -119.375,\n",
       "        -119.375, -119.375, -119.375, -119.375, -119.375, -119.375,\n",
       "        -119.375, -119.375, -119.375, -119.375, -119.375, -119.375,\n",
       "        -119.375, -119.375, -119.375, -119.375, -119.375, -119.375,\n",
       "        -119.375, -119.375, -119.375, -119.375, -119.375, -119.375,\n",
       "        -119.375, -119.375, -119.375, -119.375, -119.375, -119.375,\n",
       "        -119.375, -119.375, -119.375, -119.375, -119.375, -119.375,\n",
       "        -119.375, -119.375],\n",
       "       [-118.75 , -118.75 , -118.75 , -118.75 , -118.75 , -118.75 ,\n",
       "        -118.75 , -118.75 , -118.75 , -118.75 , -118.75 , -118.75 ,\n",
       "        -118.75 , -118.75 , -118.75 , -118.75 , -118.75 , -118.75 ,\n",
       "        -118.75 , -118.75 , -118.75 , -118.75 , -118.75 , -118.75 ,\n",
       "        -118.75 , -118.75 , -118.75 , -118.75 , -118.75 , -118.75 ,\n",
       "        -118.75 , -118.75 , -118.75 , -118.75 , -118.75 , -118.75 ,\n",
       "        -118.75 , -118.75 , -118.75 , -118.75 , -118.75 , -118.75 ,\n",
       "        -118.75 , -118.75 , -118.75 , -118.75 , -118.75 , -118.75 ,\n",
       "        -118.75 , -118.75 ],\n",
       "       [-118.125, -118.125, -118.125, -118.125, -118.125, -118.125,\n",
       "        -118.125, -118.125, -118.125, -118.125, -118.125, -118.125,\n",
       "        -118.125, -118.125, -118.125, -118.125, -118.125, -118.125,\n",
       "        -118.125, -118.125, -118.125, -118.125, -118.125, -118.125,\n",
       "        -118.125, -118.125, -118.125, -118.125, -118.125, -118.125,\n",
       "        -118.125, -118.125, -118.125, -118.125, -118.125, -118.125,\n",
       "        -118.125, -118.125, -118.125, -118.125, -118.125, -118.125,\n",
       "        -118.125, -118.125, -118.125, -118.125, -118.125, -118.125,\n",
       "        -118.125, -118.125],\n",
       "       [-117.5  , -117.5  , -117.5  , -117.5  , -117.5  , -117.5  ,\n",
       "        -117.5  , -117.5  , -117.5  , -117.5  , -117.5  , -117.5  ,\n",
       "        -117.5  , -117.5  , -117.5  , -117.5  , -117.5  , -117.5  ,\n",
       "        -117.5  , -117.5  , -117.5  , -117.5  , -117.5  , -117.5  ,\n",
       "        -117.5  , -117.5  , -117.5  , -117.5  , -117.5  , -117.5  ,\n",
       "        -117.5  , -117.5  , -117.5  , -117.5  , -117.5  , -117.5  ,\n",
       "        -117.5  , -117.5  , -117.5  , -117.5  , -117.5  , -117.5  ,\n",
       "        -117.5  , -117.5  , -117.5  , -117.5  , -117.5  , -117.5  ,\n",
       "        -117.5  , -117.5  ],\n",
       "       [-116.875, -116.875, -116.875, -116.875, -116.875, -116.875,\n",
       "        -116.875, -116.875, -116.875, -116.875, -116.875, -116.875,\n",
       "        -116.875, -116.875, -116.875, -116.875, -116.875, -116.875,\n",
       "        -116.875, -116.875, -116.875, -116.875, -116.875, -116.875,\n",
       "        -116.875, -116.875, -116.875, -116.875, -116.875, -116.875,\n",
       "        -116.875, -116.875, -116.875, -116.875, -116.875, -116.875,\n",
       "        -116.875, -116.875, -116.875, -116.875, -116.875, -116.875,\n",
       "        -116.875, -116.875, -116.875, -116.875, -116.875, -116.875,\n",
       "        -116.875, -116.875],\n",
       "       [-116.25 , -116.25 , -116.25 , -116.25 , -116.25 , -116.25 ,\n",
       "        -116.25 , -116.25 , -116.25 , -116.25 , -116.25 , -116.25 ,\n",
       "        -116.25 , -116.25 , -116.25 , -116.25 , -116.25 , -116.25 ,\n",
       "        -116.25 , -116.25 , -116.25 , -116.25 , -116.25 , -116.25 ,\n",
       "        -116.25 , -116.25 , -116.25 , -116.25 , -116.25 , -116.25 ,\n",
       "        -116.25 , -116.25 , -116.25 , -116.25 , -116.25 , -116.25 ,\n",
       "        -116.25 , -116.25 , -116.25 , -116.25 , -116.25 , -116.25 ,\n",
       "        -116.25 , -116.25 , -116.25 , -116.25 , -116.25 , -116.25 ,\n",
       "        -116.25 , -116.25 ],\n",
       "       [-115.625, -115.625, -115.625, -115.625, -115.625, -115.625,\n",
       "        -115.625, -115.625, -115.625, -115.625, -115.625, -115.625,\n",
       "        -115.625, -115.625, -115.625, -115.625, -115.625, -115.625,\n",
       "        -115.625, -115.625, -115.625, -115.625, -115.625, -115.625,\n",
       "        -115.625, -115.625, -115.625, -115.625, -115.625, -115.625,\n",
       "        -115.625, -115.625, -115.625, -115.625, -115.625, -115.625,\n",
       "        -115.625, -115.625, -115.625, -115.625, -115.625, -115.625,\n",
       "        -115.625, -115.625, -115.625, -115.625, -115.625, -115.625,\n",
       "        -115.625, -115.625],\n",
       "       [-115.   , -115.   , -115.   , -115.   , -115.   , -115.   ,\n",
       "        -115.   , -115.   , -115.   , -115.   , -115.   , -115.   ,\n",
       "        -115.   , -115.   , -115.   , -115.   , -115.   , -115.   ,\n",
       "        -115.   , -115.   , -115.   , -115.   , -115.   , -115.   ,\n",
       "        -115.   , -115.   , -115.   , -115.   , -115.   , -115.   ,\n",
       "        -115.   , -115.   , -115.   , -115.   , -115.   , -115.   ,\n",
       "        -115.   , -115.   , -115.   , -115.   , -115.   , -115.   ,\n",
       "        -115.   , -115.   , -115.   , -115.   , -115.   , -115.   ,\n",
       "        -115.   , -115.   ],\n",
       "       [-114.375, -114.375, -114.375, -114.375, -114.375, -114.375,\n",
       "        -114.375, -114.375, -114.375, -114.375, -114.375, -114.375,\n",
       "        -114.375, -114.375, -114.375, -114.375, -114.375, -114.375,\n",
       "        -114.375, -114.375, -114.375, -114.375, -114.375, -114.375,\n",
       "        -114.375, -114.375, -114.375, -114.375, -114.375, -114.375,\n",
       "        -114.375, -114.375, -114.375, -114.375, -114.375, -114.375,\n",
       "        -114.375, -114.375, -114.375, -114.375, -114.375, -114.375,\n",
       "        -114.375, -114.375, -114.375, -114.375, -114.375, -114.375,\n",
       "        -114.375, -114.375]])"
      ]
     },
     "execution_count": 356,
     "metadata": {},
     "output_type": "execute_result"
    }
   ],
   "source": [
    "Yi"
   ]
  },
  {
   "cell_type": "code",
   "execution_count": 333,
   "metadata": {},
   "outputs": [],
   "source": [
    "lons = pst_final['lon']\n",
    "lats = pst_final['lat']\n",
    "lon, lat = np.meshgrid(lons, lats)"
   ]
  },
  {
   "cell_type": "code",
   "execution_count": 359,
   "metadata": {},
   "outputs": [
    {
     "data": {
      "text/plain": [
       "array([[-125.   , -124.375, -123.75 , ..., -115.625, -115.   , -114.375],\n",
       "       [-125.   , -124.375, -123.75 , ..., -115.625, -115.   , -114.375],\n",
       "       [-125.   , -124.375, -123.75 , ..., -115.625, -115.   , -114.375],\n",
       "       ...,\n",
       "       [-125.   , -124.375, -123.75 , ..., -115.625, -115.   , -114.375],\n",
       "       [-125.   , -124.375, -123.75 , ..., -115.625, -115.   , -114.375],\n",
       "       [-125.   , -124.375, -123.75 , ..., -115.625, -115.   , -114.375]])"
      ]
     },
     "execution_count": 359,
     "metadata": {},
     "output_type": "execute_result"
    }
   ],
   "source": [
    "lon"
   ]
  },
  {
   "cell_type": "code",
   "execution_count": 358,
   "metadata": {},
   "outputs": [
    {
     "ename": "TypeError",
     "evalue": "Input z must be 2D, not 1D",
     "output_type": "error",
     "traceback": [
      "\u001b[0;31m---------------------------------------------------------------------------\u001b[0m",
      "\u001b[0;31mTypeError\u001b[0m                                 Traceback (most recent call last)",
      "\u001b[0;32m<ipython-input-358-94867634028f>\u001b[0m in \u001b[0;36m<module>\u001b[0;34m\u001b[0m\n\u001b[1;32m     10\u001b[0m     \u001b[0;31m# Set contour levels, then draw the plot and a colorbar\u001b[0m\u001b[0;34m\u001b[0m\u001b[0;34m\u001b[0m\u001b[0;34m\u001b[0m\u001b[0m\n\u001b[1;32m     11\u001b[0m     \u001b[0;31m#clevs = np.arange(0,19,1)\u001b[0m\u001b[0;34m\u001b[0m\u001b[0;34m\u001b[0m\u001b[0;34m\u001b[0m\u001b[0m\n\u001b[0;32m---> 12\u001b[0;31m \u001b[0mplt\u001b[0m\u001b[0;34m.\u001b[0m\u001b[0mcontourf\u001b[0m\u001b[0;34m(\u001b[0m\u001b[0mlon\u001b[0m\u001b[0;34m,\u001b[0m \u001b[0mlat\u001b[0m\u001b[0;34m,\u001b[0m \u001b[0mpst_final\u001b[0m\u001b[0;34m[\u001b[0m\u001b[0;34m'hrs_below_freezing'\u001b[0m\u001b[0;34m]\u001b[0m\u001b[0;34m,\u001b[0m \u001b[0mtransform\u001b[0m\u001b[0;34m=\u001b[0m\u001b[0mccrs\u001b[0m\u001b[0;34m.\u001b[0m\u001b[0mPlateCarree\u001b[0m\u001b[0;34m(\u001b[0m\u001b[0;34m)\u001b[0m\u001b[0;34m,\u001b[0m\u001b[0mcmap\u001b[0m\u001b[0;34m=\u001b[0m\u001b[0mplt\u001b[0m\u001b[0;34m.\u001b[0m\u001b[0mcm\u001b[0m\u001b[0;34m.\u001b[0m\u001b[0mjet\u001b[0m\u001b[0;34m)\u001b[0m\u001b[0;34m\u001b[0m\u001b[0;34m\u001b[0m\u001b[0m\n\u001b[0m\u001b[1;32m     13\u001b[0m \u001b[0mplt\u001b[0m\u001b[0;34m.\u001b[0m\u001b[0mtitle\u001b[0m\u001b[0;34m(\u001b[0m\u001b[0;34m'MERRA-2 Daily Average gound temperature, {}'\u001b[0m\u001b[0;34m.\u001b[0m\u001b[0mformat\u001b[0m\u001b[0;34m(\u001b[0m\u001b[0mdate\u001b[0m\u001b[0;34m)\u001b[0m\u001b[0;34m,\u001b[0m \u001b[0msize\u001b[0m\u001b[0;34m=\u001b[0m\u001b[0;36m14\u001b[0m\u001b[0;34m)\u001b[0m\u001b[0;34m\u001b[0m\u001b[0;34m\u001b[0m\u001b[0m\n\u001b[1;32m     14\u001b[0m \u001b[0mcb\u001b[0m \u001b[0;34m=\u001b[0m \u001b[0mplt\u001b[0m\u001b[0;34m.\u001b[0m\u001b[0mcolorbar\u001b[0m\u001b[0;34m(\u001b[0m\u001b[0max\u001b[0m\u001b[0;34m=\u001b[0m\u001b[0max\u001b[0m\u001b[0;34m,\u001b[0m \u001b[0morientation\u001b[0m\u001b[0;34m=\u001b[0m\u001b[0;34m\"vertical\"\u001b[0m\u001b[0;34m,\u001b[0m \u001b[0mpad\u001b[0m\u001b[0;34m=\u001b[0m\u001b[0;36m0.02\u001b[0m\u001b[0;34m,\u001b[0m \u001b[0maspect\u001b[0m\u001b[0;34m=\u001b[0m\u001b[0;36m16\u001b[0m\u001b[0;34m,\u001b[0m \u001b[0mshrink\u001b[0m\u001b[0;34m=\u001b[0m\u001b[0;36m0.8\u001b[0m\u001b[0;34m)\u001b[0m\u001b[0;34m\u001b[0m\u001b[0;34m\u001b[0m\u001b[0m\n",
      "\u001b[0;32m~/anaconda3/lib/python3.7/site-packages/matplotlib/pyplot.py\u001b[0m in \u001b[0;36mcontourf\u001b[0;34m(data, *args, **kwargs)\u001b[0m\n\u001b[1;32m   2577\u001b[0m     __ret = gca().contourf(\n\u001b[1;32m   2578\u001b[0m         \u001b[0;34m*\u001b[0m\u001b[0margs\u001b[0m\u001b[0;34m,\u001b[0m \u001b[0;34m**\u001b[0m\u001b[0;34m(\u001b[0m\u001b[0;34m{\u001b[0m\u001b[0;34m\"data\"\u001b[0m\u001b[0;34m:\u001b[0m \u001b[0mdata\u001b[0m\u001b[0;34m}\u001b[0m \u001b[0;32mif\u001b[0m \u001b[0mdata\u001b[0m \u001b[0;32mis\u001b[0m \u001b[0;32mnot\u001b[0m \u001b[0;32mNone\u001b[0m \u001b[0;32melse\u001b[0m \u001b[0;34m{\u001b[0m\u001b[0;34m}\u001b[0m\u001b[0;34m)\u001b[0m\u001b[0;34m,\u001b[0m\u001b[0;34m\u001b[0m\u001b[0;34m\u001b[0m\u001b[0m\n\u001b[0;32m-> 2579\u001b[0;31m         **kwargs)\n\u001b[0m\u001b[1;32m   2580\u001b[0m     \u001b[0;32mif\u001b[0m \u001b[0m__ret\u001b[0m\u001b[0;34m.\u001b[0m\u001b[0m_A\u001b[0m \u001b[0;32mis\u001b[0m \u001b[0;32mnot\u001b[0m \u001b[0;32mNone\u001b[0m\u001b[0;34m:\u001b[0m \u001b[0msci\u001b[0m\u001b[0;34m(\u001b[0m\u001b[0m__ret\u001b[0m\u001b[0;34m)\u001b[0m  \u001b[0;31m# noqa\u001b[0m\u001b[0;34m\u001b[0m\u001b[0;34m\u001b[0m\u001b[0m\n\u001b[1;32m   2581\u001b[0m     \u001b[0;32mreturn\u001b[0m \u001b[0m__ret\u001b[0m\u001b[0;34m\u001b[0m\u001b[0;34m\u001b[0m\u001b[0m\n",
      "\u001b[0;32m~/anaconda3/lib/python3.7/site-packages/cartopy/mpl/geoaxes.py\u001b[0m in \u001b[0;36mcontourf\u001b[0;34m(self, *args, **kwargs)\u001b[0m\n\u001b[1;32m   1398\u001b[0m                         \u001b[0msub_trans\u001b[0m\u001b[0;34m.\u001b[0m\u001b[0mforce_path_ccw\u001b[0m \u001b[0;34m=\u001b[0m \u001b[0;32mTrue\u001b[0m\u001b[0;34m\u001b[0m\u001b[0;34m\u001b[0m\u001b[0m\n\u001b[1;32m   1399\u001b[0m \u001b[0;34m\u001b[0m\u001b[0m\n\u001b[0;32m-> 1400\u001b[0;31m         \u001b[0mresult\u001b[0m \u001b[0;34m=\u001b[0m \u001b[0mmatplotlib\u001b[0m\u001b[0;34m.\u001b[0m\u001b[0maxes\u001b[0m\u001b[0;34m.\u001b[0m\u001b[0mAxes\u001b[0m\u001b[0;34m.\u001b[0m\u001b[0mcontourf\u001b[0m\u001b[0;34m(\u001b[0m\u001b[0mself\u001b[0m\u001b[0;34m,\u001b[0m \u001b[0;34m*\u001b[0m\u001b[0margs\u001b[0m\u001b[0;34m,\u001b[0m \u001b[0;34m**\u001b[0m\u001b[0mkwargs\u001b[0m\u001b[0;34m)\u001b[0m\u001b[0;34m\u001b[0m\u001b[0;34m\u001b[0m\u001b[0m\n\u001b[0m\u001b[1;32m   1401\u001b[0m \u001b[0;34m\u001b[0m\u001b[0m\n\u001b[1;32m   1402\u001b[0m         \u001b[0;31m# We need to compute the dataLim correctly for contours.\u001b[0m\u001b[0;34m\u001b[0m\u001b[0;34m\u001b[0m\u001b[0;34m\u001b[0m\u001b[0m\n",
      "\u001b[0;32m~/anaconda3/lib/python3.7/site-packages/matplotlib/__init__.py\u001b[0m in \u001b[0;36minner\u001b[0;34m(ax, data, *args, **kwargs)\u001b[0m\n\u001b[1;32m   1436\u001b[0m     \u001b[0;32mdef\u001b[0m \u001b[0minner\u001b[0m\u001b[0;34m(\u001b[0m\u001b[0max\u001b[0m\u001b[0;34m,\u001b[0m \u001b[0;34m*\u001b[0m\u001b[0margs\u001b[0m\u001b[0;34m,\u001b[0m \u001b[0mdata\u001b[0m\u001b[0;34m=\u001b[0m\u001b[0;32mNone\u001b[0m\u001b[0;34m,\u001b[0m \u001b[0;34m**\u001b[0m\u001b[0mkwargs\u001b[0m\u001b[0;34m)\u001b[0m\u001b[0;34m:\u001b[0m\u001b[0;34m\u001b[0m\u001b[0;34m\u001b[0m\u001b[0m\n\u001b[1;32m   1437\u001b[0m         \u001b[0;32mif\u001b[0m \u001b[0mdata\u001b[0m \u001b[0;32mis\u001b[0m \u001b[0;32mNone\u001b[0m\u001b[0;34m:\u001b[0m\u001b[0;34m\u001b[0m\u001b[0;34m\u001b[0m\u001b[0m\n\u001b[0;32m-> 1438\u001b[0;31m             \u001b[0;32mreturn\u001b[0m \u001b[0mfunc\u001b[0m\u001b[0;34m(\u001b[0m\u001b[0max\u001b[0m\u001b[0;34m,\u001b[0m \u001b[0;34m*\u001b[0m\u001b[0mmap\u001b[0m\u001b[0;34m(\u001b[0m\u001b[0msanitize_sequence\u001b[0m\u001b[0;34m,\u001b[0m \u001b[0margs\u001b[0m\u001b[0;34m)\u001b[0m\u001b[0;34m,\u001b[0m \u001b[0;34m**\u001b[0m\u001b[0mkwargs\u001b[0m\u001b[0;34m)\u001b[0m\u001b[0;34m\u001b[0m\u001b[0;34m\u001b[0m\u001b[0m\n\u001b[0m\u001b[1;32m   1439\u001b[0m \u001b[0;34m\u001b[0m\u001b[0m\n\u001b[1;32m   1440\u001b[0m         \u001b[0mbound\u001b[0m \u001b[0;34m=\u001b[0m \u001b[0mnew_sig\u001b[0m\u001b[0;34m.\u001b[0m\u001b[0mbind\u001b[0m\u001b[0;34m(\u001b[0m\u001b[0max\u001b[0m\u001b[0;34m,\u001b[0m \u001b[0;34m*\u001b[0m\u001b[0margs\u001b[0m\u001b[0;34m,\u001b[0m \u001b[0;34m**\u001b[0m\u001b[0mkwargs\u001b[0m\u001b[0;34m)\u001b[0m\u001b[0;34m\u001b[0m\u001b[0;34m\u001b[0m\u001b[0m\n",
      "\u001b[0;32m~/anaconda3/lib/python3.7/site-packages/matplotlib/axes/_axes.py\u001b[0m in \u001b[0;36mcontourf\u001b[0;34m(self, *args, **kwargs)\u001b[0m\n\u001b[1;32m   6338\u001b[0m     \u001b[0;32mdef\u001b[0m \u001b[0mcontourf\u001b[0m\u001b[0;34m(\u001b[0m\u001b[0mself\u001b[0m\u001b[0;34m,\u001b[0m \u001b[0;34m*\u001b[0m\u001b[0margs\u001b[0m\u001b[0;34m,\u001b[0m \u001b[0;34m**\u001b[0m\u001b[0mkwargs\u001b[0m\u001b[0;34m)\u001b[0m\u001b[0;34m:\u001b[0m\u001b[0;34m\u001b[0m\u001b[0;34m\u001b[0m\u001b[0m\n\u001b[1;32m   6339\u001b[0m         \u001b[0mkwargs\u001b[0m\u001b[0;34m[\u001b[0m\u001b[0;34m'filled'\u001b[0m\u001b[0;34m]\u001b[0m \u001b[0;34m=\u001b[0m \u001b[0;32mTrue\u001b[0m\u001b[0;34m\u001b[0m\u001b[0;34m\u001b[0m\u001b[0m\n\u001b[0;32m-> 6340\u001b[0;31m         \u001b[0mcontours\u001b[0m \u001b[0;34m=\u001b[0m \u001b[0mmcontour\u001b[0m\u001b[0;34m.\u001b[0m\u001b[0mQuadContourSet\u001b[0m\u001b[0;34m(\u001b[0m\u001b[0mself\u001b[0m\u001b[0;34m,\u001b[0m \u001b[0;34m*\u001b[0m\u001b[0margs\u001b[0m\u001b[0;34m,\u001b[0m \u001b[0;34m**\u001b[0m\u001b[0mkwargs\u001b[0m\u001b[0;34m)\u001b[0m\u001b[0;34m\u001b[0m\u001b[0;34m\u001b[0m\u001b[0m\n\u001b[0m\u001b[1;32m   6341\u001b[0m         \u001b[0mself\u001b[0m\u001b[0;34m.\u001b[0m\u001b[0m_request_autoscale_view\u001b[0m\u001b[0;34m(\u001b[0m\u001b[0;34m)\u001b[0m\u001b[0;34m\u001b[0m\u001b[0;34m\u001b[0m\u001b[0m\n\u001b[1;32m   6342\u001b[0m         \u001b[0;32mreturn\u001b[0m \u001b[0mcontours\u001b[0m\u001b[0;34m\u001b[0m\u001b[0;34m\u001b[0m\u001b[0m\n",
      "\u001b[0;32m~/anaconda3/lib/python3.7/site-packages/matplotlib/contour.py\u001b[0m in \u001b[0;36m__init__\u001b[0;34m(self, ax, levels, filled, linewidths, linestyles, hatches, alpha, origin, extent, cmap, colors, norm, vmin, vmax, extend, antialiased, nchunk, locator, transform, *args, **kwargs)\u001b[0m\n\u001b[1;32m    814\u001b[0m         \u001b[0mself\u001b[0m\u001b[0;34m.\u001b[0m\u001b[0m_transform\u001b[0m \u001b[0;34m=\u001b[0m \u001b[0mtransform\u001b[0m\u001b[0;34m\u001b[0m\u001b[0;34m\u001b[0m\u001b[0m\n\u001b[1;32m    815\u001b[0m \u001b[0;34m\u001b[0m\u001b[0m\n\u001b[0;32m--> 816\u001b[0;31m         \u001b[0mkwargs\u001b[0m \u001b[0;34m=\u001b[0m \u001b[0mself\u001b[0m\u001b[0;34m.\u001b[0m\u001b[0m_process_args\u001b[0m\u001b[0;34m(\u001b[0m\u001b[0;34m*\u001b[0m\u001b[0margs\u001b[0m\u001b[0;34m,\u001b[0m \u001b[0;34m**\u001b[0m\u001b[0mkwargs\u001b[0m\u001b[0;34m)\u001b[0m\u001b[0;34m\u001b[0m\u001b[0;34m\u001b[0m\u001b[0m\n\u001b[0m\u001b[1;32m    817\u001b[0m         \u001b[0mself\u001b[0m\u001b[0;34m.\u001b[0m\u001b[0m_process_levels\u001b[0m\u001b[0;34m(\u001b[0m\u001b[0;34m)\u001b[0m\u001b[0;34m\u001b[0m\u001b[0;34m\u001b[0m\u001b[0m\n\u001b[1;32m    818\u001b[0m \u001b[0;34m\u001b[0m\u001b[0m\n",
      "\u001b[0;32m~/anaconda3/lib/python3.7/site-packages/matplotlib/contour.py\u001b[0m in \u001b[0;36m_process_args\u001b[0;34m(self, corner_mask, *args, **kwargs)\u001b[0m\n\u001b[1;32m   1428\u001b[0m             \u001b[0mself\u001b[0m\u001b[0;34m.\u001b[0m\u001b[0m_corner_mask\u001b[0m \u001b[0;34m=\u001b[0m \u001b[0mcorner_mask\u001b[0m\u001b[0;34m\u001b[0m\u001b[0;34m\u001b[0m\u001b[0m\n\u001b[1;32m   1429\u001b[0m \u001b[0;34m\u001b[0m\u001b[0m\n\u001b[0;32m-> 1430\u001b[0;31m             \u001b[0mx\u001b[0m\u001b[0;34m,\u001b[0m \u001b[0my\u001b[0m\u001b[0;34m,\u001b[0m \u001b[0mz\u001b[0m \u001b[0;34m=\u001b[0m \u001b[0mself\u001b[0m\u001b[0;34m.\u001b[0m\u001b[0m_contour_args\u001b[0m\u001b[0;34m(\u001b[0m\u001b[0margs\u001b[0m\u001b[0;34m,\u001b[0m \u001b[0mkwargs\u001b[0m\u001b[0;34m)\u001b[0m\u001b[0;34m\u001b[0m\u001b[0;34m\u001b[0m\u001b[0m\n\u001b[0m\u001b[1;32m   1431\u001b[0m \u001b[0;34m\u001b[0m\u001b[0m\n\u001b[1;32m   1432\u001b[0m             \u001b[0m_mask\u001b[0m \u001b[0;34m=\u001b[0m \u001b[0mma\u001b[0m\u001b[0;34m.\u001b[0m\u001b[0mgetmask\u001b[0m\u001b[0;34m(\u001b[0m\u001b[0mz\u001b[0m\u001b[0;34m)\u001b[0m\u001b[0;34m\u001b[0m\u001b[0;34m\u001b[0m\u001b[0m\n",
      "\u001b[0;32m~/anaconda3/lib/python3.7/site-packages/matplotlib/contour.py\u001b[0m in \u001b[0;36m_contour_args\u001b[0;34m(self, args, kwargs)\u001b[0m\n\u001b[1;32m   1486\u001b[0m             \u001b[0margs\u001b[0m \u001b[0;34m=\u001b[0m \u001b[0margs\u001b[0m\u001b[0;34m[\u001b[0m\u001b[0;36m1\u001b[0m\u001b[0;34m:\u001b[0m\u001b[0;34m]\u001b[0m\u001b[0;34m\u001b[0m\u001b[0;34m\u001b[0m\u001b[0m\n\u001b[1;32m   1487\u001b[0m         \u001b[0;32melif\u001b[0m \u001b[0mNargs\u001b[0m \u001b[0;34m<=\u001b[0m \u001b[0;36m4\u001b[0m\u001b[0;34m:\u001b[0m\u001b[0;34m\u001b[0m\u001b[0;34m\u001b[0m\u001b[0m\n\u001b[0;32m-> 1488\u001b[0;31m             \u001b[0mx\u001b[0m\u001b[0;34m,\u001b[0m \u001b[0my\u001b[0m\u001b[0;34m,\u001b[0m \u001b[0mz\u001b[0m \u001b[0;34m=\u001b[0m \u001b[0mself\u001b[0m\u001b[0;34m.\u001b[0m\u001b[0m_check_xyz\u001b[0m\u001b[0;34m(\u001b[0m\u001b[0margs\u001b[0m\u001b[0;34m[\u001b[0m\u001b[0;34m:\u001b[0m\u001b[0;36m3\u001b[0m\u001b[0;34m]\u001b[0m\u001b[0;34m,\u001b[0m \u001b[0mkwargs\u001b[0m\u001b[0;34m)\u001b[0m\u001b[0;34m\u001b[0m\u001b[0;34m\u001b[0m\u001b[0m\n\u001b[0m\u001b[1;32m   1489\u001b[0m             \u001b[0margs\u001b[0m \u001b[0;34m=\u001b[0m \u001b[0margs\u001b[0m\u001b[0;34m[\u001b[0m\u001b[0;36m3\u001b[0m\u001b[0;34m:\u001b[0m\u001b[0;34m]\u001b[0m\u001b[0;34m\u001b[0m\u001b[0;34m\u001b[0m\u001b[0m\n\u001b[1;32m   1490\u001b[0m         \u001b[0;32melse\u001b[0m\u001b[0;34m:\u001b[0m\u001b[0;34m\u001b[0m\u001b[0;34m\u001b[0m\u001b[0m\n",
      "\u001b[0;32m~/anaconda3/lib/python3.7/site-packages/matplotlib/contour.py\u001b[0m in \u001b[0;36m_check_xyz\u001b[0;34m(self, args, kwargs)\u001b[0m\n\u001b[1;32m   1517\u001b[0m \u001b[0;34m\u001b[0m\u001b[0m\n\u001b[1;32m   1518\u001b[0m         \u001b[0;32mif\u001b[0m \u001b[0mz\u001b[0m\u001b[0;34m.\u001b[0m\u001b[0mndim\u001b[0m \u001b[0;34m!=\u001b[0m \u001b[0;36m2\u001b[0m\u001b[0;34m:\u001b[0m\u001b[0;34m\u001b[0m\u001b[0;34m\u001b[0m\u001b[0m\n\u001b[0;32m-> 1519\u001b[0;31m             \u001b[0;32mraise\u001b[0m \u001b[0mTypeError\u001b[0m\u001b[0;34m(\u001b[0m\u001b[0;34mf\"Input z must be 2D, not {z.ndim}D\"\u001b[0m\u001b[0;34m)\u001b[0m\u001b[0;34m\u001b[0m\u001b[0;34m\u001b[0m\u001b[0m\n\u001b[0m\u001b[1;32m   1520\u001b[0m         \u001b[0;32mif\u001b[0m \u001b[0mz\u001b[0m\u001b[0;34m.\u001b[0m\u001b[0mshape\u001b[0m\u001b[0;34m[\u001b[0m\u001b[0;36m0\u001b[0m\u001b[0;34m]\u001b[0m \u001b[0;34m<\u001b[0m \u001b[0;36m2\u001b[0m \u001b[0;32mor\u001b[0m \u001b[0mz\u001b[0m\u001b[0;34m.\u001b[0m\u001b[0mshape\u001b[0m\u001b[0;34m[\u001b[0m\u001b[0;36m1\u001b[0m\u001b[0;34m]\u001b[0m \u001b[0;34m<\u001b[0m \u001b[0;36m2\u001b[0m\u001b[0;34m:\u001b[0m\u001b[0;34m\u001b[0m\u001b[0;34m\u001b[0m\u001b[0m\n\u001b[1;32m   1521\u001b[0m             raise TypeError(f\"Input z must be at least a (2, 2) shaped array, \"\n",
      "\u001b[0;31mTypeError\u001b[0m: Input z must be 2D, not 1D"
     ]
    },
    {
     "data": {
      "image/png": "[encoded data removed]",
      "text/plain": [
       "<Figure size 1440x720 with 1 Axes>"
      ]
     },
     "metadata": {
      "needs_background": "light"
     },
     "output_type": "display_data"
    }
   ],
   "source": [
    "fig = plt.figure(figsize=(20,10))\n",
    "ax = plt.axes(projection=ccrs.Robinson())\n",
    "#ax.set_extent([-400,-180,80,300])\n",
    "ax.set_global()\n",
    "    #ax.coastlines(resolution=\"50m\",linewidth=1)\n",
    "ax.coastlines(resolution=\"110m\",linewidth=1)\n",
    "ax.gridlines(linestyle='--',color='black')\n",
    "\n",
    "\n",
    "    # Set contour levels, then draw the plot and a colorbar\n",
    "    #clevs = np.arange(0,19,1)\n",
    "plt.contourf(lon, lat, pst_final['hrs_below_freezing'], transform=ccrs.PlateCarree(),cmap=plt.cm.jet)\n",
    "plt.title('MERRA-2 Daily Average gound temperature, {}'.format(date), size=14)\n",
    "cb = plt.colorbar(ax=ax, orientation=\"vertical\", pad=0.02, aspect=16, shrink=0.8)\n",
    "cb.set_label('F',size=12,rotation=0,labelpad=15)\n",
    "cb.ax.tick_params(labelsize=10)"
   ]
  },
  {
   "cell_type": "markdown",
   "metadata": {},
   "source": [
    "### Daily Min -Out of Date"
   ]
  },
  {
   "cell_type": "code",
   "execution_count": 272,
   "metadata": {},
   "outputs": [],
   "source": [
    "test = pst_df.groupby(['lat', 'lon']).min()"
   ]
  },
  {
   "cell_type": "code",
   "execution_count": 273,
   "metadata": {},
   "outputs": [
    {
     "ename": "TypeError",
     "evalue": "'set' object is not callable",
     "output_type": "error",
     "traceback": [
      "\u001b[0;31m---------------------------------------------------------------------------\u001b[0m",
      "\u001b[0;31mTypeError\u001b[0m                                 Traceback (most recent call last)",
      "\u001b[0;32m<ipython-input-273-7708555a98f4>\u001b[0m in \u001b[0;36m<module>\u001b[0;34m\u001b[0m\n\u001b[1;32m      1\u001b[0m \u001b[0mtest\u001b[0m\u001b[0;34m.\u001b[0m\u001b[0mdrop\u001b[0m\u001b[0;34m(\u001b[0m\u001b[0mcolumns\u001b[0m \u001b[0;34m=\u001b[0m \u001b[0;34m[\u001b[0m\u001b[0;34m'time'\u001b[0m\u001b[0;34m,\u001b[0m\u001b[0;34m'local_time'\u001b[0m\u001b[0;34m,\u001b[0m \u001b[0;34m'below_freezing'\u001b[0m\u001b[0;34m]\u001b[0m\u001b[0;34m,\u001b[0m \u001b[0minplace\u001b[0m \u001b[0;34m=\u001b[0m \u001b[0;32mTrue\u001b[0m\u001b[0;34m)\u001b[0m\u001b[0;34m\u001b[0m\u001b[0;34m\u001b[0m\u001b[0m\n\u001b[0;32m----> 2\u001b[0;31m \u001b[0mtest\u001b[0m\u001b[0;34m.\u001b[0m\u001b[0mrename\u001b[0m\u001b[0;34m(\u001b[0m\u001b[0mcolumns\u001b[0m \u001b[0;34m=\u001b[0m \u001b[0;34m{\u001b[0m\u001b[0;34m'TS'\u001b[0m\u001b[0;34m,\u001b[0m \u001b[0;34m'min_daily_temp'\u001b[0m\u001b[0;34m}\u001b[0m\u001b[0;34m,\u001b[0m \u001b[0minplace\u001b[0m \u001b[0;34m=\u001b[0m \u001b[0;32mTrue\u001b[0m\u001b[0;34m)\u001b[0m\u001b[0;34m\u001b[0m\u001b[0;34m\u001b[0m\u001b[0m\n\u001b[0m",
      "\u001b[0;32m~/anaconda3/lib/python3.7/site-packages/pandas/util/_decorators.py\u001b[0m in \u001b[0;36mwrapper\u001b[0;34m(*args, **kwargs)\u001b[0m\n\u001b[1;32m    307\u001b[0m         \u001b[0;34m@\u001b[0m\u001b[0mwraps\u001b[0m\u001b[0;34m(\u001b[0m\u001b[0mfunc\u001b[0m\u001b[0;34m)\u001b[0m\u001b[0;34m\u001b[0m\u001b[0;34m\u001b[0m\u001b[0m\n\u001b[1;32m    308\u001b[0m         \u001b[0;32mdef\u001b[0m \u001b[0mwrapper\u001b[0m\u001b[0;34m(\u001b[0m\u001b[0;34m*\u001b[0m\u001b[0margs\u001b[0m\u001b[0;34m,\u001b[0m \u001b[0;34m**\u001b[0m\u001b[0mkwargs\u001b[0m\u001b[0;34m)\u001b[0m \u001b[0;34m->\u001b[0m \u001b[0mCallable\u001b[0m\u001b[0;34m[\u001b[0m\u001b[0;34m...\u001b[0m\u001b[0;34m,\u001b[0m \u001b[0mAny\u001b[0m\u001b[0;34m]\u001b[0m\u001b[0;34m:\u001b[0m\u001b[0;34m\u001b[0m\u001b[0;34m\u001b[0m\u001b[0m\n\u001b[0;32m--> 309\u001b[0;31m             \u001b[0;32mreturn\u001b[0m \u001b[0mfunc\u001b[0m\u001b[0;34m(\u001b[0m\u001b[0;34m*\u001b[0m\u001b[0margs\u001b[0m\u001b[0;34m,\u001b[0m \u001b[0;34m**\u001b[0m\u001b[0mkwargs\u001b[0m\u001b[0;34m)\u001b[0m\u001b[0;34m\u001b[0m\u001b[0;34m\u001b[0m\u001b[0m\n\u001b[0m\u001b[1;32m    310\u001b[0m \u001b[0;34m\u001b[0m\u001b[0m\n\u001b[1;32m    311\u001b[0m         \u001b[0mkind\u001b[0m \u001b[0;34m=\u001b[0m \u001b[0minspect\u001b[0m\u001b[0;34m.\u001b[0m\u001b[0mParameter\u001b[0m\u001b[0;34m.\u001b[0m\u001b[0mPOSITIONAL_OR_KEYWORD\u001b[0m\u001b[0;34m\u001b[0m\u001b[0;34m\u001b[0m\u001b[0m\n",
      "\u001b[0;32m~/anaconda3/lib/python3.7/site-packages/pandas/core/frame.py\u001b[0m in \u001b[0;36mrename\u001b[0;34m(self, mapper, index, columns, axis, copy, inplace, level, errors)\u001b[0m\n\u001b[1;32m   4302\u001b[0m             \u001b[0minplace\u001b[0m\u001b[0;34m=\u001b[0m\u001b[0minplace\u001b[0m\u001b[0;34m,\u001b[0m\u001b[0;34m\u001b[0m\u001b[0;34m\u001b[0m\u001b[0m\n\u001b[1;32m   4303\u001b[0m             \u001b[0mlevel\u001b[0m\u001b[0;34m=\u001b[0m\u001b[0mlevel\u001b[0m\u001b[0;34m,\u001b[0m\u001b[0;34m\u001b[0m\u001b[0;34m\u001b[0m\u001b[0m\n\u001b[0;32m-> 4304\u001b[0;31m             \u001b[0merrors\u001b[0m\u001b[0;34m=\u001b[0m\u001b[0merrors\u001b[0m\u001b[0;34m,\u001b[0m\u001b[0;34m\u001b[0m\u001b[0;34m\u001b[0m\u001b[0m\n\u001b[0m\u001b[1;32m   4305\u001b[0m         )\n\u001b[1;32m   4306\u001b[0m \u001b[0;34m\u001b[0m\u001b[0m\n",
      "\u001b[0;32m~/anaconda3/lib/python3.7/site-packages/pandas/core/generic.py\u001b[0m in \u001b[0;36mrename\u001b[0;34m(self, mapper, index, columns, axis, copy, inplace, level, errors)\u001b[0m\n\u001b[1;32m    945\u001b[0m                     \u001b[0;32mraise\u001b[0m \u001b[0mKeyError\u001b[0m\u001b[0;34m(\u001b[0m\u001b[0;34mf\"{missing_labels} not found in axis\"\u001b[0m\u001b[0;34m)\u001b[0m\u001b[0;34m\u001b[0m\u001b[0;34m\u001b[0m\u001b[0m\n\u001b[1;32m    946\u001b[0m \u001b[0;34m\u001b[0m\u001b[0m\n\u001b[0;32m--> 947\u001b[0;31m             \u001b[0mnew_index\u001b[0m \u001b[0;34m=\u001b[0m \u001b[0max\u001b[0m\u001b[0;34m.\u001b[0m\u001b[0m_transform_index\u001b[0m\u001b[0;34m(\u001b[0m\u001b[0mf\u001b[0m\u001b[0;34m,\u001b[0m \u001b[0mlevel\u001b[0m\u001b[0;34m)\u001b[0m\u001b[0;34m\u001b[0m\u001b[0;34m\u001b[0m\u001b[0m\n\u001b[0m\u001b[1;32m    948\u001b[0m             \u001b[0mresult\u001b[0m\u001b[0;34m.\u001b[0m\u001b[0mset_axis\u001b[0m\u001b[0;34m(\u001b[0m\u001b[0mnew_index\u001b[0m\u001b[0;34m,\u001b[0m \u001b[0maxis\u001b[0m\u001b[0;34m=\u001b[0m\u001b[0maxis_no\u001b[0m\u001b[0;34m,\u001b[0m \u001b[0minplace\u001b[0m\u001b[0;34m=\u001b[0m\u001b[0;32mTrue\u001b[0m\u001b[0;34m)\u001b[0m\u001b[0;34m\u001b[0m\u001b[0;34m\u001b[0m\u001b[0m\n\u001b[1;32m    949\u001b[0m             \u001b[0mresult\u001b[0m\u001b[0;34m.\u001b[0m\u001b[0m_clear_item_cache\u001b[0m\u001b[0;34m(\u001b[0m\u001b[0;34m)\u001b[0m\u001b[0;34m\u001b[0m\u001b[0;34m\u001b[0m\u001b[0m\n",
      "\u001b[0;32m~/anaconda3/lib/python3.7/site-packages/pandas/core/indexes/base.py\u001b[0m in \u001b[0;36m_transform_index\u001b[0;34m(self, func, level)\u001b[0m\n\u001b[1;32m   4831\u001b[0m             \u001b[0;32mreturn\u001b[0m \u001b[0mtype\u001b[0m\u001b[0;34m(\u001b[0m\u001b[0mself\u001b[0m\u001b[0;34m)\u001b[0m\u001b[0;34m.\u001b[0m\u001b[0mfrom_tuples\u001b[0m\u001b[0;34m(\u001b[0m\u001b[0mitems\u001b[0m\u001b[0;34m,\u001b[0m \u001b[0mnames\u001b[0m\u001b[0;34m=\u001b[0m\u001b[0mself\u001b[0m\u001b[0;34m.\u001b[0m\u001b[0mnames\u001b[0m\u001b[0;34m)\u001b[0m\u001b[0;34m\u001b[0m\u001b[0;34m\u001b[0m\u001b[0m\n\u001b[1;32m   4832\u001b[0m         \u001b[0;32melse\u001b[0m\u001b[0;34m:\u001b[0m\u001b[0;34m\u001b[0m\u001b[0;34m\u001b[0m\u001b[0m\n\u001b[0;32m-> 4833\u001b[0;31m             \u001b[0mitems\u001b[0m \u001b[0;34m=\u001b[0m \u001b[0;34m[\u001b[0m\u001b[0mfunc\u001b[0m\u001b[0;34m(\u001b[0m\u001b[0mx\u001b[0m\u001b[0;34m)\u001b[0m \u001b[0;32mfor\u001b[0m \u001b[0mx\u001b[0m \u001b[0;32min\u001b[0m \u001b[0mself\u001b[0m\u001b[0;34m]\u001b[0m\u001b[0;34m\u001b[0m\u001b[0;34m\u001b[0m\u001b[0m\n\u001b[0m\u001b[1;32m   4834\u001b[0m             \u001b[0;32mreturn\u001b[0m \u001b[0mIndex\u001b[0m\u001b[0;34m(\u001b[0m\u001b[0mitems\u001b[0m\u001b[0;34m,\u001b[0m \u001b[0mname\u001b[0m\u001b[0;34m=\u001b[0m\u001b[0mself\u001b[0m\u001b[0;34m.\u001b[0m\u001b[0mname\u001b[0m\u001b[0;34m,\u001b[0m \u001b[0mtupleize_cols\u001b[0m\u001b[0;34m=\u001b[0m\u001b[0;32mFalse\u001b[0m\u001b[0;34m)\u001b[0m\u001b[0;34m\u001b[0m\u001b[0;34m\u001b[0m\u001b[0m\n\u001b[1;32m   4835\u001b[0m \u001b[0;34m\u001b[0m\u001b[0m\n",
      "\u001b[0;32m~/anaconda3/lib/python3.7/site-packages/pandas/core/indexes/base.py\u001b[0m in \u001b[0;36m<listcomp>\u001b[0;34m(.0)\u001b[0m\n\u001b[1;32m   4831\u001b[0m             \u001b[0;32mreturn\u001b[0m \u001b[0mtype\u001b[0m\u001b[0;34m(\u001b[0m\u001b[0mself\u001b[0m\u001b[0;34m)\u001b[0m\u001b[0;34m.\u001b[0m\u001b[0mfrom_tuples\u001b[0m\u001b[0;34m(\u001b[0m\u001b[0mitems\u001b[0m\u001b[0;34m,\u001b[0m \u001b[0mnames\u001b[0m\u001b[0;34m=\u001b[0m\u001b[0mself\u001b[0m\u001b[0;34m.\u001b[0m\u001b[0mnames\u001b[0m\u001b[0;34m)\u001b[0m\u001b[0;34m\u001b[0m\u001b[0;34m\u001b[0m\u001b[0m\n\u001b[1;32m   4832\u001b[0m         \u001b[0;32melse\u001b[0m\u001b[0;34m:\u001b[0m\u001b[0;34m\u001b[0m\u001b[0;34m\u001b[0m\u001b[0m\n\u001b[0;32m-> 4833\u001b[0;31m             \u001b[0mitems\u001b[0m \u001b[0;34m=\u001b[0m \u001b[0;34m[\u001b[0m\u001b[0mfunc\u001b[0m\u001b[0;34m(\u001b[0m\u001b[0mx\u001b[0m\u001b[0;34m)\u001b[0m \u001b[0;32mfor\u001b[0m \u001b[0mx\u001b[0m \u001b[0;32min\u001b[0m \u001b[0mself\u001b[0m\u001b[0;34m]\u001b[0m\u001b[0;34m\u001b[0m\u001b[0;34m\u001b[0m\u001b[0m\n\u001b[0m\u001b[1;32m   4834\u001b[0m             \u001b[0;32mreturn\u001b[0m \u001b[0mIndex\u001b[0m\u001b[0;34m(\u001b[0m\u001b[0mitems\u001b[0m\u001b[0;34m,\u001b[0m \u001b[0mname\u001b[0m\u001b[0;34m=\u001b[0m\u001b[0mself\u001b[0m\u001b[0;34m.\u001b[0m\u001b[0mname\u001b[0m\u001b[0;34m,\u001b[0m \u001b[0mtupleize_cols\u001b[0m\u001b[0;34m=\u001b[0m\u001b[0;32mFalse\u001b[0m\u001b[0;34m)\u001b[0m\u001b[0;34m\u001b[0m\u001b[0;34m\u001b[0m\u001b[0m\n\u001b[1;32m   4835\u001b[0m \u001b[0;34m\u001b[0m\u001b[0m\n",
      "\u001b[0;31mTypeError\u001b[0m: 'set' object is not callable"
     ]
    }
   ],
   "source": [
    "test.drop(columns = ['time','local_time', 'below_freezing'], inplace = True)"
   ]
  },
  {
   "cell_type": "code",
   "execution_count": 280,
   "metadata": {},
   "outputs": [
    {
     "data": {
      "text/plain": [
       "Index(['min_daily_temp'], dtype='object')"
      ]
     },
     "execution_count": 280,
     "metadata": {},
     "output_type": "execute_result"
    }
   ],
   "source": [
    "test.columns"
   ]
  },
  {
   "cell_type": "code",
   "execution_count": 279,
   "metadata": {},
   "outputs": [],
   "source": [
    "#test2 = test.rename(columns = {'TS', 'min_daily_temp'})\n",
    "test.columns = ['min_daily_temp']"
   ]
  },
  {
   "cell_type": "code",
   "execution_count": 281,
   "metadata": {},
   "outputs": [],
   "source": [
    "test_merge = pd.merge(pst_df, test, left_on = ['lat','lon'], right_index = True)"
   ]
  },
  {
   "cell_type": "code",
   "execution_count": 282,
   "metadata": {},
   "outputs": [
    {
     "data": {
      "text/html": [
       "<div>\n",
       "<style scoped>\n",
       "    .dataframe tbody tr th:only-of-type {\n",
       "        vertical-align: middle;\n",
       "    }\n",
       "\n",
       "    .dataframe tbody tr th {\n",
       "        vertical-align: top;\n",
       "    }\n",
       "\n",
       "    .dataframe thead th {\n",
       "        text-align: right;\n",
       "    }\n",
       "</style>\n",
       "<table border=\"1\" class=\"dataframe\">\n",
       "  <thead>\n",
       "    <tr style=\"text-align: right;\">\n",
       "      <th></th>\n",
       "      <th>lat</th>\n",
       "      <th>lon</th>\n",
       "      <th>time</th>\n",
       "      <th>TS</th>\n",
       "      <th>local_time</th>\n",
       "      <th>below_freezing</th>\n",
       "      <th>min_daily_temp</th>\n",
       "    </tr>\n",
       "  </thead>\n",
       "  <tbody>\n",
       "    <tr>\n",
       "      <th>5</th>\n",
       "      <td>25.0</td>\n",
       "      <td>-125.000</td>\n",
       "      <td>2020-12-01 16:30:00</td>\n",
       "      <td>295.037292</td>\n",
       "      <td>2020-12-01 08:30:00</td>\n",
       "      <td>0</td>\n",
       "      <td>295.003876</td>\n",
       "    </tr>\n",
       "    <tr>\n",
       "      <th>6</th>\n",
       "      <td>25.0</td>\n",
       "      <td>-125.000</td>\n",
       "      <td>2020-12-01 17:30:00</td>\n",
       "      <td>295.032715</td>\n",
       "      <td>2020-12-01 09:30:00</td>\n",
       "      <td>0</td>\n",
       "      <td>295.003876</td>\n",
       "    </tr>\n",
       "    <tr>\n",
       "      <th>7</th>\n",
       "      <td>25.0</td>\n",
       "      <td>-125.000</td>\n",
       "      <td>2020-12-01 18:30:00</td>\n",
       "      <td>295.029877</td>\n",
       "      <td>2020-12-01 10:30:00</td>\n",
       "      <td>0</td>\n",
       "      <td>295.003876</td>\n",
       "    </tr>\n",
       "    <tr>\n",
       "      <th>8</th>\n",
       "      <td>25.0</td>\n",
       "      <td>-125.000</td>\n",
       "      <td>2020-12-01 19:30:00</td>\n",
       "      <td>295.021362</td>\n",
       "      <td>2020-12-01 11:30:00</td>\n",
       "      <td>0</td>\n",
       "      <td>295.003876</td>\n",
       "    </tr>\n",
       "    <tr>\n",
       "      <th>9</th>\n",
       "      <td>25.0</td>\n",
       "      <td>-125.000</td>\n",
       "      <td>2020-12-01 20:30:00</td>\n",
       "      <td>295.016785</td>\n",
       "      <td>2020-12-01 12:30:00</td>\n",
       "      <td>0</td>\n",
       "      <td>295.003876</td>\n",
       "    </tr>\n",
       "    <tr>\n",
       "      <th>...</th>\n",
       "      <td>...</td>\n",
       "      <td>...</td>\n",
       "      <td>...</td>\n",
       "      <td>...</td>\n",
       "      <td>...</td>\n",
       "      <td>...</td>\n",
       "      <td>...</td>\n",
       "    </tr>\n",
       "    <tr>\n",
       "      <th>60107</th>\n",
       "      <td>49.5</td>\n",
       "      <td>-114.375</td>\n",
       "      <td>2020-12-01 19:30:00</td>\n",
       "      <td>267.461792</td>\n",
       "      <td>2020-12-01 11:30:00</td>\n",
       "      <td>1</td>\n",
       "      <td>257.853699</td>\n",
       "    </tr>\n",
       "    <tr>\n",
       "      <th>60108</th>\n",
       "      <td>49.5</td>\n",
       "      <td>-114.375</td>\n",
       "      <td>2020-12-01 20:30:00</td>\n",
       "      <td>268.446472</td>\n",
       "      <td>2020-12-01 12:30:00</td>\n",
       "      <td>1</td>\n",
       "      <td>257.853699</td>\n",
       "    </tr>\n",
       "    <tr>\n",
       "      <th>60109</th>\n",
       "      <td>49.5</td>\n",
       "      <td>-114.375</td>\n",
       "      <td>2020-12-01 21:30:00</td>\n",
       "      <td>268.736053</td>\n",
       "      <td>2020-12-01 13:30:00</td>\n",
       "      <td>1</td>\n",
       "      <td>257.853699</td>\n",
       "    </tr>\n",
       "    <tr>\n",
       "      <th>60110</th>\n",
       "      <td>49.5</td>\n",
       "      <td>-114.375</td>\n",
       "      <td>2020-12-01 22:30:00</td>\n",
       "      <td>268.164978</td>\n",
       "      <td>2020-12-01 14:30:00</td>\n",
       "      <td>1</td>\n",
       "      <td>257.853699</td>\n",
       "    </tr>\n",
       "    <tr>\n",
       "      <th>60111</th>\n",
       "      <td>49.5</td>\n",
       "      <td>-114.375</td>\n",
       "      <td>2020-12-01 23:30:00</td>\n",
       "      <td>265.890594</td>\n",
       "      <td>2020-12-01 15:30:00</td>\n",
       "      <td>1</td>\n",
       "      <td>257.853699</td>\n",
       "    </tr>\n",
       "  </tbody>\n",
       "</table>\n",
       "<p>7200 rows × 7 columns</p>\n",
       "</div>"
      ],
      "text/plain": [
       "        lat      lon                time          TS          local_time  \\\n",
       "5      25.0 -125.000 2020-12-01 16:30:00  295.037292 2020-12-01 08:30:00   \n",
       "6      25.0 -125.000 2020-12-01 17:30:00  295.032715 2020-12-01 09:30:00   \n",
       "7      25.0 -125.000 2020-12-01 18:30:00  295.029877 2020-12-01 10:30:00   \n",
       "8      25.0 -125.000 2020-12-01 19:30:00  295.021362 2020-12-01 11:30:00   \n",
       "9      25.0 -125.000 2020-12-01 20:30:00  295.016785 2020-12-01 12:30:00   \n",
       "...     ...      ...                 ...         ...                 ...   \n",
       "60107  49.5 -114.375 2020-12-01 19:30:00  267.461792 2020-12-01 11:30:00   \n",
       "60108  49.5 -114.375 2020-12-01 20:30:00  268.446472 2020-12-01 12:30:00   \n",
       "60109  49.5 -114.375 2020-12-01 21:30:00  268.736053 2020-12-01 13:30:00   \n",
       "60110  49.5 -114.375 2020-12-01 22:30:00  268.164978 2020-12-01 14:30:00   \n",
       "60111  49.5 -114.375 2020-12-01 23:30:00  265.890594 2020-12-01 15:30:00   \n",
       "\n",
       "       below_freezing  min_daily_temp  \n",
       "5                   0      295.003876  \n",
       "6                   0      295.003876  \n",
       "7                   0      295.003876  \n",
       "8                   0      295.003876  \n",
       "9                   0      295.003876  \n",
       "...               ...             ...  \n",
       "60107               1      257.853699  \n",
       "60108               1      257.853699  \n",
       "60109               1      257.853699  \n",
       "60110               1      257.853699  \n",
       "60111               1      257.853699  \n",
       "\n",
       "[7200 rows x 7 columns]"
      ]
     },
     "execution_count": 282,
     "metadata": {},
     "output_type": "execute_result"
    }
   ],
   "source": [
    "test_merge"
   ]
  },
  {
   "cell_type": "markdown",
   "metadata": {},
   "source": [
    "### The tutorial way:"
   ]
  },
  {
   "cell_type": "code",
   "execution_count": 363,
   "metadata": {},
   "outputs": [],
   "source": [
    "data = Dataset(file, mode='r')"
   ]
  },
  {
   "cell_type": "code",
   "execution_count": 364,
   "metadata": {},
   "outputs": [
    {
     "name": "stdout",
     "output_type": "stream",
     "text": [
      "<class 'netCDF4._netCDF4.Dataset'>\n",
      "root group (NETCDF4 data model, file format HDF5):\n",
      "    CDI: Climate Data Interface version 1.9.8 (https://mpimet.mpg.de/cdi)\n",
      "    Conventions: CF-1\n",
      "    History: Original file generated: Thu Dec 17 04:51:39 2020 GMT\n",
      "    Comment: GMAO filename: d5124_m2_jan10.tavg1_2d_slv_Nx.20201203.nc4\n",
      "    Filename: MERRA2_400.tavg1_2d_slv_Nx.20201203.nc4\n",
      "    Institution: NASA Global Modeling and Assimilation Office\n",
      "    References: http://gmao.gsfc.nasa.gov\n",
      "    Format: NetCDF-4/HDF-5\n",
      "    SpatialCoverage: global\n",
      "    VersionID: 5.12.4\n",
      "    TemporalRange: 1980-01-01 -> 2016-12-31\n",
      "    identifier_product_doi_authority: http://dx.doi.org/\n",
      "    ShortName: M2T1NXSLV\n",
      "    GranuleID: MERRA2_400.tavg1_2d_slv_Nx.20201203.nc4\n",
      "    ProductionDateTime: Original file generated: Thu Dec 17 04:51:39 2020 GMT\n",
      "    LongName: MERRA2 tavg1_2d_slv_Nx: 2d,1-Hourly,Time-Averaged,Single-Level,Assimilation,Single-Level Diagnostics\n",
      "    Title: MERRA2 tavg1_2d_slv_Nx: 2d,1-Hourly,Time-Averaged,Single-Level,Assimilation,Single-Level Diagnostics\n",
      "    SouthernmostLatitude: -90.0\n",
      "    NorthernmostLatitude: 90.0\n",
      "    WesternmostLongitude: -180.0\n",
      "    EasternmostLongitude: 179.375\n",
      "    LatitudeResolution: 0.5\n",
      "    LongitudeResolution: 0.625\n",
      "    DataResolution: 0.5 x 0.625\n",
      "    Contact: http://gmao.gsfc.nasa.gov\n",
      "    identifier_product_doi: 10.5067/VJAFPLI1CSIV\n",
      "    RangeBeginningDate: 2020-12-03\n",
      "    RangeBeginningTime: 00:00:00.000000\n",
      "    RangeEndingDate: 2020-12-03\n",
      "    RangeEndingTime: 23:59:59.000000\n",
      "    history_L34RS: 'Created by L34RS v1.4.1 @ NASA GES DISC on January 24 2021 16:57:27. Spatial: -125.42 -66.709 24.785 49.922. Variables: TS. Timesteps: 12 13 14 15 16 17 18 19 20 21 22 23 24'\n",
      "    CDO: Climate Data Operators version 1.9.8 (https://mpimet.mpg.de/cdo)\n",
      "    dimensions(sizes): time(13), lon(94), lat(50)\n",
      "    variables(dimensions): int32 \u001b[4mtime\u001b[0m(time), float64 \u001b[4mlon\u001b[0m(lon), float64 \u001b[4mlat\u001b[0m(lat), float32 \u001b[4mTS\u001b[0m(time,lat,lon)\n",
      "    groups: \n",
      "\n"
     ]
    },
    {
     "name": "stderr",
     "output_type": "stream",
     "text": [
      "/Users/Sarah/anaconda3/lib/python3.7/site-packages/ipykernel_launcher.py:1: DeprecationWarning: tostring() is deprecated. Use tobytes() instead.\n",
      "  \"\"\"Entry point for launching an IPython kernel.\n"
     ]
    }
   ],
   "source": [
    "print(data)"
   ]
  },
  {
   "cell_type": "code",
   "execution_count": 365,
   "metadata": {},
   "outputs": [
    {
     "name": "stdout",
     "output_type": "stream",
     "text": [
      "odict_keys(['time', 'lon', 'lat', 'TS'])\n"
     ]
    }
   ],
   "source": [
    "print(data.variables.keys())"
   ]
  },
  {
   "cell_type": "code",
   "execution_count": 366,
   "metadata": {},
   "outputs": [
    {
     "data": {
      "text/plain": [
       "OrderedDict([('time',\n",
       "              <class 'netCDF4._netCDF4.Variable'>\n",
       "              int32 time(time)\n",
       "                  standard_name: time\n",
       "                  long_name: time\n",
       "                  units: minutes since 2020-12-03 00:30:00\n",
       "                  calendar: standard\n",
       "                  axis: T\n",
       "              unlimited dimensions: time\n",
       "              current shape = (13,)\n",
       "              filling off),\n",
       "             ('lon',\n",
       "              <class 'netCDF4._netCDF4.Variable'>\n",
       "              float64 lon(lon)\n",
       "                  standard_name: longitude\n",
       "                  long_name: longitude\n",
       "                  units: degrees_east\n",
       "                  axis: X\n",
       "              unlimited dimensions: \n",
       "              current shape = (94,)\n",
       "              filling off),\n",
       "             ('lat',\n",
       "              <class 'netCDF4._netCDF4.Variable'>\n",
       "              float64 lat(lat)\n",
       "                  standard_name: latitude\n",
       "                  long_name: latitude\n",
       "                  units: degrees_north\n",
       "                  axis: Y\n",
       "              unlimited dimensions: \n",
       "              current shape = (50,)\n",
       "              filling off),\n",
       "             ('TS',\n",
       "              <class 'netCDF4._netCDF4.Variable'>\n",
       "              float32 TS(time, lat, lon)\n",
       "                  standard_name: surface_skin_temperature\n",
       "                  long_name: surface_skin_temperature\n",
       "                  units: K\n",
       "                  _FillValue: 1000000000000000.0\n",
       "                  missing_value: 1000000000000000.0\n",
       "                  fmissing_value: 1000000000000000.0\n",
       "                  vmax: 1000000000000000.0\n",
       "                  vmin: -1000000000000000.0\n",
       "              unlimited dimensions: time\n",
       "              current shape = (13, 50, 94)\n",
       "              filling off)])"
      ]
     },
     "execution_count": 366,
     "metadata": {},
     "output_type": "execute_result"
    }
   ],
   "source": [
    "data.variables"
   ]
  },
  {
   "cell_type": "code",
   "execution_count": 367,
   "metadata": {},
   "outputs": [],
   "source": [
    "lons = data.variables['lon']\n",
    "lats = data.variables['lat']\n",
    "lon, lat = np.meshgrid(lons, lats)\n",
    "temp = data.variables['TS']"
   ]
  },
  {
   "cell_type": "code",
   "execution_count": 368,
   "metadata": {},
   "outputs": [],
   "source": [
    "temp_nans = temp[:]\n",
    "_FillValuetemp = temp._FillValue\n",
    "temp_nans[temp_nans == _FillValuetemp] = np.nan"
   ]
  },
  {
   "cell_type": "code",
   "execution_count": 378,
   "metadata": {},
   "outputs": [],
   "source": [
    "#F = (K - 273.15)* 1.8000 + 32.00\n",
    "\n",
    "tempF = (temp_nans - 273.15)* 1.8000 + 32.00"
   ]
  },
  {
   "cell_type": "code",
   "execution_count": 379,
   "metadata": {},
   "outputs": [
    {
     "data": {
      "text/plain": [
       "50"
      ]
     },
     "execution_count": 379,
     "metadata": {},
     "output_type": "execute_result"
    }
   ],
   "source": [
    "len(data.variables['TS'][0])"
   ]
  },
  {
   "cell_type": "code",
   "execution_count": 380,
   "metadata": {},
   "outputs": [
    {
     "data": {
      "text/plain": [
       "94"
      ]
     },
     "execution_count": 380,
     "metadata": {},
     "output_type": "execute_result"
    }
   ],
   "source": [
    "len(tempF[0][0])"
   ]
  },
  {
   "cell_type": "code",
   "execution_count": 381,
   "metadata": {},
   "outputs": [
    {
     "data": {
      "text/plain": [
       "masked_array(data=[25., 25., 25., 25., 25., 25., 25., 25., 25., 25., 25.,\n",
       "                   25., 25., 25., 25., 25., 25., 25., 25., 25., 25., 25.,\n",
       "                   25., 25., 25., 25., 25., 25., 25., 25., 25., 25., 25.,\n",
       "                   25., 25., 25., 25., 25., 25., 25., 25., 25., 25., 25.,\n",
       "                   25., 25., 25., 25., 25., 25., 25., 25., 25., 25., 25.,\n",
       "                   25., 25., 25., 25., 25., 25., 25., 25., 25., 25., 25.,\n",
       "                   25., 25., 25., 25., 25., 25., 25., 25., 25., 25., 25.,\n",
       "                   25., 25., 25., 25., 25., 25., 25., 25., 25., 25., 25.,\n",
       "                   25., 25., 25., 25., 25., 25.],\n",
       "             mask=False,\n",
       "       fill_value=1e+20)"
      ]
     },
     "execution_count": 381,
     "metadata": {},
     "output_type": "execute_result"
    }
   ],
   "source": [
    "lat[0]\n"
   ]
  },
  {
   "cell_type": "markdown",
   "metadata": {},
   "source": [
    "https://stackoverflow.com/questions/29135885/netcdf4-extract-for-subset-of-lat-lon\n",
    "\n",
    "lats = f.variables['latitude'][:] \n",
    "lons = f.variables['longitude'][:]\n",
    "lat_bnds, lon_bnds = [40, 43], [-96, -89]\n",
    "\n",
    "lat_inds = np.where((lats > lat_bnds[0]) & (lats < lat_bnds[1]))\n",
    "lon_inds = np.where((lons > lon_bnds[0]) & (lons < lon_bnds[1]))\n",
    "\n",
    "air_subset = f.variables['air'][:,lat_inds,lon_inds]\n"
   ]
  },
  {
   "cell_type": "code",
   "execution_count": 192,
   "metadata": {},
   "outputs": [
    {
     "ename": "IndexError",
     "evalue": "shape mismatch: indexing arrays could not be broadcast together with shapes (1,2) (1,94) ",
     "output_type": "error",
     "traceback": [
      "\u001b[0;31m---------------------------------------------------------------------------\u001b[0m",
      "\u001b[0;31mIndexError\u001b[0m                                Traceback (most recent call last)",
      "\u001b[0;32m<ipython-input-192-43253c1032e5>\u001b[0m in \u001b[0;36m<module>\u001b[0;34m\u001b[0m\n\u001b[1;32m      5\u001b[0m \u001b[0mlat_inds\u001b[0m \u001b[0;34m=\u001b[0m \u001b[0mnp\u001b[0m\u001b[0;34m.\u001b[0m\u001b[0mwhere\u001b[0m\u001b[0;34m(\u001b[0m\u001b[0;34m(\u001b[0m\u001b[0mlats\u001b[0m\u001b[0;34m[\u001b[0m\u001b[0;34m:\u001b[0m\u001b[0;34m]\u001b[0m \u001b[0;34m>\u001b[0m \u001b[0mlat_bnds\u001b[0m\u001b[0;34m[\u001b[0m\u001b[0;36m0\u001b[0m\u001b[0;34m]\u001b[0m\u001b[0;34m)\u001b[0m \u001b[0;34m&\u001b[0m \u001b[0;34m(\u001b[0m\u001b[0mlats\u001b[0m\u001b[0;34m[\u001b[0m\u001b[0;34m:\u001b[0m\u001b[0;34m]\u001b[0m \u001b[0;34m<\u001b[0m \u001b[0mlat_bnds\u001b[0m\u001b[0;34m[\u001b[0m\u001b[0;36m1\u001b[0m\u001b[0;34m]\u001b[0m\u001b[0;34m)\u001b[0m\u001b[0;34m)\u001b[0m\u001b[0;34m\u001b[0m\u001b[0;34m\u001b[0m\u001b[0m\n\u001b[1;32m      6\u001b[0m \u001b[0mlon_inds\u001b[0m \u001b[0;34m=\u001b[0m \u001b[0mnp\u001b[0m\u001b[0;34m.\u001b[0m\u001b[0mwhere\u001b[0m\u001b[0;34m(\u001b[0m\u001b[0;34m(\u001b[0m\u001b[0mlons\u001b[0m\u001b[0;34m[\u001b[0m\u001b[0;34m:\u001b[0m\u001b[0;34m]\u001b[0m \u001b[0;34m>\u001b[0m \u001b[0mlon_bnds\u001b[0m\u001b[0;34m[\u001b[0m\u001b[0;36m0\u001b[0m\u001b[0;34m]\u001b[0m\u001b[0;34m)\u001b[0m \u001b[0;34m&\u001b[0m \u001b[0;34m(\u001b[0m\u001b[0mlons\u001b[0m\u001b[0;34m[\u001b[0m\u001b[0;34m:\u001b[0m\u001b[0;34m]\u001b[0m \u001b[0;34m<\u001b[0m \u001b[0mlon_bnds\u001b[0m\u001b[0;34m[\u001b[0m\u001b[0;36m1\u001b[0m\u001b[0;34m]\u001b[0m\u001b[0;34m)\u001b[0m\u001b[0;34m)\u001b[0m\u001b[0;34m\u001b[0m\u001b[0;34m\u001b[0m\u001b[0m\n\u001b[0;32m----> 7\u001b[0;31m \u001b[0mpacific\u001b[0m \u001b[0;34m=\u001b[0m \u001b[0mtempF\u001b[0m\u001b[0;34m[\u001b[0m\u001b[0;34m:\u001b[0m\u001b[0;34m,\u001b[0m\u001b[0mlat_inds\u001b[0m\u001b[0;34m,\u001b[0m \u001b[0mlon_inds\u001b[0m\u001b[0;34m]\u001b[0m\u001b[0;34m\u001b[0m\u001b[0;34m\u001b[0m\u001b[0m\n\u001b[0m",
      "\u001b[0;32m~/anaconda3/lib/python3.7/site-packages/numpy/ma/core.py\u001b[0m in \u001b[0;36m__getitem__\u001b[0;34m(self, indx)\u001b[0m\n\u001b[1;32m   3223\u001b[0m         \u001b[0;31m# mask of being reshaped if it hasn't been set up properly yet\u001b[0m\u001b[0;34m\u001b[0m\u001b[0;34m\u001b[0m\u001b[0;34m\u001b[0m\u001b[0m\n\u001b[1;32m   3224\u001b[0m         \u001b[0;31m# So it's easier to stick to the current version\u001b[0m\u001b[0;34m\u001b[0m\u001b[0;34m\u001b[0m\u001b[0;34m\u001b[0m\u001b[0m\n\u001b[0;32m-> 3225\u001b[0;31m         \u001b[0mdout\u001b[0m \u001b[0;34m=\u001b[0m \u001b[0mself\u001b[0m\u001b[0;34m.\u001b[0m\u001b[0mdata\u001b[0m\u001b[0;34m[\u001b[0m\u001b[0mindx\u001b[0m\u001b[0;34m]\u001b[0m\u001b[0;34m\u001b[0m\u001b[0;34m\u001b[0m\u001b[0m\n\u001b[0m\u001b[1;32m   3226\u001b[0m         \u001b[0m_mask\u001b[0m \u001b[0;34m=\u001b[0m \u001b[0mself\u001b[0m\u001b[0;34m.\u001b[0m\u001b[0m_mask\u001b[0m\u001b[0;34m\u001b[0m\u001b[0;34m\u001b[0m\u001b[0m\n\u001b[1;32m   3227\u001b[0m \u001b[0;34m\u001b[0m\u001b[0m\n",
      "\u001b[0;31mIndexError\u001b[0m: shape mismatch: indexing arrays could not be broadcast together with shapes (1,2) (1,94) "
     ]
    }
   ],
   "source": [
    "#lats = data.variables['lat'][:] \n",
    "#lons = data.variables['lon'][:]\n",
    "lat_bnds, lon_bnds = [24.785, 26.000], [-125.42, -66.709]\n",
    "#lats: 24.785 to 49.922\n",
    "lat_inds = np.where((lats[:] > lat_bnds[0]) & (lats[:] < lat_bnds[1]))\n",
    "lon_inds = np.where((lons[:] > lon_bnds[0]) & (lons[:] < lon_bnds[1]))\n",
    "pacific = tempF[:,lat_inds, lon_inds]"
   ]
  },
  {
   "cell_type": "code",
   "execution_count": 191,
   "metadata": {},
   "outputs": [
    {
     "data": {
      "text/plain": [
       "masked_array(\n",
       "  data=[[[[71.433716, 71.23685 , 70.899345, ..., 79.336845, 79.51965 ,\n",
       "           79.54778 ],\n",
       "          [71.03997 , 70.96966 , 70.618095, ..., 78.95715 , 78.98528 ,\n",
       "           79.11185 ],\n",
       "          [70.618095, 70.18216 , 69.64778 , ..., 78.78841 , 78.999344,\n",
       "           79.055595]]],\n",
       "\n",
       "\n",
       "        [[[71.42438 , 71.22751 , 70.89001 , ..., 79.34157 , 79.52438 ,\n",
       "           79.538445],\n",
       "          [71.03063 , 70.96032 , 70.60876 , ..., 78.96188 , 78.990005,\n",
       "           79.11657 ],\n",
       "          [70.60876 , 70.17282 , 69.63844 , ..., 78.77907 , 79.004074,\n",
       "           79.04626 ]]],\n",
       "\n",
       "\n",
       "        [[[71.41488 , 71.218   , 70.88051 , ..., 79.34613 , 79.528946,\n",
       "           79.543   ],\n",
       "          [71.02113 , 70.95082 , 70.59926 , ..., 78.95238 , 78.99457 ,\n",
       "           79.10707 ],\n",
       "          [70.59926 , 70.163315, 69.62894 , ..., 78.78363 , 78.99457 ,\n",
       "           79.05081 ]]],\n",
       "\n",
       "\n",
       "        ...,\n",
       "\n",
       "\n",
       "        [[[71.36116 , 71.164276, 70.81271 , ..., 79.334595, 79.58772 ,\n",
       "           79.50334 ],\n",
       "          [70.939285, 70.854904, 70.50334 , ..., 78.96896 , 79.02522 ,\n",
       "           79.08147 ],\n",
       "          [70.48928 , 70.095535, 69.57522 , ..., 78.772095, 78.96896 ,\n",
       "           78.99709 ]]],\n",
       "\n",
       "\n",
       "        [[[71.34506 , 71.148186, 70.79662 , ..., 79.332565, 79.585686,\n",
       "           79.50131 ],\n",
       "          [70.92319 , 70.838806, 70.48724 , ..., 78.966934, 79.023186,\n",
       "           79.0935  ],\n",
       "          [70.48724 , 70.07944 , 69.57318 , ..., 78.770065, 78.95287 ,\n",
       "           78.995056]]],\n",
       "\n",
       "\n",
       "        [[[71.33699 , 71.14011 , 70.78854 , ..., 79.324486, 79.591675,\n",
       "           79.50729 ],\n",
       "          [70.915115, 70.830734, 70.46511 , ..., 78.97292 , 79.01511 ,\n",
       "           79.08542 ],\n",
       "          [70.46511 , 70.071365, 69.56511 , ..., 78.77605 , 78.94479 ,\n",
       "           78.986984]]]],\n",
       "  mask=False,\n",
       "  fill_value=1e+20,\n",
       "  dtype=float32)"
      ]
     },
     "execution_count": 191,
     "metadata": {},
     "output_type": "execute_result"
    }
   ],
   "source": [
    "pacific"
   ]
  },
  {
   "cell_type": "markdown",
   "metadata": {},
   "source": [
    "https://stackoverflow.com/questions/14035148/import-netcdf-file-to-pandas-dataframe \n",
    "\n",
    "url='http://geoport-dev.whoi.edu/thredds/dodsC/HUDSON_SVALLEY/5951adc-a1h.nc'\n",
    "vname = 'Tx_1211'\n",
    "station = 0\n",
    "\n",
    "nc = netCDF4.Dataset(url)\n",
    "h = nc.variables[vname]\n",
    "times = nc.variables['time']\n",
    "jd = netCDF4.num2date(times[:],times.units)\n",
    "hs = pd.Series(h[:,station],index=jd)"
   ]
  },
  {
   "cell_type": "code",
   "execution_count": 372,
   "metadata": {},
   "outputs": [
    {
     "name": "stderr",
     "output_type": "stream",
     "text": [
      "/Users/Sarah/anaconda3/lib/python3.7/site-packages/ipykernel_launcher.py:2: DeprecationWarning: tostring() is deprecated. Use tobytes() instead.\n",
      "  \n"
     ]
    },
    {
     "data": {
      "text/plain": [
       "masked_array(data=[ 660,  720,  780,  840,  900,  960, 1020, 1080, 1140,\n",
       "                   1200, 1260, 1320, 1380],\n",
       "             mask=False,\n",
       "       fill_value=999999,\n",
       "            dtype=int32)"
      ]
     },
     "execution_count": 372,
     "metadata": {},
     "output_type": "execute_result"
    }
   ],
   "source": [
    "times = data.variables['time']\n",
    "jd = netCDF4.num2date(times[:],times.units)\n",
    "#as_series = pd.Series(tempF,index=jd)\n",
    "times[:]\n"
   ]
  },
  {
   "cell_type": "code",
   "execution_count": 384,
   "metadata": {},
   "outputs": [
    {
     "data": {
      "text/plain": [
       "50"
      ]
     },
     "execution_count": 384,
     "metadata": {},
     "output_type": "execute_result"
    }
   ],
   "source": [
    "temp_daily_avg = np.nanmean(tempF, axis=0)\n",
    "len(temp_daily_avg)"
   ]
  },
  {
   "cell_type": "code",
   "execution_count": 389,
   "metadata": {},
   "outputs": [
    {
     "data": {
      "text/plain": [
       "masked_array(data=[70.182846, 69.71662 , 69.270935, 68.98645 , 69.169266,\n",
       "                   69.74907 , 69.83019 , 68.76578 , 68.31469 , 68.54835 ,\n",
       "                   68.58296 , 68.931274, 69.56842 , 69.72527 , 69.339096,\n",
       "                   68.86637 , 68.94859 , 69.05135 , 69.51866 , 69.96109 ,\n",
       "                   69.86698 , 68.66356 , 70.19257 , 71.805435, 71.92117 ,\n",
       "                   71.03092 , 72.5302  , 70.77347 , 59.58323 , 46.159904,\n",
       "                   42.852104, 48.126755, 49.59925 , 49.98499 , 52.329895,\n",
       "                   53.5611  , 53.288914, 50.733932, 50.524693, 52.98238 ,\n",
       "                   54.741947, 57.73915 , 59.009644, 60.358562, 62.396545,\n",
       "                   72.544266, 76.1832  , 77.18922 , 77.4088  , 77.65976 ,\n",
       "                   77.91721 , 78.37587 , 77.45424 , 76.438484, 76.64618 ,\n",
       "                   76.793304, 76.731636, 76.56829 , 76.5629  , 77.50723 ,\n",
       "                   78.69714 , 78.542465, 78.01132 , 77.833916, 77.85232 ,\n",
       "                   78.01458 , 77.95183 , 77.046425, 75.136086, 70.69882 ,\n",
       "                   68.25682 , 69.18332 , 75.61314 , 79.257484, 78.35965 ,\n",
       "                   79.015175, 78.500275, 78.404   , 79.4403  , 79.64149 ,\n",
       "                   80.221306, 80.463615, 80.52094 , 80.16181 , 79.51169 ,\n",
       "                   79.527916, 79.71181 , 79.855675, 79.8957  , 79.572266,\n",
       "                   79.195816, 78.53163 , 78.78476 , 78.74474 ],\n",
       "             mask=False,\n",
       "       fill_value=1e+20,\n",
       "            dtype=float32)"
      ]
     },
     "execution_count": 389,
     "metadata": {},
     "output_type": "execute_result"
    }
   ],
   "source": [
    "temp_daily_avg[2]"
   ]
  },
  {
   "cell_type": "code",
   "execution_count": 374,
   "metadata": {},
   "outputs": [
    {
     "ename": "NameError",
     "evalue": "name 'pacific' is not defined",
     "output_type": "error",
     "traceback": [
      "\u001b[0;31m---------------------------------------------------------------------------\u001b[0m",
      "\u001b[0;31mNameError\u001b[0m                                 Traceback (most recent call last)",
      "\u001b[0;32m<ipython-input-374-a2e1dae7a754>\u001b[0m in \u001b[0;36m<module>\u001b[0;34m\u001b[0m\n\u001b[0;32m----> 1\u001b[0;31m \u001b[0mavg_temp_pacific\u001b[0m \u001b[0;34m=\u001b[0m \u001b[0mnp\u001b[0m\u001b[0;34m.\u001b[0m\u001b[0mnanmean\u001b[0m\u001b[0;34m(\u001b[0m\u001b[0mpacific\u001b[0m\u001b[0;34m,\u001b[0m \u001b[0maxis\u001b[0m\u001b[0;34m=\u001b[0m\u001b[0;36m0\u001b[0m\u001b[0;34m)\u001b[0m\u001b[0;34m\u001b[0m\u001b[0;34m\u001b[0m\u001b[0m\n\u001b[0m\u001b[1;32m      2\u001b[0m \u001b[0mlen\u001b[0m\u001b[0;34m(\u001b[0m\u001b[0mavg_temp_pacific\u001b[0m\u001b[0;34m)\u001b[0m\u001b[0;34m\u001b[0m\u001b[0;34m\u001b[0m\u001b[0m\n",
      "\u001b[0;31mNameError\u001b[0m: name 'pacific' is not defined"
     ]
    }
   ],
   "source": [
    "avg_temp_pacific = np.nanmean(pacific, axis=0)\n",
    "len(avg_temp_pacific)"
   ]
  },
  {
   "cell_type": "code",
   "execution_count": 65,
   "metadata": {},
   "outputs": [],
   "source": [
    "#to do: \n",
    "\n",
    "# 3) change map to US only\n",
    "# 4) Map num days below freezing?\n",
    "# 5) repeat full process for Alaska and Hawaii (later)"
   ]
  },
  {
   "cell_type": "code",
   "execution_count": 385,
   "metadata": {},
   "outputs": [],
   "source": [
    "# Set the figure size, projection, and extent\n",
    "def map_temp(temperature=temp_daily_avg):\n",
    "    fig = plt.figure(figsize=(20,10))\n",
    "    ax = plt.axes(projection=ccrs.Robinson())\n",
    "    ax.set_extent([-400,-180,80,300])\n",
    "    #ax.set_global()\n",
    "    #ax.coastlines(resolution=\"50m\",linewidth=1)\n",
    "    ax.coastlines(resolution=\"110m\",linewidth=1)\n",
    "    ax.gridlines(linestyle='--',color='black')\n",
    "\n",
    "\n",
    "    # Set contour levels, then draw the plot and a colorbar\n",
    "    #clevs = np.arange(0,19,1)\n",
    "    plt.contourf(lon, lat, temperature , transform=ccrs.PlateCarree(),cmap=plt.cm.jet)\n",
    "    plt.title('MERRA-2 Daily Average gound temperature, {}'.format(date), size=14)\n",
    "    cb = plt.colorbar(ax=ax, orientation=\"vertical\", pad=0.02, aspect=16, shrink=0.8)\n",
    "    cb.set_label('F',size=12,rotation=0,labelpad=15)\n",
    "    cb.ax.tick_params(labelsize=10)\n"
   ]
  },
  {
   "cell_type": "code",
   "execution_count": 386,
   "metadata": {},
   "outputs": [
    {
     "data": {
      "image/png": "[encoded data removed]",
      "text/plain": [
       "<Figure size 1440x720 with 2 Axes>"
      ]
     },
     "metadata": {
      "needs_background": "light"
     },
     "output_type": "display_data"
    }
   ],
   "source": [
    "map_temp()"
   ]
  }
 ],
 "metadata": {
  "kernelspec": {
   "display_name": "Python 3",
   "language": "python",
   "name": "python3"
  },
  "language_info": {
   "codemirror_mode": {
    "name": "ipython",
    "version": 3
   },
   "file_extension": ".py",
   "mimetype": "text/x-python",
   "name": "python",
   "nbconvert_exporter": "python",
   "pygments_lexer": "ipython3",
   "version": "3.7.1"
  }
 },
 "nbformat": 4,
 "nbformat_minor": 4
}
