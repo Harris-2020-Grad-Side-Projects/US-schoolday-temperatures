{
 "cells": [
  {
   "cell_type": "markdown",
   "metadata": {},
   "source": [
    "MERRA2 US Gound Skin Temperature December 2020 (only one file of many shown here)\n",
    "Region: -125.42, 24.785, -66.709, 49.922\n",
    "\n",
    "-each file is one day (UTC 11:30 to 23:30)\n",
    "Date is in the file name e.g. \n",
    "MERRA2_400.tavg1_2d_slv_Nx.20201231.SUB.nc\n",
    "is 2020-12-31\n",
    "\n",
    "Data from:\n",
    "https://disc.gsfc.nasa.gov/datasets/M2T1NXSLV_5.12.4/summary \n",
    "\n",
    "TS (temperature) is a list of lists of lists\n",
    "outer: 13 lists one for each time\n",
    "next: 50 lists one for each lat\n",
    "inner: 95 temperatures one for each lon\n",
    "\n",
    "Current code is modeled after (copied from) \n",
    "GES DISC How Tos: How to calculate and plot wind speed using MERRA-2 wind component data using Python \n",
    "https://disc.gsfc.nasa.gov/information/howto?title=How%20to%20calculate%20and%20plot%20wind%20speed%20using%20MERRA-2%20wind%20component%20data%20using%20Python#! "
   ]
  },
  {
   "cell_type": "code",
   "execution_count": 2,
   "metadata": {},
   "outputs": [],
   "source": [
    "#from netCDF4 import Dataset\n",
    "import numpy as np\n",
    "import netCDF4"
   ]
  },
  {
   "cell_type": "code",
   "execution_count": 3,
   "metadata": {},
   "outputs": [],
   "source": [
    "import matplotlib.pyplot as plt\n",
    "import cartopy.crs as ccrs\n",
    "from cartopy.mpl.gridliner import LONGITUDE_FORMATTER, LATITUDE_FORMATTER\n",
    "import matplotlib.ticker as mticker"
   ]
  },
  {
   "cell_type": "code",
   "execution_count": 1,
   "metadata": {},
   "outputs": [],
   "source": [
    "import pandas as pd\n",
    "import xarray as xr"
   ]
  },
  {
   "cell_type": "code",
   "execution_count": 4,
   "metadata": {},
   "outputs": [],
   "source": [
    "import os"
   ]
  },
  {
   "cell_type": "code",
   "execution_count": 9,
   "metadata": {},
   "outputs": [
    {
     "data": {
      "text/plain": [
       "['.DS_Store',\n",
       " 'LICENSE',\n",
       " 'Read_MERRA2.ipynb',\n",
       " 'README.md',\n",
       " 'MERRA2_data',\n",
       " '.ipynb_checkpoints',\n",
       " '.git']"
      ]
     },
     "execution_count": 9,
     "metadata": {},
     "output_type": "execute_result"
    }
   ],
   "source": [
    "os.listdir()"
   ]
  },
  {
   "cell_type": "markdown",
   "metadata": {},
   "source": [
    "https://stackoverflow.com/questions/14035148/import-netcdf-file-to-pandas-dataframe\n",
    "import xarray as xr\n",
    "\n",
    "ds = xr.open_dataset('/path/to/netcdf')\n",
    "df = ds.to_dataframe()"
   ]
  },
  {
   "cell_type": "code",
   "execution_count": 10,
   "metadata": {},
   "outputs": [],
   "source": [
    "data_folder = 'MERRA2_data'\n",
    "filename = 'MERRA2_400.tavg1_2d_slv_Nx.20201201.SUB.nc'\n",
    "file = os.path.join(data_folder, filename)\n",
    "date = file[-15:-11]+\"-\"+file[-11:-9]+\"-\"+file[-9:-7]"
   ]
  },
  {
   "cell_type": "code",
   "execution_count": 13,
   "metadata": {},
   "outputs": [
    {
     "data": {
      "text/html": [
       "<div><svg style=\"position: absolute; width: 0; height: 0; overflow: hidden\">\n",
       "<defs>\n",
       "<symbol id=\"icon-database\" viewBox=\"0 0 32 32\">\n",
       "<path d=\"M16 0c-8.837 0-16 2.239-16 5v4c0 2.761 7.163 5 16 5s16-2.239 16-5v-4c0-2.761-7.163-5-16-5z\"></path>\n",
       "<path d=\"M16 17c-8.837 0-16-2.239-16-5v6c0 2.761 7.163 5 16 5s16-2.239 16-5v-6c0 2.761-7.163 5-16 5z\"></path>\n",
       "<path d=\"M16 26c-8.837 0-16-2.239-16-5v6c0 2.761 7.163 5 16 5s16-2.239 16-5v-6c0 2.761-7.163 5-16 5z\"></path>\n",
       "</symbol>\n",
       "<symbol id=\"icon-file-text2\" viewBox=\"0 0 32 32\">\n",
       "<path d=\"M28.681 7.159c-0.694-0.947-1.662-2.053-2.724-3.116s-2.169-2.030-3.116-2.724c-1.612-1.182-2.393-1.319-2.841-1.319h-15.5c-1.378 0-2.5 1.121-2.5 2.5v27c0 1.378 1.122 2.5 2.5 2.5h23c1.378 0 2.5-1.122 2.5-2.5v-19.5c0-0.448-0.137-1.23-1.319-2.841zM24.543 5.457c0.959 0.959 1.712 1.825 2.268 2.543h-4.811v-4.811c0.718 0.556 1.584 1.309 2.543 2.268zM28 29.5c0 0.271-0.229 0.5-0.5 0.5h-23c-0.271 0-0.5-0.229-0.5-0.5v-27c0-0.271 0.229-0.5 0.5-0.5 0 0 15.499-0 15.5 0v7c0 0.552 0.448 1 1 1h7v19.5z\"></path>\n",
       "<path d=\"M23 26h-14c-0.552 0-1-0.448-1-1s0.448-1 1-1h14c0.552 0 1 0.448 1 1s-0.448 1-1 1z\"></path>\n",
       "<path d=\"M23 22h-14c-0.552 0-1-0.448-1-1s0.448-1 1-1h14c0.552 0 1 0.448 1 1s-0.448 1-1 1z\"></path>\n",
       "<path d=\"M23 18h-14c-0.552 0-1-0.448-1-1s0.448-1 1-1h14c0.552 0 1 0.448 1 1s-0.448 1-1 1z\"></path>\n",
       "</symbol>\n",
       "</defs>\n",
       "</svg>\n",
       "<style>/* CSS stylesheet for displaying xarray objects in jupyterlab.\n",
       " *\n",
       " */\n",
       "\n",
       ":root {\n",
       "  --xr-font-color0: var(--jp-content-font-color0, rgba(0, 0, 0, 1));\n",
       "  --xr-font-color2: var(--jp-content-font-color2, rgba(0, 0, 0, 0.54));\n",
       "  --xr-font-color3: var(--jp-content-font-color3, rgba(0, 0, 0, 0.38));\n",
       "  --xr-border-color: var(--jp-border-color2, #e0e0e0);\n",
       "  --xr-disabled-color: var(--jp-layout-color3, #bdbdbd);\n",
       "  --xr-background-color: var(--jp-layout-color0, white);\n",
       "  --xr-background-color-row-even: var(--jp-layout-color1, white);\n",
       "  --xr-background-color-row-odd: var(--jp-layout-color2, #eeeeee);\n",
       "}\n",
       "\n",
       "html[theme=dark],\n",
       "body.vscode-dark {\n",
       "  --xr-font-color0: rgba(255, 255, 255, 1);\n",
       "  --xr-font-color2: rgba(255, 255, 255, 0.54);\n",
       "  --xr-font-color3: rgba(255, 255, 255, 0.38);\n",
       "  --xr-border-color: #1F1F1F;\n",
       "  --xr-disabled-color: #515151;\n",
       "  --xr-background-color: #111111;\n",
       "  --xr-background-color-row-even: #111111;\n",
       "  --xr-background-color-row-odd: #313131;\n",
       "}\n",
       "\n",
       ".xr-wrap {\n",
       "  display: block;\n",
       "  min-width: 300px;\n",
       "  max-width: 700px;\n",
       "}\n",
       "\n",
       ".xr-text-repr-fallback {\n",
       "  /* fallback to plain text repr when CSS is not injected (untrusted notebook) */\n",
       "  display: none;\n",
       "}\n",
       "\n",
       ".xr-header {\n",
       "  padding-top: 6px;\n",
       "  padding-bottom: 6px;\n",
       "  margin-bottom: 4px;\n",
       "  border-bottom: solid 1px var(--xr-border-color);\n",
       "}\n",
       "\n",
       ".xr-header > div,\n",
       ".xr-header > ul {\n",
       "  display: inline;\n",
       "  margin-top: 0;\n",
       "  margin-bottom: 0;\n",
       "}\n",
       "\n",
       ".xr-obj-type,\n",
       ".xr-array-name {\n",
       "  margin-left: 2px;\n",
       "  margin-right: 10px;\n",
       "}\n",
       "\n",
       ".xr-obj-type {\n",
       "  color: var(--xr-font-color2);\n",
       "}\n",
       "\n",
       ".xr-sections {\n",
       "  padding-left: 0 !important;\n",
       "  display: grid;\n",
       "  grid-template-columns: 150px auto auto 1fr 20px 20px;\n",
       "}\n",
       "\n",
       ".xr-section-item {\n",
       "  display: contents;\n",
       "}\n",
       "\n",
       ".xr-section-item input {\n",
       "  display: none;\n",
       "}\n",
       "\n",
       ".xr-section-item input + label {\n",
       "  color: var(--xr-disabled-color);\n",
       "}\n",
       "\n",
       ".xr-section-item input:enabled + label {\n",
       "  cursor: pointer;\n",
       "  color: var(--xr-font-color2);\n",
       "}\n",
       "\n",
       ".xr-section-item input:enabled + label:hover {\n",
       "  color: var(--xr-font-color0);\n",
       "}\n",
       "\n",
       ".xr-section-summary {\n",
       "  grid-column: 1;\n",
       "  color: var(--xr-font-color2);\n",
       "  font-weight: 500;\n",
       "}\n",
       "\n",
       ".xr-section-summary > span {\n",
       "  display: inline-block;\n",
       "  padding-left: 0.5em;\n",
       "}\n",
       "\n",
       ".xr-section-summary-in:disabled + label {\n",
       "  color: var(--xr-font-color2);\n",
       "}\n",
       "\n",
       ".xr-section-summary-in + label:before {\n",
       "  display: inline-block;\n",
       "  content: '►';\n",
       "  font-size: 11px;\n",
       "  width: 15px;\n",
       "  text-align: center;\n",
       "}\n",
       "\n",
       ".xr-section-summary-in:disabled + label:before {\n",
       "  color: var(--xr-disabled-color);\n",
       "}\n",
       "\n",
       ".xr-section-summary-in:checked + label:before {\n",
       "  content: '▼';\n",
       "}\n",
       "\n",
       ".xr-section-summary-in:checked + label > span {\n",
       "  display: none;\n",
       "}\n",
       "\n",
       ".xr-section-summary,\n",
       ".xr-section-inline-details {\n",
       "  padding-top: 4px;\n",
       "  padding-bottom: 4px;\n",
       "}\n",
       "\n",
       ".xr-section-inline-details {\n",
       "  grid-column: 2 / -1;\n",
       "}\n",
       "\n",
       ".xr-section-details {\n",
       "  display: none;\n",
       "  grid-column: 1 / -1;\n",
       "  margin-bottom: 5px;\n",
       "}\n",
       "\n",
       ".xr-section-summary-in:checked ~ .xr-section-details {\n",
       "  display: contents;\n",
       "}\n",
       "\n",
       ".xr-array-wrap {\n",
       "  grid-column: 1 / -1;\n",
       "  display: grid;\n",
       "  grid-template-columns: 20px auto;\n",
       "}\n",
       "\n",
       ".xr-array-wrap > label {\n",
       "  grid-column: 1;\n",
       "  vertical-align: top;\n",
       "}\n",
       "\n",
       ".xr-preview {\n",
       "  color: var(--xr-font-color3);\n",
       "}\n",
       "\n",
       ".xr-array-preview,\n",
       ".xr-array-data {\n",
       "  padding: 0 5px !important;\n",
       "  grid-column: 2;\n",
       "}\n",
       "\n",
       ".xr-array-data,\n",
       ".xr-array-in:checked ~ .xr-array-preview {\n",
       "  display: none;\n",
       "}\n",
       "\n",
       ".xr-array-in:checked ~ .xr-array-data,\n",
       ".xr-array-preview {\n",
       "  display: inline-block;\n",
       "}\n",
       "\n",
       ".xr-dim-list {\n",
       "  display: inline-block !important;\n",
       "  list-style: none;\n",
       "  padding: 0 !important;\n",
       "  margin: 0;\n",
       "}\n",
       "\n",
       ".xr-dim-list li {\n",
       "  display: inline-block;\n",
       "  padding: 0;\n",
       "  margin: 0;\n",
       "}\n",
       "\n",
       ".xr-dim-list:before {\n",
       "  content: '(';\n",
       "}\n",
       "\n",
       ".xr-dim-list:after {\n",
       "  content: ')';\n",
       "}\n",
       "\n",
       ".xr-dim-list li:not(:last-child):after {\n",
       "  content: ',';\n",
       "  padding-right: 5px;\n",
       "}\n",
       "\n",
       ".xr-has-index {\n",
       "  font-weight: bold;\n",
       "}\n",
       "\n",
       ".xr-var-list,\n",
       ".xr-var-item {\n",
       "  display: contents;\n",
       "}\n",
       "\n",
       ".xr-var-item > div,\n",
       ".xr-var-item label,\n",
       ".xr-var-item > .xr-var-name span {\n",
       "  background-color: var(--xr-background-color-row-even);\n",
       "  margin-bottom: 0;\n",
       "}\n",
       "\n",
       ".xr-var-item > .xr-var-name:hover span {\n",
       "  padding-right: 5px;\n",
       "}\n",
       "\n",
       ".xr-var-list > li:nth-child(odd) > div,\n",
       ".xr-var-list > li:nth-child(odd) > label,\n",
       ".xr-var-list > li:nth-child(odd) > .xr-var-name span {\n",
       "  background-color: var(--xr-background-color-row-odd);\n",
       "}\n",
       "\n",
       ".xr-var-name {\n",
       "  grid-column: 1;\n",
       "}\n",
       "\n",
       ".xr-var-dims {\n",
       "  grid-column: 2;\n",
       "}\n",
       "\n",
       ".xr-var-dtype {\n",
       "  grid-column: 3;\n",
       "  text-align: right;\n",
       "  color: var(--xr-font-color2);\n",
       "}\n",
       "\n",
       ".xr-var-preview {\n",
       "  grid-column: 4;\n",
       "}\n",
       "\n",
       ".xr-var-name,\n",
       ".xr-var-dims,\n",
       ".xr-var-dtype,\n",
       ".xr-preview,\n",
       ".xr-attrs dt {\n",
       "  white-space: nowrap;\n",
       "  overflow: hidden;\n",
       "  text-overflow: ellipsis;\n",
       "  padding-right: 10px;\n",
       "}\n",
       "\n",
       ".xr-var-name:hover,\n",
       ".xr-var-dims:hover,\n",
       ".xr-var-dtype:hover,\n",
       ".xr-attrs dt:hover {\n",
       "  overflow: visible;\n",
       "  width: auto;\n",
       "  z-index: 1;\n",
       "}\n",
       "\n",
       ".xr-var-attrs,\n",
       ".xr-var-data {\n",
       "  display: none;\n",
       "  background-color: var(--xr-background-color) !important;\n",
       "  padding-bottom: 5px !important;\n",
       "}\n",
       "\n",
       ".xr-var-attrs-in:checked ~ .xr-var-attrs,\n",
       ".xr-var-data-in:checked ~ .xr-var-data {\n",
       "  display: block;\n",
       "}\n",
       "\n",
       ".xr-var-data > table {\n",
       "  float: right;\n",
       "}\n",
       "\n",
       ".xr-var-name span,\n",
       ".xr-var-data,\n",
       ".xr-attrs {\n",
       "  padding-left: 25px !important;\n",
       "}\n",
       "\n",
       ".xr-attrs,\n",
       ".xr-var-attrs,\n",
       ".xr-var-data {\n",
       "  grid-column: 1 / -1;\n",
       "}\n",
       "\n",
       "dl.xr-attrs {\n",
       "  padding: 0;\n",
       "  margin: 0;\n",
       "  display: grid;\n",
       "  grid-template-columns: 125px auto;\n",
       "}\n",
       "\n",
       ".xr-attrs dt,\n",
       ".xr-attrs dd {\n",
       "  padding: 0;\n",
       "  margin: 0;\n",
       "  float: left;\n",
       "  padding-right: 10px;\n",
       "  width: auto;\n",
       "}\n",
       "\n",
       ".xr-attrs dt {\n",
       "  font-weight: normal;\n",
       "  grid-column: 1;\n",
       "}\n",
       "\n",
       ".xr-attrs dt:hover span {\n",
       "  display: inline-block;\n",
       "  background: var(--xr-background-color);\n",
       "  padding-right: 10px;\n",
       "}\n",
       "\n",
       ".xr-attrs dd {\n",
       "  grid-column: 2;\n",
       "  white-space: pre-wrap;\n",
       "  word-break: break-all;\n",
       "}\n",
       "\n",
       ".xr-icon-database,\n",
       ".xr-icon-file-text2 {\n",
       "  display: inline-block;\n",
       "  vertical-align: middle;\n",
       "  width: 1em;\n",
       "  height: 1.5em !important;\n",
       "  stroke-width: 0;\n",
       "  stroke: currentColor;\n",
       "  fill: currentColor;\n",
       "}\n",
       "</style><pre class='xr-text-repr-fallback'>&lt;xarray.Dataset&gt;\n",
       "Dimensions:  (lat: 50, lon: 94, time: 13)\n",
       "Coordinates:\n",
       "  * time     (time) datetime64[ns] 2020-12-01T11:30:00 ... 2020-12-01T23:30:00\n",
       "  * lon      (lon) float64 -125.0 -124.4 -123.8 -123.1 ... -68.12 -67.5 -66.88\n",
       "  * lat      (lat) float64 25.0 25.5 26.0 26.5 27.0 ... 47.5 48.0 48.5 49.0 49.5\n",
       "Data variables:\n",
       "    TS       (time, lat, lon) float32 295.1 294.9 294.8 ... 273.2 273.7 274.6\n",
       "Attributes:\n",
       "    CDI:                               Climate Data Interface version 1.9.8 (...\n",
       "    Conventions:                       CF-1\n",
       "    History:                           Original file generated: Wed Dec 16 23...\n",
       "    Comment:                           GMAO filename: d5124_m2_jan10.tavg1_2d...\n",
       "    Filename:                          MERRA2_400.tavg1_2d_slv_Nx.20201201.nc4\n",
       "    Institution:                       NASA Global Modeling and Assimilation ...\n",
       "    References:                        http://gmao.gsfc.nasa.gov\n",
       "    Format:                            NetCDF-4/HDF-5\n",
       "    SpatialCoverage:                   global\n",
       "    VersionID:                         5.12.4\n",
       "    TemporalRange:                     1980-01-01 -&gt; 2016-12-31\n",
       "    identifier_product_doi_authority:  http://dx.doi.org/\n",
       "    ShortName:                         M2T1NXSLV\n",
       "    GranuleID:                         MERRA2_400.tavg1_2d_slv_Nx.20201201.nc4\n",
       "    ProductionDateTime:                Original file generated: Wed Dec 16 23...\n",
       "    LongName:                          MERRA2 tavg1_2d_slv_Nx: 2d,1-Hourly,Ti...\n",
       "    Title:                             MERRA2 tavg1_2d_slv_Nx: 2d,1-Hourly,Ti...\n",
       "    SouthernmostLatitude:              -90.0\n",
       "    NorthernmostLatitude:              90.0\n",
       "    WesternmostLongitude:              -180.0\n",
       "    EasternmostLongitude:              179.375\n",
       "    LatitudeResolution:                0.5\n",
       "    LongitudeResolution:               0.625\n",
       "    DataResolution:                    0.5 x 0.625\n",
       "    Contact:                           http://gmao.gsfc.nasa.gov\n",
       "    identifier_product_doi:            10.5067/VJAFPLI1CSIV\n",
       "    RangeBeginningDate:                2020-12-01\n",
       "    RangeBeginningTime:                00:00:00.000000\n",
       "    RangeEndingDate:                   2020-12-01\n",
       "    RangeEndingTime:                   23:59:59.000000\n",
       "    history_L34RS:                     &#x27;Created by L34RS v1.4.1 @ NASA GES DI...\n",
       "    CDO:                               Climate Data Operators version 1.9.8 (...</pre><div class='xr-wrap' hidden><div class='xr-header'><div class='xr-obj-type'>xarray.Dataset</div></div><ul class='xr-sections'><li class='xr-section-item'><input id='section-3f11ba7e-7267-48ca-abb3-00b40165c254' class='xr-section-summary-in' type='checkbox' disabled ><label for='section-3f11ba7e-7267-48ca-abb3-00b40165c254' class='xr-section-summary'  title='Expand/collapse section'>Dimensions:</label><div class='xr-section-inline-details'><ul class='xr-dim-list'><li><span class='xr-has-index'>lat</span>: 50</li><li><span class='xr-has-index'>lon</span>: 94</li><li><span class='xr-has-index'>time</span>: 13</li></ul></div><div class='xr-section-details'></div></li><li class='xr-section-item'><input id='section-eda2f666-308e-4b50-9ada-8a91127a3fe5' class='xr-section-summary-in' type='checkbox'  checked><label for='section-eda2f666-308e-4b50-9ada-8a91127a3fe5' class='xr-section-summary' >Coordinates: <span>(3)</span></label><div class='xr-section-inline-details'></div><div class='xr-section-details'><ul class='xr-var-list'><li class='xr-var-item'><div class='xr-var-name'><span class='xr-has-index'>time</span></div><div class='xr-var-dims'>(time)</div><div class='xr-var-dtype'>datetime64[ns]</div><div class='xr-var-preview xr-preview'>2020-12-01T11:30:00 ... 2020-12-...</div><input id='attrs-7b66afda-3d2b-4274-a2a1-77635ca264a7' class='xr-var-attrs-in' type='checkbox' ><label for='attrs-7b66afda-3d2b-4274-a2a1-77635ca264a7' title='Show/Hide attributes'><svg class='icon xr-icon-file-text2'><use xlink:href='#icon-file-text2'></use></svg></label><input id='data-e2555865-b7d7-4e8c-b980-b1a3827ec717' class='xr-var-data-in' type='checkbox'><label for='data-e2555865-b7d7-4e8c-b980-b1a3827ec717' title='Show/Hide data repr'><svg class='icon xr-icon-database'><use xlink:href='#icon-database'></use></svg></label><div class='xr-var-attrs'><dl class='xr-attrs'><dt><span>standard_name :</span></dt><dd>time</dd><dt><span>long_name :</span></dt><dd>time</dd><dt><span>axis :</span></dt><dd>T</dd></dl></div><div class='xr-var-data'><pre>array([&#x27;2020-12-01T11:30:00.000000000&#x27;, &#x27;2020-12-01T12:30:00.000000000&#x27;,\n",
       "       &#x27;2020-12-01T13:30:00.000000000&#x27;, &#x27;2020-12-01T14:30:00.000000000&#x27;,\n",
       "       &#x27;2020-12-01T15:30:00.000000000&#x27;, &#x27;2020-12-01T16:30:00.000000000&#x27;,\n",
       "       &#x27;2020-12-01T17:30:00.000000000&#x27;, &#x27;2020-12-01T18:30:00.000000000&#x27;,\n",
       "       &#x27;2020-12-01T19:30:00.000000000&#x27;, &#x27;2020-12-01T20:30:00.000000000&#x27;,\n",
       "       &#x27;2020-12-01T21:30:00.000000000&#x27;, &#x27;2020-12-01T22:30:00.000000000&#x27;,\n",
       "       &#x27;2020-12-01T23:30:00.000000000&#x27;], dtype=&#x27;datetime64[ns]&#x27;)</pre></div></li><li class='xr-var-item'><div class='xr-var-name'><span class='xr-has-index'>lon</span></div><div class='xr-var-dims'>(lon)</div><div class='xr-var-dtype'>float64</div><div class='xr-var-preview xr-preview'>-125.0 -124.4 ... -67.5 -66.88</div><input id='attrs-43fee594-ce31-4179-bb6f-1449b6a50adc' class='xr-var-attrs-in' type='checkbox' ><label for='attrs-43fee594-ce31-4179-bb6f-1449b6a50adc' title='Show/Hide attributes'><svg class='icon xr-icon-file-text2'><use xlink:href='#icon-file-text2'></use></svg></label><input id='data-5005e212-f3e6-4b10-834c-eea949b251e4' class='xr-var-data-in' type='checkbox'><label for='data-5005e212-f3e6-4b10-834c-eea949b251e4' title='Show/Hide data repr'><svg class='icon xr-icon-database'><use xlink:href='#icon-database'></use></svg></label><div class='xr-var-attrs'><dl class='xr-attrs'><dt><span>standard_name :</span></dt><dd>longitude</dd><dt><span>long_name :</span></dt><dd>longitude</dd><dt><span>units :</span></dt><dd>degrees_east</dd><dt><span>axis :</span></dt><dd>X</dd></dl></div><div class='xr-var-data'><pre>array([-125.   , -124.375, -123.75 , -123.125, -122.5  , -121.875, -121.25 ,\n",
       "       -120.625, -120.   , -119.375, -118.75 , -118.125, -117.5  , -116.875,\n",
       "       -116.25 , -115.625, -115.   , -114.375, -113.75 , -113.125, -112.5  ,\n",
       "       -111.875, -111.25 , -110.625, -110.   , -109.375, -108.75 , -108.125,\n",
       "       -107.5  , -106.875, -106.25 , -105.625, -105.   , -104.375, -103.75 ,\n",
       "       -103.125, -102.5  , -101.875, -101.25 , -100.625, -100.   ,  -99.375,\n",
       "        -98.75 ,  -98.125,  -97.5  ,  -96.875,  -96.25 ,  -95.625,  -95.   ,\n",
       "        -94.375,  -93.75 ,  -93.125,  -92.5  ,  -91.875,  -91.25 ,  -90.625,\n",
       "        -90.   ,  -89.375,  -88.75 ,  -88.125,  -87.5  ,  -86.875,  -86.25 ,\n",
       "        -85.625,  -85.   ,  -84.375,  -83.75 ,  -83.125,  -82.5  ,  -81.875,\n",
       "        -81.25 ,  -80.625,  -80.   ,  -79.375,  -78.75 ,  -78.125,  -77.5  ,\n",
       "        -76.875,  -76.25 ,  -75.625,  -75.   ,  -74.375,  -73.75 ,  -73.125,\n",
       "        -72.5  ,  -71.875,  -71.25 ,  -70.625,  -70.   ,  -69.375,  -68.75 ,\n",
       "        -68.125,  -67.5  ,  -66.875])</pre></div></li><li class='xr-var-item'><div class='xr-var-name'><span class='xr-has-index'>lat</span></div><div class='xr-var-dims'>(lat)</div><div class='xr-var-dtype'>float64</div><div class='xr-var-preview xr-preview'>25.0 25.5 26.0 ... 48.5 49.0 49.5</div><input id='attrs-b9364328-eadf-4bba-ae12-5c74ac9feb3a' class='xr-var-attrs-in' type='checkbox' ><label for='attrs-b9364328-eadf-4bba-ae12-5c74ac9feb3a' title='Show/Hide attributes'><svg class='icon xr-icon-file-text2'><use xlink:href='#icon-file-text2'></use></svg></label><input id='data-0aec5f48-cb7e-4f28-a92e-9e779a2dda88' class='xr-var-data-in' type='checkbox'><label for='data-0aec5f48-cb7e-4f28-a92e-9e779a2dda88' title='Show/Hide data repr'><svg class='icon xr-icon-database'><use xlink:href='#icon-database'></use></svg></label><div class='xr-var-attrs'><dl class='xr-attrs'><dt><span>standard_name :</span></dt><dd>latitude</dd><dt><span>long_name :</span></dt><dd>latitude</dd><dt><span>units :</span></dt><dd>degrees_north</dd><dt><span>axis :</span></dt><dd>Y</dd></dl></div><div class='xr-var-data'><pre>array([25. , 25.5, 26. , 26.5, 27. , 27.5, 28. , 28.5, 29. , 29.5, 30. , 30.5,\n",
       "       31. , 31.5, 32. , 32.5, 33. , 33.5, 34. , 34.5, 35. , 35.5, 36. , 36.5,\n",
       "       37. , 37.5, 38. , 38.5, 39. , 39.5, 40. , 40.5, 41. , 41.5, 42. , 42.5,\n",
       "       43. , 43.5, 44. , 44.5, 45. , 45.5, 46. , 46.5, 47. , 47.5, 48. , 48.5,\n",
       "       49. , 49.5])</pre></div></li></ul></div></li><li class='xr-section-item'><input id='section-b90fa1fb-7027-43e4-97fb-225e0dda4a8f' class='xr-section-summary-in' type='checkbox'  checked><label for='section-b90fa1fb-7027-43e4-97fb-225e0dda4a8f' class='xr-section-summary' >Data variables: <span>(1)</span></label><div class='xr-section-inline-details'></div><div class='xr-section-details'><ul class='xr-var-list'><li class='xr-var-item'><div class='xr-var-name'><span>TS</span></div><div class='xr-var-dims'>(time, lat, lon)</div><div class='xr-var-dtype'>float32</div><div class='xr-var-preview xr-preview'>...</div><input id='attrs-a3de6dfe-de8c-4378-a131-a3fcbc18eb4e' class='xr-var-attrs-in' type='checkbox' ><label for='attrs-a3de6dfe-de8c-4378-a131-a3fcbc18eb4e' title='Show/Hide attributes'><svg class='icon xr-icon-file-text2'><use xlink:href='#icon-file-text2'></use></svg></label><input id='data-abf055e1-58a3-4172-9496-c73f2050c2c4' class='xr-var-data-in' type='checkbox'><label for='data-abf055e1-58a3-4172-9496-c73f2050c2c4' title='Show/Hide data repr'><svg class='icon xr-icon-database'><use xlink:href='#icon-database'></use></svg></label><div class='xr-var-attrs'><dl class='xr-attrs'><dt><span>standard_name :</span></dt><dd>surface_skin_temperature</dd><dt><span>long_name :</span></dt><dd>surface_skin_temperature</dd><dt><span>units :</span></dt><dd>K</dd><dt><span>fmissing_value :</span></dt><dd>1000000000000000.0</dd><dt><span>vmax :</span></dt><dd>1000000000000000.0</dd><dt><span>vmin :</span></dt><dd>-1000000000000000.0</dd></dl></div><div class='xr-var-data'><pre>array([[[295.05762, 294.94824, ..., 299.5498 , 299.56543],\n",
       "        [294.83887, 294.7998 , ..., 299.25293, 299.32324],\n",
       "        ...,\n",
       "        [272.3695 , 269.85547, ..., 274.33838, 277.63184],\n",
       "        [270.4248 , 276.14258, ..., 273.41846, 273.8235 ]],\n",
       "\n",
       "       [[295.05243, 294.94305, ..., 299.55243, 299.56024],\n",
       "        [294.83368, 294.79462, ..., 299.25555, 299.32587],\n",
       "        ...,\n",
       "        [272.2995 , 269.88837, ..., 274.48407, 278.55243],\n",
       "        [270.3991 , 276.01434, ..., 273.4135 , 273.81122]],\n",
       "\n",
       "       ...,\n",
       "\n",
       "       [[295.00836, 294.899  , ..., 299.5865 , 299.5396 ],\n",
       "        [294.774  , 294.7271 , ..., 299.274  , 299.31305],\n",
       "        ...,\n",
       "        [278.37164, 276.0865 , ..., 275.7232 , 280.5318 ],\n",
       "        [276.75446, 279.45367, ..., 273.72906, 274.5728 ]],\n",
       "\n",
       "       [[295.00388, 294.8945 , ..., 299.5898 , 299.54294],\n",
       "        [294.7695 , 294.72263, ..., 299.2695 , 299.30856],\n",
       "        ...,\n",
       "        [277.332  , 274.90036, ..., 275.67575, 280.9492 ],\n",
       "        [275.1816 , 278.6191 , ..., 273.749  , 274.62106]]], dtype=float32)</pre></div></li></ul></div></li><li class='xr-section-item'><input id='section-7fcc930f-0ed7-4cc4-9d1b-15828b1cb1a0' class='xr-section-summary-in' type='checkbox'  ><label for='section-7fcc930f-0ed7-4cc4-9d1b-15828b1cb1a0' class='xr-section-summary' >Attributes: <span>(32)</span></label><div class='xr-section-inline-details'></div><div class='xr-section-details'><dl class='xr-attrs'><dt><span>CDI :</span></dt><dd>Climate Data Interface version 1.9.8 (https://mpimet.mpg.de/cdi)</dd><dt><span>Conventions :</span></dt><dd>CF-1</dd><dt><span>History :</span></dt><dd>Original file generated: Wed Dec 16 23:48:36 2020 GMT</dd><dt><span>Comment :</span></dt><dd>GMAO filename: d5124_m2_jan10.tavg1_2d_slv_Nx.20201201.nc4</dd><dt><span>Filename :</span></dt><dd>MERRA2_400.tavg1_2d_slv_Nx.20201201.nc4</dd><dt><span>Institution :</span></dt><dd>NASA Global Modeling and Assimilation Office</dd><dt><span>References :</span></dt><dd>http://gmao.gsfc.nasa.gov</dd><dt><span>Format :</span></dt><dd>NetCDF-4/HDF-5</dd><dt><span>SpatialCoverage :</span></dt><dd>global</dd><dt><span>VersionID :</span></dt><dd>5.12.4</dd><dt><span>TemporalRange :</span></dt><dd>1980-01-01 -&gt; 2016-12-31</dd><dt><span>identifier_product_doi_authority :</span></dt><dd>http://dx.doi.org/</dd><dt><span>ShortName :</span></dt><dd>M2T1NXSLV</dd><dt><span>GranuleID :</span></dt><dd>MERRA2_400.tavg1_2d_slv_Nx.20201201.nc4</dd><dt><span>ProductionDateTime :</span></dt><dd>Original file generated: Wed Dec 16 23:48:36 2020 GMT</dd><dt><span>LongName :</span></dt><dd>MERRA2 tavg1_2d_slv_Nx: 2d,1-Hourly,Time-Averaged,Single-Level,Assimilation,Single-Level Diagnostics</dd><dt><span>Title :</span></dt><dd>MERRA2 tavg1_2d_slv_Nx: 2d,1-Hourly,Time-Averaged,Single-Level,Assimilation,Single-Level Diagnostics</dd><dt><span>SouthernmostLatitude :</span></dt><dd>-90.0</dd><dt><span>NorthernmostLatitude :</span></dt><dd>90.0</dd><dt><span>WesternmostLongitude :</span></dt><dd>-180.0</dd><dt><span>EasternmostLongitude :</span></dt><dd>179.375</dd><dt><span>LatitudeResolution :</span></dt><dd>0.5</dd><dt><span>LongitudeResolution :</span></dt><dd>0.625</dd><dt><span>DataResolution :</span></dt><dd>0.5 x 0.625</dd><dt><span>Contact :</span></dt><dd>http://gmao.gsfc.nasa.gov</dd><dt><span>identifier_product_doi :</span></dt><dd>10.5067/VJAFPLI1CSIV</dd><dt><span>RangeBeginningDate :</span></dt><dd>2020-12-01</dd><dt><span>RangeBeginningTime :</span></dt><dd>00:00:00.000000</dd><dt><span>RangeEndingDate :</span></dt><dd>2020-12-01</dd><dt><span>RangeEndingTime :</span></dt><dd>23:59:59.000000</dd><dt><span>history_L34RS :</span></dt><dd>&#x27;Created by L34RS v1.4.1 @ NASA GES DISC on January 23 2021 00:43:14. Spatial: -125.42 -66.709 24.785 49.922. Variables: TS. Timesteps: 12 13 14 15 16 17 18 19 20 21 22 23 24&#x27;</dd><dt><span>CDO :</span></dt><dd>Climate Data Operators version 1.9.8 (https://mpimet.mpg.de/cdo)</dd></dl></div></li></ul></div></div>"
      ],
      "text/plain": [
       "<xarray.Dataset>\n",
       "Dimensions:  (lat: 50, lon: 94, time: 13)\n",
       "Coordinates:\n",
       "  * time     (time) datetime64[ns] 2020-12-01T11:30:00 ... 2020-12-01T23:30:00\n",
       "  * lon      (lon) float64 -125.0 -124.4 -123.8 -123.1 ... -68.12 -67.5 -66.88\n",
       "  * lat      (lat) float64 25.0 25.5 26.0 26.5 27.0 ... 47.5 48.0 48.5 49.0 49.5\n",
       "Data variables:\n",
       "    TS       (time, lat, lon) float32 ...\n",
       "Attributes:\n",
       "    CDI:                               Climate Data Interface version 1.9.8 (...\n",
       "    Conventions:                       CF-1\n",
       "    History:                           Original file generated: Wed Dec 16 23...\n",
       "    Comment:                           GMAO filename: d5124_m2_jan10.tavg1_2d...\n",
       "    Filename:                          MERRA2_400.tavg1_2d_slv_Nx.20201201.nc4\n",
       "    Institution:                       NASA Global Modeling and Assimilation ...\n",
       "    References:                        http://gmao.gsfc.nasa.gov\n",
       "    Format:                            NetCDF-4/HDF-5\n",
       "    SpatialCoverage:                   global\n",
       "    VersionID:                         5.12.4\n",
       "    TemporalRange:                     1980-01-01 -> 2016-12-31\n",
       "    identifier_product_doi_authority:  http://dx.doi.org/\n",
       "    ShortName:                         M2T1NXSLV\n",
       "    GranuleID:                         MERRA2_400.tavg1_2d_slv_Nx.20201201.nc4\n",
       "    ProductionDateTime:                Original file generated: Wed Dec 16 23...\n",
       "    LongName:                          MERRA2 tavg1_2d_slv_Nx: 2d,1-Hourly,Ti...\n",
       "    Title:                             MERRA2 tavg1_2d_slv_Nx: 2d,1-Hourly,Ti...\n",
       "    SouthernmostLatitude:              -90.0\n",
       "    NorthernmostLatitude:              90.0\n",
       "    WesternmostLongitude:              -180.0\n",
       "    EasternmostLongitude:              179.375\n",
       "    LatitudeResolution:                0.5\n",
       "    LongitudeResolution:               0.625\n",
       "    DataResolution:                    0.5 x 0.625\n",
       "    Contact:                           http://gmao.gsfc.nasa.gov\n",
       "    identifier_product_doi:            10.5067/VJAFPLI1CSIV\n",
       "    RangeBeginningDate:                2020-12-01\n",
       "    RangeBeginningTime:                00:00:00.000000\n",
       "    RangeEndingDate:                   2020-12-01\n",
       "    RangeEndingTime:                   23:59:59.000000\n",
       "    history_L34RS:                     'Created by L34RS v1.4.1 @ NASA GES DI...\n",
       "    CDO:                               Climate Data Operators version 1.9.8 (..."
      ]
     },
     "execution_count": 13,
     "metadata": {},
     "output_type": "execute_result"
    }
   ],
   "source": [
    "nc_data = xr.open_dataset(file)\n",
    "nc_data"
   ]
  },
  {
   "cell_type": "code",
   "execution_count": 15,
   "metadata": {},
   "outputs": [
    {
     "data": {
      "text/html": [
       "<div>\n",
       "<style scoped>\n",
       "    .dataframe tbody tr th:only-of-type {\n",
       "        vertical-align: middle;\n",
       "    }\n",
       "\n",
       "    .dataframe tbody tr th {\n",
       "        vertical-align: top;\n",
       "    }\n",
       "\n",
       "    .dataframe thead th {\n",
       "        text-align: right;\n",
       "    }\n",
       "</style>\n",
       "<table border=\"1\" class=\"dataframe\">\n",
       "  <thead>\n",
       "    <tr style=\"text-align: right;\">\n",
       "      <th></th>\n",
       "      <th></th>\n",
       "      <th></th>\n",
       "      <th>TS</th>\n",
       "    </tr>\n",
       "    <tr>\n",
       "      <th>lat</th>\n",
       "      <th>lon</th>\n",
       "      <th>time</th>\n",
       "      <th></th>\n",
       "    </tr>\n",
       "  </thead>\n",
       "  <tbody>\n",
       "    <tr>\n",
       "      <th rowspan=\"5\" valign=\"top\">25.0</th>\n",
       "      <th rowspan=\"5\" valign=\"top\">-125.0</th>\n",
       "      <th>2020-12-01 11:30:00</th>\n",
       "      <td>295.057617</td>\n",
       "    </tr>\n",
       "    <tr>\n",
       "      <th>2020-12-01 12:30:00</th>\n",
       "      <td>295.052429</td>\n",
       "    </tr>\n",
       "    <tr>\n",
       "      <th>2020-12-01 13:30:00</th>\n",
       "      <td>295.047150</td>\n",
       "    </tr>\n",
       "    <tr>\n",
       "      <th>2020-12-01 14:30:00</th>\n",
       "      <td>295.046356</td>\n",
       "    </tr>\n",
       "    <tr>\n",
       "      <th>2020-12-01 15:30:00</th>\n",
       "      <td>295.041718</td>\n",
       "    </tr>\n",
       "  </tbody>\n",
       "</table>\n",
       "</div>"
      ],
      "text/plain": [
       "                                         TS\n",
       "lat  lon    time                           \n",
       "25.0 -125.0 2020-12-01 11:30:00  295.057617\n",
       "            2020-12-01 12:30:00  295.052429\n",
       "            2020-12-01 13:30:00  295.047150\n",
       "            2020-12-01 14:30:00  295.046356\n",
       "            2020-12-01 15:30:00  295.041718"
      ]
     },
     "execution_count": 15,
     "metadata": {},
     "output_type": "execute_result"
    }
   ],
   "source": [
    "df = nc_data.to_dataframe()"
   ]
  },
  {
   "cell_type": "code",
   "execution_count": 42,
   "metadata": {},
   "outputs": [
    {
     "data": {
      "text/plain": [
       "TS    295.003876\n",
       "Name: (25.0, -125.0, 2020-12-01 23:30:00), dtype: float32"
      ]
     },
     "execution_count": 42,
     "metadata": {},
     "output_type": "execute_result"
    }
   ],
   "source": [
    "df.iloc[12]"
   ]
  },
  {
   "cell_type": "code",
   "execution_count": 58,
   "metadata": {},
   "outputs": [],
   "source": [
    "df = df.reset_index()"
   ]
  },
  {
   "cell_type": "code",
   "execution_count": 59,
   "metadata": {},
   "outputs": [
    {
     "data": {
      "text/html": [
       "<div>\n",
       "<style scoped>\n",
       "    .dataframe tbody tr th:only-of-type {\n",
       "        vertical-align: middle;\n",
       "    }\n",
       "\n",
       "    .dataframe tbody tr th {\n",
       "        vertical-align: top;\n",
       "    }\n",
       "\n",
       "    .dataframe thead th {\n",
       "        text-align: right;\n",
       "    }\n",
       "</style>\n",
       "<table border=\"1\" class=\"dataframe\">\n",
       "  <thead>\n",
       "    <tr style=\"text-align: right;\">\n",
       "      <th></th>\n",
       "      <th>lat</th>\n",
       "      <th>lon</th>\n",
       "      <th>time</th>\n",
       "      <th>TS</th>\n",
       "    </tr>\n",
       "  </thead>\n",
       "  <tbody>\n",
       "    <tr>\n",
       "      <th>0</th>\n",
       "      <td>25.0</td>\n",
       "      <td>-125.0</td>\n",
       "      <td>2020-12-01 11:30:00</td>\n",
       "      <td>295.057617</td>\n",
       "    </tr>\n",
       "    <tr>\n",
       "      <th>1</th>\n",
       "      <td>25.0</td>\n",
       "      <td>-125.0</td>\n",
       "      <td>2020-12-01 12:30:00</td>\n",
       "      <td>295.052429</td>\n",
       "    </tr>\n",
       "    <tr>\n",
       "      <th>2</th>\n",
       "      <td>25.0</td>\n",
       "      <td>-125.0</td>\n",
       "      <td>2020-12-01 13:30:00</td>\n",
       "      <td>295.047150</td>\n",
       "    </tr>\n",
       "    <tr>\n",
       "      <th>3</th>\n",
       "      <td>25.0</td>\n",
       "      <td>-125.0</td>\n",
       "      <td>2020-12-01 14:30:00</td>\n",
       "      <td>295.046356</td>\n",
       "    </tr>\n",
       "    <tr>\n",
       "      <th>4</th>\n",
       "      <td>25.0</td>\n",
       "      <td>-125.0</td>\n",
       "      <td>2020-12-01 15:30:00</td>\n",
       "      <td>295.041718</td>\n",
       "    </tr>\n",
       "  </tbody>\n",
       "</table>\n",
       "</div>"
      ],
      "text/plain": [
       "    lat    lon                time          TS\n",
       "0  25.0 -125.0 2020-12-01 11:30:00  295.057617\n",
       "1  25.0 -125.0 2020-12-01 12:30:00  295.052429\n",
       "2  25.0 -125.0 2020-12-01 13:30:00  295.047150\n",
       "3  25.0 -125.0 2020-12-01 14:30:00  295.046356\n",
       "4  25.0 -125.0 2020-12-01 15:30:00  295.041718"
      ]
     },
     "execution_count": 59,
     "metadata": {},
     "output_type": "execute_result"
    }
   ],
   "source": [
    "df.head()"
   ]
  },
  {
   "cell_type": "markdown",
   "metadata": {},
   "source": [
    "### Divide into Time Zone"
   ]
  },
  {
   "cell_type": "code",
   "execution_count": 101,
   "metadata": {},
   "outputs": [
    {
     "data": {
      "text/html": [
       "<div>\n",
       "<style scoped>\n",
       "    .dataframe tbody tr th:only-of-type {\n",
       "        vertical-align: middle;\n",
       "    }\n",
       "\n",
       "    .dataframe tbody tr th {\n",
       "        vertical-align: top;\n",
       "    }\n",
       "\n",
       "    .dataframe thead th {\n",
       "        text-align: right;\n",
       "    }\n",
       "</style>\n",
       "<table border=\"1\" class=\"dataframe\">\n",
       "  <thead>\n",
       "    <tr style=\"text-align: right;\">\n",
       "      <th></th>\n",
       "      <th>lat</th>\n",
       "      <th>lon</th>\n",
       "      <th>time</th>\n",
       "      <th>TS</th>\n",
       "    </tr>\n",
       "  </thead>\n",
       "  <tbody>\n",
       "    <tr>\n",
       "      <th>0</th>\n",
       "      <td>25.0</td>\n",
       "      <td>-125.0</td>\n",
       "      <td>2020-12-01 11:30:00</td>\n",
       "      <td>295.057617</td>\n",
       "    </tr>\n",
       "    <tr>\n",
       "      <th>1</th>\n",
       "      <td>25.0</td>\n",
       "      <td>-125.0</td>\n",
       "      <td>2020-12-01 12:30:00</td>\n",
       "      <td>295.052429</td>\n",
       "    </tr>\n",
       "    <tr>\n",
       "      <th>2</th>\n",
       "      <td>25.0</td>\n",
       "      <td>-125.0</td>\n",
       "      <td>2020-12-01 13:30:00</td>\n",
       "      <td>295.047150</td>\n",
       "    </tr>\n",
       "    <tr>\n",
       "      <th>3</th>\n",
       "      <td>25.0</td>\n",
       "      <td>-125.0</td>\n",
       "      <td>2020-12-01 14:30:00</td>\n",
       "      <td>295.046356</td>\n",
       "    </tr>\n",
       "    <tr>\n",
       "      <th>4</th>\n",
       "      <td>25.0</td>\n",
       "      <td>-125.0</td>\n",
       "      <td>2020-12-01 15:30:00</td>\n",
       "      <td>295.041718</td>\n",
       "    </tr>\n",
       "  </tbody>\n",
       "</table>\n",
       "</div>"
      ],
      "text/plain": [
       "    lat    lon                time          TS\n",
       "0  25.0 -125.0 2020-12-01 11:30:00  295.057617\n",
       "1  25.0 -125.0 2020-12-01 12:30:00  295.052429\n",
       "2  25.0 -125.0 2020-12-01 13:30:00  295.047150\n",
       "3  25.0 -125.0 2020-12-01 14:30:00  295.046356\n",
       "4  25.0 -125.0 2020-12-01 15:30:00  295.041718"
      ]
     },
     "execution_count": 101,
     "metadata": {},
     "output_type": "execute_result"
    }
   ],
   "source": [
    "pacific_lat = [-125, -114] #ish\n",
    "\n",
    "pst_df = df[(df[\"lon\"]>= pacific_lat[0]) & (df[\"lon\"]< pacific_lat[1])]\n",
    "pst_df.head()"
   ]
  },
  {
   "cell_type": "code",
   "execution_count": 102,
   "metadata": {},
   "outputs": [
    {
     "data": {
      "text/plain": [
       "array([-125.   , -124.375, -123.75 , -123.125, -122.5  , -121.875,\n",
       "       -121.25 , -120.625, -120.   , -119.375, -118.75 , -118.125,\n",
       "       -117.5  , -116.875, -116.25 , -115.625, -115.   , -114.375])"
      ]
     },
     "execution_count": 102,
     "metadata": {},
     "output_type": "execute_result"
    }
   ],
   "source": [
    "pst_df['lon'].unique()"
   ]
  },
  {
   "cell_type": "code",
   "execution_count": 110,
   "metadata": {},
   "outputs": [
    {
     "data": {
      "text/plain": [
       "(11700, 4)"
      ]
     },
     "execution_count": 110,
     "metadata": {},
     "output_type": "execute_result"
    }
   ],
   "source": [
    "pst_df.shape"
   ]
  },
  {
   "cell_type": "markdown",
   "metadata": {},
   "source": [
    "### The tutorial way:"
   ]
  },
  {
   "cell_type": "code",
   "execution_count": 139,
   "metadata": {},
   "outputs": [],
   "source": [
    "data = Dataset(file, mode='r')"
   ]
  },
  {
   "cell_type": "code",
   "execution_count": 140,
   "metadata": {},
   "outputs": [
    {
     "name": "stdout",
     "output_type": "stream",
     "text": [
      "<class 'netCDF4._netCDF4.Dataset'>\n",
      "root group (NETCDF4 data model, file format HDF5):\n",
      "    CDI: Climate Data Interface version 1.9.8 (https://mpimet.mpg.de/cdi)\n",
      "    Conventions: CF-1\n",
      "    History: Original file generated: Wed Dec 16 23:48:36 2020 GMT\n",
      "    Comment: GMAO filename: d5124_m2_jan10.tavg1_2d_slv_Nx.20201201.nc4\n",
      "    Filename: MERRA2_400.tavg1_2d_slv_Nx.20201201.nc4\n",
      "    Institution: NASA Global Modeling and Assimilation Office\n",
      "    References: http://gmao.gsfc.nasa.gov\n",
      "    Format: NetCDF-4/HDF-5\n",
      "    SpatialCoverage: global\n",
      "    VersionID: 5.12.4\n",
      "    TemporalRange: 1980-01-01 -> 2016-12-31\n",
      "    identifier_product_doi_authority: http://dx.doi.org/\n",
      "    ShortName: M2T1NXSLV\n",
      "    GranuleID: MERRA2_400.tavg1_2d_slv_Nx.20201201.nc4\n",
      "    ProductionDateTime: Original file generated: Wed Dec 16 23:48:36 2020 GMT\n",
      "    LongName: MERRA2 tavg1_2d_slv_Nx: 2d,1-Hourly,Time-Averaged,Single-Level,Assimilation,Single-Level Diagnostics\n",
      "    Title: MERRA2 tavg1_2d_slv_Nx: 2d,1-Hourly,Time-Averaged,Single-Level,Assimilation,Single-Level Diagnostics\n",
      "    SouthernmostLatitude: -90.0\n",
      "    NorthernmostLatitude: 90.0\n",
      "    WesternmostLongitude: -180.0\n",
      "    EasternmostLongitude: 179.375\n",
      "    LatitudeResolution: 0.5\n",
      "    LongitudeResolution: 0.625\n",
      "    DataResolution: 0.5 x 0.625\n",
      "    Contact: http://gmao.gsfc.nasa.gov\n",
      "    identifier_product_doi: 10.5067/VJAFPLI1CSIV\n",
      "    RangeBeginningDate: 2020-12-01\n",
      "    RangeBeginningTime: 00:00:00.000000\n",
      "    RangeEndingDate: 2020-12-01\n",
      "    RangeEndingTime: 23:59:59.000000\n",
      "    history_L34RS: 'Created by L34RS v1.4.1 @ NASA GES DISC on January 23 2021 00:43:14. Spatial: -125.42 -66.709 24.785 49.922. Variables: TS. Timesteps: 12 13 14 15 16 17 18 19 20 21 22 23 24'\n",
      "    CDO: Climate Data Operators version 1.9.8 (https://mpimet.mpg.de/cdo)\n",
      "    dimensions(sizes): time(13), lon(94), lat(50)\n",
      "    variables(dimensions): int32 \u001b[4mtime\u001b[0m(time), float64 \u001b[4mlon\u001b[0m(lon), float64 \u001b[4mlat\u001b[0m(lat), float32 \u001b[4mTS\u001b[0m(time,lat,lon)\n",
      "    groups: \n",
      "\n"
     ]
    },
    {
     "name": "stderr",
     "output_type": "stream",
     "text": [
      "/Users/Sarah/anaconda3/lib/python3.7/site-packages/ipykernel_launcher.py:1: DeprecationWarning: tostring() is deprecated. Use tobytes() instead.\n",
      "  \"\"\"Entry point for launching an IPython kernel.\n"
     ]
    }
   ],
   "source": [
    "print(data)"
   ]
  },
  {
   "cell_type": "code",
   "execution_count": 58,
   "metadata": {},
   "outputs": [
    {
     "name": "stdout",
     "output_type": "stream",
     "text": [
      "odict_keys(['time', 'lon', 'lat', 'TS'])\n"
     ]
    }
   ],
   "source": [
    "print(data.variables.keys())"
   ]
  },
  {
   "cell_type": "code",
   "execution_count": 81,
   "metadata": {},
   "outputs": [
    {
     "data": {
      "text/plain": [
       "OrderedDict([('time',\n",
       "              <class 'netCDF4._netCDF4.Variable'>\n",
       "              int32 time(time)\n",
       "                  standard_name: time\n",
       "                  long_name: time\n",
       "                  units: minutes since 2020-12-31 00:30:00\n",
       "                  calendar: standard\n",
       "                  axis: T\n",
       "              unlimited dimensions: time\n",
       "              current shape = (13,)\n",
       "              filling off),\n",
       "             ('lon',\n",
       "              <class 'netCDF4._netCDF4.Variable'>\n",
       "              float64 lon(lon)\n",
       "                  standard_name: longitude\n",
       "                  long_name: longitude\n",
       "                  units: degrees_east\n",
       "                  axis: X\n",
       "              unlimited dimensions: \n",
       "              current shape = (94,)\n",
       "              filling off),\n",
       "             ('lat',\n",
       "              <class 'netCDF4._netCDF4.Variable'>\n",
       "              float64 lat(lat)\n",
       "                  standard_name: latitude\n",
       "                  long_name: latitude\n",
       "                  units: degrees_north\n",
       "                  axis: Y\n",
       "              unlimited dimensions: \n",
       "              current shape = (50,)\n",
       "              filling off),\n",
       "             ('TS',\n",
       "              <class 'netCDF4._netCDF4.Variable'>\n",
       "              float32 TS(time, lat, lon)\n",
       "                  standard_name: surface_skin_temperature\n",
       "                  long_name: surface_skin_temperature\n",
       "                  units: K\n",
       "                  _FillValue: 1000000000000000.0\n",
       "                  missing_value: 1000000000000000.0\n",
       "                  fmissing_value: 1000000000000000.0\n",
       "                  vmax: 1000000000000000.0\n",
       "                  vmin: -1000000000000000.0\n",
       "              unlimited dimensions: time\n",
       "              current shape = (13, 50, 94)\n",
       "              filling off)])"
      ]
     },
     "execution_count": 81,
     "metadata": {},
     "output_type": "execute_result"
    }
   ],
   "source": [
    "data.variables"
   ]
  },
  {
   "cell_type": "code",
   "execution_count": 166,
   "metadata": {},
   "outputs": [],
   "source": [
    "lons = data.variables['lon']\n",
    "lats = data.variables['lat']\n",
    "lon, lat = np.meshgrid(lons, lats)\n",
    "temp = data.variables['TS']"
   ]
  },
  {
   "cell_type": "code",
   "execution_count": 167,
   "metadata": {},
   "outputs": [],
   "source": [
    "temp_nans = temp[:]\n",
    "_FillValuetemp = temp._FillValue\n",
    "temp_nans[temp_nans == _FillValuetemp] = np.nan"
   ]
  },
  {
   "cell_type": "code",
   "execution_count": 168,
   "metadata": {},
   "outputs": [],
   "source": [
    "#F = (K - 273.15)* 1.8000 + 32.00\n",
    "\n",
    "tempF = (temp_nans - 273.15)* 1.8000 + 32.00"
   ]
  },
  {
   "cell_type": "code",
   "execution_count": 169,
   "metadata": {},
   "outputs": [
    {
     "data": {
      "text/plain": [
       "50"
      ]
     },
     "execution_count": 169,
     "metadata": {},
     "output_type": "execute_result"
    }
   ],
   "source": [
    "len(data.variables['TS'][0])"
   ]
  },
  {
   "cell_type": "code",
   "execution_count": 170,
   "metadata": {},
   "outputs": [
    {
     "data": {
      "text/plain": [
       "94"
      ]
     },
     "execution_count": 170,
     "metadata": {},
     "output_type": "execute_result"
    }
   ],
   "source": [
    "len(tempF[0][0])"
   ]
  },
  {
   "cell_type": "code",
   "execution_count": 172,
   "metadata": {},
   "outputs": [
    {
     "data": {
      "text/plain": [
       "<class 'netCDF4._netCDF4.Variable'>\n",
       "float64 lat(lat)\n",
       "    standard_name: latitude\n",
       "    long_name: latitude\n",
       "    units: degrees_north\n",
       "    axis: Y\n",
       "unlimited dimensions: \n",
       "current shape = (50,)\n",
       "filling off"
      ]
     },
     "execution_count": 172,
     "metadata": {},
     "output_type": "execute_result"
    }
   ],
   "source": [
    "lats\n"
   ]
  },
  {
   "cell_type": "markdown",
   "metadata": {},
   "source": [
    "https://stackoverflow.com/questions/29135885/netcdf4-extract-for-subset-of-lat-lon\n",
    "\n",
    "lats = f.variables['latitude'][:] \n",
    "lons = f.variables['longitude'][:]\n",
    "lat_bnds, lon_bnds = [40, 43], [-96, -89]\n",
    "\n",
    "lat_inds = np.where((lats > lat_bnds[0]) & (lats < lat_bnds[1]))\n",
    "lon_inds = np.where((lons > lon_bnds[0]) & (lons < lon_bnds[1]))\n",
    "\n",
    "air_subset = f.variables['air'][:,lat_inds,lon_inds]\n"
   ]
  },
  {
   "cell_type": "code",
   "execution_count": 192,
   "metadata": {},
   "outputs": [
    {
     "ename": "IndexError",
     "evalue": "shape mismatch: indexing arrays could not be broadcast together with shapes (1,2) (1,94) ",
     "output_type": "error",
     "traceback": [
      "\u001b[0;31m---------------------------------------------------------------------------\u001b[0m",
      "\u001b[0;31mIndexError\u001b[0m                                Traceback (most recent call last)",
      "\u001b[0;32m<ipython-input-192-43253c1032e5>\u001b[0m in \u001b[0;36m<module>\u001b[0;34m\u001b[0m\n\u001b[1;32m      5\u001b[0m \u001b[0mlat_inds\u001b[0m \u001b[0;34m=\u001b[0m \u001b[0mnp\u001b[0m\u001b[0;34m.\u001b[0m\u001b[0mwhere\u001b[0m\u001b[0;34m(\u001b[0m\u001b[0;34m(\u001b[0m\u001b[0mlats\u001b[0m\u001b[0;34m[\u001b[0m\u001b[0;34m:\u001b[0m\u001b[0;34m]\u001b[0m \u001b[0;34m>\u001b[0m \u001b[0mlat_bnds\u001b[0m\u001b[0;34m[\u001b[0m\u001b[0;36m0\u001b[0m\u001b[0;34m]\u001b[0m\u001b[0;34m)\u001b[0m \u001b[0;34m&\u001b[0m \u001b[0;34m(\u001b[0m\u001b[0mlats\u001b[0m\u001b[0;34m[\u001b[0m\u001b[0;34m:\u001b[0m\u001b[0;34m]\u001b[0m \u001b[0;34m<\u001b[0m \u001b[0mlat_bnds\u001b[0m\u001b[0;34m[\u001b[0m\u001b[0;36m1\u001b[0m\u001b[0;34m]\u001b[0m\u001b[0;34m)\u001b[0m\u001b[0;34m)\u001b[0m\u001b[0;34m\u001b[0m\u001b[0;34m\u001b[0m\u001b[0m\n\u001b[1;32m      6\u001b[0m \u001b[0mlon_inds\u001b[0m \u001b[0;34m=\u001b[0m \u001b[0mnp\u001b[0m\u001b[0;34m.\u001b[0m\u001b[0mwhere\u001b[0m\u001b[0;34m(\u001b[0m\u001b[0;34m(\u001b[0m\u001b[0mlons\u001b[0m\u001b[0;34m[\u001b[0m\u001b[0;34m:\u001b[0m\u001b[0;34m]\u001b[0m \u001b[0;34m>\u001b[0m \u001b[0mlon_bnds\u001b[0m\u001b[0;34m[\u001b[0m\u001b[0;36m0\u001b[0m\u001b[0;34m]\u001b[0m\u001b[0;34m)\u001b[0m \u001b[0;34m&\u001b[0m \u001b[0;34m(\u001b[0m\u001b[0mlons\u001b[0m\u001b[0;34m[\u001b[0m\u001b[0;34m:\u001b[0m\u001b[0;34m]\u001b[0m \u001b[0;34m<\u001b[0m \u001b[0mlon_bnds\u001b[0m\u001b[0;34m[\u001b[0m\u001b[0;36m1\u001b[0m\u001b[0;34m]\u001b[0m\u001b[0;34m)\u001b[0m\u001b[0;34m)\u001b[0m\u001b[0;34m\u001b[0m\u001b[0;34m\u001b[0m\u001b[0m\n\u001b[0;32m----> 7\u001b[0;31m \u001b[0mpacific\u001b[0m \u001b[0;34m=\u001b[0m \u001b[0mtempF\u001b[0m\u001b[0;34m[\u001b[0m\u001b[0;34m:\u001b[0m\u001b[0;34m,\u001b[0m\u001b[0mlat_inds\u001b[0m\u001b[0;34m,\u001b[0m \u001b[0mlon_inds\u001b[0m\u001b[0;34m]\u001b[0m\u001b[0;34m\u001b[0m\u001b[0;34m\u001b[0m\u001b[0m\n\u001b[0m",
      "\u001b[0;32m~/anaconda3/lib/python3.7/site-packages/numpy/ma/core.py\u001b[0m in \u001b[0;36m__getitem__\u001b[0;34m(self, indx)\u001b[0m\n\u001b[1;32m   3223\u001b[0m         \u001b[0;31m# mask of being reshaped if it hasn't been set up properly yet\u001b[0m\u001b[0;34m\u001b[0m\u001b[0;34m\u001b[0m\u001b[0;34m\u001b[0m\u001b[0m\n\u001b[1;32m   3224\u001b[0m         \u001b[0;31m# So it's easier to stick to the current version\u001b[0m\u001b[0;34m\u001b[0m\u001b[0;34m\u001b[0m\u001b[0;34m\u001b[0m\u001b[0m\n\u001b[0;32m-> 3225\u001b[0;31m         \u001b[0mdout\u001b[0m \u001b[0;34m=\u001b[0m \u001b[0mself\u001b[0m\u001b[0;34m.\u001b[0m\u001b[0mdata\u001b[0m\u001b[0;34m[\u001b[0m\u001b[0mindx\u001b[0m\u001b[0;34m]\u001b[0m\u001b[0;34m\u001b[0m\u001b[0;34m\u001b[0m\u001b[0m\n\u001b[0m\u001b[1;32m   3226\u001b[0m         \u001b[0m_mask\u001b[0m \u001b[0;34m=\u001b[0m \u001b[0mself\u001b[0m\u001b[0;34m.\u001b[0m\u001b[0m_mask\u001b[0m\u001b[0;34m\u001b[0m\u001b[0;34m\u001b[0m\u001b[0m\n\u001b[1;32m   3227\u001b[0m \u001b[0;34m\u001b[0m\u001b[0m\n",
      "\u001b[0;31mIndexError\u001b[0m: shape mismatch: indexing arrays could not be broadcast together with shapes (1,2) (1,94) "
     ]
    }
   ],
   "source": [
    "#lats = data.variables['lat'][:] \n",
    "#lons = data.variables['lon'][:]\n",
    "lat_bnds, lon_bnds = [24.785, 26.000], [-125.42, -66.709]\n",
    "#lats: 24.785 to 49.922\n",
    "lat_inds = np.where((lats[:] > lat_bnds[0]) & (lats[:] < lat_bnds[1]))\n",
    "lon_inds = np.where((lons[:] > lon_bnds[0]) & (lons[:] < lon_bnds[1]))\n",
    "pacific = tempF[:,lat_inds, lon_inds]"
   ]
  },
  {
   "cell_type": "code",
   "execution_count": 191,
   "metadata": {},
   "outputs": [
    {
     "data": {
      "text/plain": [
       "masked_array(\n",
       "  data=[[[[71.433716, 71.23685 , 70.899345, ..., 79.336845, 79.51965 ,\n",
       "           79.54778 ],\n",
       "          [71.03997 , 70.96966 , 70.618095, ..., 78.95715 , 78.98528 ,\n",
       "           79.11185 ],\n",
       "          [70.618095, 70.18216 , 69.64778 , ..., 78.78841 , 78.999344,\n",
       "           79.055595]]],\n",
       "\n",
       "\n",
       "        [[[71.42438 , 71.22751 , 70.89001 , ..., 79.34157 , 79.52438 ,\n",
       "           79.538445],\n",
       "          [71.03063 , 70.96032 , 70.60876 , ..., 78.96188 , 78.990005,\n",
       "           79.11657 ],\n",
       "          [70.60876 , 70.17282 , 69.63844 , ..., 78.77907 , 79.004074,\n",
       "           79.04626 ]]],\n",
       "\n",
       "\n",
       "        [[[71.41488 , 71.218   , 70.88051 , ..., 79.34613 , 79.528946,\n",
       "           79.543   ],\n",
       "          [71.02113 , 70.95082 , 70.59926 , ..., 78.95238 , 78.99457 ,\n",
       "           79.10707 ],\n",
       "          [70.59926 , 70.163315, 69.62894 , ..., 78.78363 , 78.99457 ,\n",
       "           79.05081 ]]],\n",
       "\n",
       "\n",
       "        ...,\n",
       "\n",
       "\n",
       "        [[[71.36116 , 71.164276, 70.81271 , ..., 79.334595, 79.58772 ,\n",
       "           79.50334 ],\n",
       "          [70.939285, 70.854904, 70.50334 , ..., 78.96896 , 79.02522 ,\n",
       "           79.08147 ],\n",
       "          [70.48928 , 70.095535, 69.57522 , ..., 78.772095, 78.96896 ,\n",
       "           78.99709 ]]],\n",
       "\n",
       "\n",
       "        [[[71.34506 , 71.148186, 70.79662 , ..., 79.332565, 79.585686,\n",
       "           79.50131 ],\n",
       "          [70.92319 , 70.838806, 70.48724 , ..., 78.966934, 79.023186,\n",
       "           79.0935  ],\n",
       "          [70.48724 , 70.07944 , 69.57318 , ..., 78.770065, 78.95287 ,\n",
       "           78.995056]]],\n",
       "\n",
       "\n",
       "        [[[71.33699 , 71.14011 , 70.78854 , ..., 79.324486, 79.591675,\n",
       "           79.50729 ],\n",
       "          [70.915115, 70.830734, 70.46511 , ..., 78.97292 , 79.01511 ,\n",
       "           79.08542 ],\n",
       "          [70.46511 , 70.071365, 69.56511 , ..., 78.77605 , 78.94479 ,\n",
       "           78.986984]]]],\n",
       "  mask=False,\n",
       "  fill_value=1e+20,\n",
       "  dtype=float32)"
      ]
     },
     "execution_count": 191,
     "metadata": {},
     "output_type": "execute_result"
    }
   ],
   "source": [
    "pacific"
   ]
  },
  {
   "cell_type": "markdown",
   "metadata": {},
   "source": [
    "https://stackoverflow.com/questions/14035148/import-netcdf-file-to-pandas-dataframe \n",
    "\n",
    "url='http://geoport-dev.whoi.edu/thredds/dodsC/HUDSON_SVALLEY/5951adc-a1h.nc'\n",
    "vname = 'Tx_1211'\n",
    "station = 0\n",
    "\n",
    "nc = netCDF4.Dataset(url)\n",
    "h = nc.variables[vname]\n",
    "times = nc.variables['time']\n",
    "jd = netCDF4.num2date(times[:],times.units)\n",
    "hs = pd.Series(h[:,station],index=jd)"
   ]
  },
  {
   "cell_type": "code",
   "execution_count": 100,
   "metadata": {},
   "outputs": [
    {
     "name": "stderr",
     "output_type": "stream",
     "text": [
      "/Users/Sarah/anaconda3/lib/python3.7/site-packages/ipykernel_launcher.py:2: DeprecationWarning: tostring() is deprecated. Use tobytes() instead.\n",
      "  \n"
     ]
    },
    {
     "data": {
      "text/plain": [
       "masked_array(data=[ 660,  720,  780,  840,  900,  960, 1020, 1080, 1140,\n",
       "                   1200, 1260, 1320, 1380],\n",
       "             mask=False,\n",
       "       fill_value=999999,\n",
       "            dtype=int32)"
      ]
     },
     "execution_count": 100,
     "metadata": {},
     "output_type": "execute_result"
    }
   ],
   "source": [
    "times = data.variables['time']\n",
    "jd = netCDF4.num2date(times[:],times.units)\n",
    "#as_series = pd.Series(tempF,index=jd)\n",
    "times[:]\n"
   ]
  },
  {
   "cell_type": "code",
   "execution_count": 182,
   "metadata": {},
   "outputs": [
    {
     "data": {
      "text/plain": [
       "50"
      ]
     },
     "execution_count": 182,
     "metadata": {},
     "output_type": "execute_result"
    }
   ],
   "source": [
    "temp_daily_avg = np.nanmean(tempF, axis=0)\n",
    "len(temp_daily_avg)"
   ]
  },
  {
   "cell_type": "code",
   "execution_count": 181,
   "metadata": {},
   "outputs": [
    {
     "data": {
      "text/plain": [
       "1"
      ]
     },
     "execution_count": 181,
     "metadata": {},
     "output_type": "execute_result"
    }
   ],
   "source": [
    "avg_temp_pacific = np.nanmean(pacific, axis=0)\n",
    "len(avg_temp_pacific)"
   ]
  },
  {
   "cell_type": "code",
   "execution_count": 65,
   "metadata": {},
   "outputs": [],
   "source": [
    "#to do: \n",
    "\n",
    "# 3) change map to US only\n",
    "# 4) Map num days below freezing?\n",
    "# 5) repeat full process for Alaska and Hawaii (later)"
   ]
  },
  {
   "cell_type": "code",
   "execution_count": 177,
   "metadata": {},
   "outputs": [],
   "source": [
    "# Set the figure size, projection, and extent\n",
    "def map_temp(temperature=temp_daily_avg):\n",
    "    fig = plt.figure(figsize=(20,10))\n",
    "    ax = plt.axes(projection=ccrs.Robinson())\n",
    "    ax.set_extent([-400,-180,80,300])\n",
    "    #ax.set_global()\n",
    "    #ax.coastlines(resolution=\"50m\",linewidth=1)\n",
    "    ax.coastlines(resolution=\"110m\",linewidth=1)\n",
    "    ax.gridlines(linestyle='--',color='black')\n",
    "\n",
    "\n",
    "    # Set contour levels, then draw the plot and a colorbar\n",
    "    #clevs = np.arange(0,19,1)\n",
    "    plt.contourf(lon, lat, temperature , transform=ccrs.PlateCarree(),cmap=plt.cm.jet)\n",
    "    plt.title('MERRA-2 Daily Average gound temperature, {}'.format(date), size=14)\n",
    "    cb = plt.colorbar(ax=ax, orientation=\"vertical\", pad=0.02, aspect=16, shrink=0.8)\n",
    "    cb.set_label('F',size=12,rotation=0,labelpad=15)\n",
    "    cb.ax.tick_params(labelsize=10)\n"
   ]
  },
  {
   "cell_type": "code",
   "execution_count": 193,
   "metadata": {},
   "outputs": [
    {
     "data": {
      "image/png": "[encoded data removed]",
      "text/plain": [
       "<Figure size 1440x720 with 2 Axes>"
      ]
     },
     "metadata": {
      "needs_background": "light"
     },
     "output_type": "display_data"
    }
   ],
   "source": [
    "map_temp()"
   ]
  }
 ],
 "metadata": {
  "kernelspec": {
   "display_name": "Python 3",
   "language": "python",
   "name": "python3"
  },
  "language_info": {
   "codemirror_mode": {
    "name": "ipython",
    "version": 3
   },
   "file_extension": ".py",
   "mimetype": "text/x-python",
   "name": "python",
   "nbconvert_exporter": "python",
   "pygments_lexer": "ipython3",
   "version": "3.7.1"
  }
 },
 "nbformat": 4,
 "nbformat_minor": 4
}
